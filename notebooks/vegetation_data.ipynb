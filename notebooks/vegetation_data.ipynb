{
 "cells": [
  {
   "cell_type": "markdown",
   "metadata": {
    "id": "qgwUgXumUdvH"
   },
   "source": [
    "download"
   ]
  },
  {
   "cell_type": "code",
   "execution_count": 1,
   "metadata": {
    "id": "1wlHrWnEUX6W",
    "scrolled": true
   },
   "outputs": [
    {
     "name": "stdout",
     "output_type": "stream",
     "text": [
      "Requirement already satisfied: geemap in c:\\users\\hashim\\appdata\\local\\programs\\python\\python39\\lib\\site-packages (0.8.18)"
     ]
    },
    {
     "name": "stderr",
     "output_type": "stream",
     "text": [
      "WARNING: You are using pip version 21.1.2; however, version 21.2.4 is available.\n",
      "You should consider upgrading via the 'c:\\users\\hashim\\appdata\\local\\programs\\python\\python39\\python.exe -m pip install --upgrade pip' command.\n"
     ]
    },
    {
     "name": "stdout",
     "output_type": "stream",
     "text": [
      "\n",
      "Requirement already satisfied: bqplot in c:\\users\\hashim\\appdata\\local\\programs\\python\\python39\\lib\\site-packages (from geemap) (0.12.30)\n",
      "Requirement already satisfied: earthengine-api>=0.1.230 in c:\\users\\hashim\\appdata\\local\\programs\\python\\python39\\lib\\site-packages (from geemap) (0.1.281)\n",
      "Requirement already satisfied: python-box in c:\\users\\hashim\\appdata\\local\\programs\\python\\python39\\lib\\site-packages (from geemap) (5.4.1)\n",
      "Requirement already satisfied: ipytree in c:\\users\\hashim\\appdata\\local\\programs\\python\\python39\\lib\\site-packages (from geemap) (0.2.1)\n",
      "Requirement already satisfied: geeadd>=0.5.1 in c:\\users\\hashim\\appdata\\local\\programs\\python\\python39\\lib\\site-packages (from geemap) (0.5.5)\n",
      "Requirement already satisfied: pandas in c:\\users\\hashim\\appdata\\local\\programs\\python\\python39\\lib\\site-packages (from geemap) (1.2.4)\n",
      "Requirement already satisfied: pillow in c:\\users\\hashim\\appdata\\local\\programs\\python\\python39\\lib\\site-packages (from geemap) (8.2.0)\n",
      "Requirement already satisfied: ipyleaflet>=0.14.0 in c:\\users\\hashim\\appdata\\local\\programs\\python\\python39\\lib\\site-packages (from geemap) (0.14.0)\n",
      "Requirement already satisfied: whiteboxgui in c:\\users\\hashim\\appdata\\local\\programs\\python\\python39\\lib\\site-packages (from geemap) (0.4.0)\n",
      "Requirement already satisfied: googledrivedownloader in c:\\users\\hashim\\appdata\\local\\programs\\python\\python39\\lib\\site-packages (from geemap) (0.4)\n",
      "Requirement already satisfied: voila in c:\\users\\hashim\\appdata\\local\\programs\\python\\python39\\lib\\site-packages (from geemap) (0.2.11)\n",
      "Requirement already satisfied: matplotlib in c:\\users\\hashim\\appdata\\local\\programs\\python\\python39\\lib\\site-packages (from geemap) (3.4.1)\n",
      "Requirement already satisfied: sankee in c:\\users\\hashim\\appdata\\local\\programs\\python\\python39\\lib\\site-packages (from geemap) (0.0.5)\n",
      "Requirement already satisfied: mss in c:\\users\\hashim\\appdata\\local\\programs\\python\\python39\\lib\\site-packages (from geemap) (6.1.0)\n",
      "Requirement already satisfied: colour in c:\\users\\hashim\\appdata\\local\\programs\\python\\python39\\lib\\site-packages (from geemap) (0.1.5)\n",
      "Requirement already satisfied: ipynb-py-convert in c:\\users\\hashim\\appdata\\local\\programs\\python\\python39\\lib\\site-packages (from geemap) (0.4.6)\n",
      "Requirement already satisfied: ffmpeg-python in c:\\users\\hashim\\appdata\\local\\programs\\python\\python39\\lib\\site-packages (from geemap) (0.2.0)\n",
      "Requirement already satisfied: geojson in c:\\users\\hashim\\appdata\\local\\programs\\python\\python39\\lib\\site-packages (from geemap) (2.5.0)\n",
      "Requirement already satisfied: pycrs in c:\\users\\hashim\\appdata\\local\\programs\\python\\python39\\lib\\site-packages (from geemap) (1.0.2)\n",
      "Requirement already satisfied: geocoder in c:\\users\\hashim\\appdata\\local\\programs\\python\\python39\\lib\\site-packages (from geemap) (1.38.1)\n",
      "Requirement already satisfied: ipyfilechooser in c:\\users\\hashim\\appdata\\local\\programs\\python\\python39\\lib\\site-packages (from geemap) (0.5.0)\n",
      "Requirement already satisfied: numpy in c:\\users\\hashim\\appdata\\local\\programs\\python\\python39\\lib\\site-packages (from geemap) (1.20.2)\n",
      "Requirement already satisfied: ipyevents in c:\\users\\hashim\\appdata\\local\\programs\\python\\python39\\lib\\site-packages (from geemap) (2.0.1)\n",
      "Requirement already satisfied: pyshp>=2.1.3 in c:\\users\\hashim\\appdata\\local\\programs\\python\\python39\\lib\\site-packages (from geemap) (2.1.3)\n",
      "Requirement already satisfied: folium>=0.11.0 in c:\\users\\hashim\\appdata\\local\\programs\\python\\python39\\lib\\site-packages (from geemap) (0.12.1)\n",
      "Requirement already satisfied: click in c:\\users\\hashim\\appdata\\local\\programs\\python\\python39\\lib\\site-packages (from geemap) (8.0.1)\n",
      "Requirement already satisfied: future in c:\\users\\hashim\\appdata\\local\\programs\\python\\python39\\lib\\site-packages (from earthengine-api>=0.1.230->geemap) (0.18.2)\n",
      "Requirement already satisfied: google-cloud-storage in c:\\users\\hashim\\appdata\\local\\programs\\python\\python39\\lib\\site-packages (from earthengine-api>=0.1.230->geemap) (1.42.0)\n",
      "Requirement already satisfied: google-api-python-client<2,>=1.12.1 in c:\\users\\hashim\\appdata\\local\\programs\\python\\python39\\lib\\site-packages (from earthengine-api>=0.1.230->geemap) (1.12.8)\n",
      "Requirement already satisfied: google-auth>=1.4.1 in c:\\users\\hashim\\appdata\\local\\programs\\python\\python39\\lib\\site-packages (from earthengine-api>=0.1.230->geemap) (1.35.0)\n",
      "Requirement already satisfied: google-auth-httplib2>=0.0.3 in c:\\users\\hashim\\appdata\\local\\programs\\python\\python39\\lib\\site-packages (from earthengine-api>=0.1.230->geemap) (0.1.0)\n",
      "Requirement already satisfied: httplib2<1dev,>=0.9.2 in c:\\users\\hashim\\appdata\\local\\programs\\python\\python39\\lib\\site-packages (from earthengine-api>=0.1.230->geemap) (0.19.1)\n",
      "Requirement already satisfied: httplib2shim in c:\\users\\hashim\\appdata\\local\\programs\\python\\python39\\lib\\site-packages (from earthengine-api>=0.1.230->geemap) (0.0.3)\n",
      "Requirement already satisfied: six in c:\\users\\hashim\\appdata\\local\\programs\\python\\python39\\lib\\site-packages (from earthengine-api>=0.1.230->geemap) (1.15.0)\n",
      "Requirement already satisfied: jinja2>=2.9 in c:\\users\\hashim\\appdata\\local\\programs\\python\\python39\\lib\\site-packages (from folium>=0.11.0->geemap) (2.11.3)\n",
      "Requirement already satisfied: requests in c:\\users\\hashim\\appdata\\local\\programs\\python\\python39\\lib\\site-packages (from folium>=0.11.0->geemap) (2.25.1)\n",
      "Requirement already satisfied: branca>=0.3.0 in c:\\users\\hashim\\appdata\\local\\programs\\python\\python39\\lib\\site-packages (from folium>=0.11.0->geemap) (0.4.2)\n",
      "Requirement already satisfied: beautifulsoup4>=4.9.0 in c:\\users\\hashim\\appdata\\local\\programs\\python\\python39\\lib\\site-packages (from geeadd>=0.5.1->geemap) (4.9.3)\n",
      "Requirement already satisfied: logzero>=1.5.0 in c:\\users\\hashim\\appdata\\local\\programs\\python\\python39\\lib\\site-packages (from geeadd>=0.5.1->geemap) (1.7.0)\n",
      "Requirement already satisfied: soupsieve>1.2 in c:\\users\\hashim\\appdata\\local\\programs\\python\\python39\\lib\\site-packages (from beautifulsoup4>=4.9.0->geeadd>=0.5.1->geemap) (2.2.1)\n",
      "Requirement already satisfied: google-api-core<2dev,>=1.21.0 in c:\\users\\hashim\\appdata\\local\\programs\\python\\python39\\lib\\site-packages (from google-api-python-client<2,>=1.12.1->earthengine-api>=0.1.230->geemap) (1.31.2)\n",
      "Requirement already satisfied: uritemplate<4dev,>=3.0.0 in c:\\users\\hashim\\appdata\\local\\programs\\python\\python39\\lib\\site-packages (from google-api-python-client<2,>=1.12.1->earthengine-api>=0.1.230->geemap) (3.0.1)\n",
      "Requirement already satisfied: setuptools>=40.3.0 in c:\\users\\hashim\\appdata\\local\\programs\\python\\python39\\lib\\site-packages (from google-api-core<2dev,>=1.21.0->google-api-python-client<2,>=1.12.1->earthengine-api>=0.1.230->geemap) (49.2.1)\n",
      "Requirement already satisfied: packaging>=14.3 in c:\\users\\hashim\\appdata\\local\\programs\\python\\python39\\lib\\site-packages (from google-api-core<2dev,>=1.21.0->google-api-python-client<2,>=1.12.1->earthengine-api>=0.1.230->geemap) (20.9)\n",
      "Requirement already satisfied: googleapis-common-protos<2.0dev,>=1.6.0 in c:\\users\\hashim\\appdata\\local\\programs\\python\\python39\\lib\\site-packages (from google-api-core<2dev,>=1.21.0->google-api-python-client<2,>=1.12.1->earthengine-api>=0.1.230->geemap) (1.53.0)\n",
      "Requirement already satisfied: pytz in c:\\users\\hashim\\appdata\\local\\programs\\python\\python39\\lib\\site-packages (from google-api-core<2dev,>=1.21.0->google-api-python-client<2,>=1.12.1->earthengine-api>=0.1.230->geemap) (2021.1)\n",
      "Requirement already satisfied: protobuf>=3.12.0 in c:\\users\\hashim\\appdata\\local\\programs\\python\\python39\\lib\\site-packages (from google-api-core<2dev,>=1.21.0->google-api-python-client<2,>=1.12.1->earthengine-api>=0.1.230->geemap) (3.17.3)\n",
      "Requirement already satisfied: cachetools<5.0,>=2.0.0 in c:\\users\\hashim\\appdata\\local\\programs\\python\\python39\\lib\\site-packages (from google-auth>=1.4.1->earthengine-api>=0.1.230->geemap) (4.2.2)\n",
      "Requirement already satisfied: rsa<5,>=3.1.4 in c:\\users\\hashim\\appdata\\local\\programs\\python\\python39\\lib\\site-packages (from google-auth>=1.4.1->earthengine-api>=0.1.230->geemap) (4.7.2)\n",
      "Requirement already satisfied: pyasn1-modules>=0.2.1 in c:\\users\\hashim\\appdata\\local\\programs\\python\\python39\\lib\\site-packages (from google-auth>=1.4.1->earthengine-api>=0.1.230->geemap) (0.2.8)\n",
      "Requirement already satisfied: pyparsing<3,>=2.4.2 in c:\\users\\hashim\\appdata\\local\\programs\\python\\python39\\lib\\site-packages (from httplib2<1dev,>=0.9.2->earthengine-api>=0.1.230->geemap) (2.4.7)\n",
      "Requirement already satisfied: ipywidgets<8,>=7.6.0 in c:\\users\\hashim\\appdata\\local\\programs\\python\\python39\\lib\\site-packages (from ipyleaflet>=0.14.0->geemap) (7.6.3)\n",
      "Requirement already satisfied: traittypes<3,>=0.2.1 in c:\\users\\hashim\\appdata\\local\\programs\\python\\python39\\lib\\site-packages (from ipyleaflet>=0.14.0->geemap) (0.2.1)\n",
      "Requirement already satisfied: nbformat>=4.2.0 in c:\\users\\hashim\\appdata\\local\\programs\\python\\python39\\lib\\site-packages (from ipywidgets<8,>=7.6.0->ipyleaflet>=0.14.0->geemap) (5.1.3)\n",
      "Requirement already satisfied: traitlets>=4.3.1 in c:\\users\\hashim\\appdata\\local\\programs\\python\\python39\\lib\\site-packages (from ipywidgets<8,>=7.6.0->ipyleaflet>=0.14.0->geemap) (5.0.5)\n",
      "Requirement already satisfied: widgetsnbextension~=3.5.0 in c:\\users\\hashim\\appdata\\local\\programs\\python\\python39\\lib\\site-packages (from ipywidgets<8,>=7.6.0->ipyleaflet>=0.14.0->geemap) (3.5.1)\n",
      "Requirement already satisfied: ipython>=4.0.0 in c:\\users\\hashim\\appdata\\local\\programs\\python\\python39\\lib\\site-packages (from ipywidgets<8,>=7.6.0->ipyleaflet>=0.14.0->geemap) (7.23.1)\n",
      "Requirement already satisfied: jupyterlab-widgets>=1.0.0 in c:\\users\\hashim\\appdata\\local\\programs\\python\\python39\\lib\\site-packages (from ipywidgets<8,>=7.6.0->ipyleaflet>=0.14.0->geemap) (1.0.0)\n",
      "Requirement already satisfied: ipykernel>=4.5.1 in c:\\users\\hashim\\appdata\\local\\programs\\python\\python39\\lib\\site-packages (from ipywidgets<8,>=7.6.0->ipyleaflet>=0.14.0->geemap) (5.5.4)\n",
      "Requirement already satisfied: jupyter-client in c:\\users\\hashim\\appdata\\local\\programs\\python\\python39\\lib\\site-packages (from ipykernel>=4.5.1->ipywidgets<8,>=7.6.0->ipyleaflet>=0.14.0->geemap) (6.1.12)\n",
      "Requirement already satisfied: tornado>=4.2 in c:\\users\\hashim\\appdata\\local\\programs\\python\\python39\\lib\\site-packages (from ipykernel>=4.5.1->ipywidgets<8,>=7.6.0->ipyleaflet>=0.14.0->geemap) (6.1)\n",
      "Requirement already satisfied: matplotlib-inline in c:\\users\\hashim\\appdata\\local\\programs\\python\\python39\\lib\\site-packages (from ipython>=4.0.0->ipywidgets<8,>=7.6.0->ipyleaflet>=0.14.0->geemap) (0.1.2)\n",
      "Requirement already satisfied: pickleshare in c:\\users\\hashim\\appdata\\local\\programs\\python\\python39\\lib\\site-packages (from ipython>=4.0.0->ipywidgets<8,>=7.6.0->ipyleaflet>=0.14.0->geemap) (0.7.5)\n",
      "Requirement already satisfied: decorator in c:\\users\\hashim\\appdata\\local\\programs\\python\\python39\\lib\\site-packages (from ipython>=4.0.0->ipywidgets<8,>=7.6.0->ipyleaflet>=0.14.0->geemap) (4.4.2)\n",
      "Requirement already satisfied: prompt-toolkit!=3.0.0,!=3.0.1,<3.1.0,>=2.0.0 in c:\\users\\hashim\\appdata\\local\\programs\\python\\python39\\lib\\site-packages (from ipython>=4.0.0->ipywidgets<8,>=7.6.0->ipyleaflet>=0.14.0->geemap) (3.0.18)\n",
      "Requirement already satisfied: pygments in c:\\users\\hashim\\appdata\\local\\programs\\python\\python39\\lib\\site-packages (from ipython>=4.0.0->ipywidgets<8,>=7.6.0->ipyleaflet>=0.14.0->geemap) (2.9.0)\n",
      "Requirement already satisfied: colorama in c:\\users\\hashim\\appdata\\local\\programs\\python\\python39\\lib\\site-packages (from ipython>=4.0.0->ipywidgets<8,>=7.6.0->ipyleaflet>=0.14.0->geemap) (0.4.4)\n",
      "Requirement already satisfied: jedi>=0.16 in c:\\users\\hashim\\appdata\\local\\programs\\python\\python39\\lib\\site-packages (from ipython>=4.0.0->ipywidgets<8,>=7.6.0->ipyleaflet>=0.14.0->geemap) (0.18.0)\n",
      "Requirement already satisfied: backcall in c:\\users\\hashim\\appdata\\local\\programs\\python\\python39\\lib\\site-packages (from ipython>=4.0.0->ipywidgets<8,>=7.6.0->ipyleaflet>=0.14.0->geemap) (0.2.0)\n",
      "Requirement already satisfied: parso<0.9.0,>=0.8.0 in c:\\users\\hashim\\appdata\\local\\programs\\python\\python39\\lib\\site-packages (from jedi>=0.16->ipython>=4.0.0->ipywidgets<8,>=7.6.0->ipyleaflet>=0.14.0->geemap) (0.8.2)\n",
      "Requirement already satisfied: MarkupSafe>=0.23 in c:\\users\\hashim\\appdata\\local\\programs\\python\\python39\\lib\\site-packages (from jinja2>=2.9->folium>=0.11.0->geemap) (1.1.1)\n",
      "Requirement already satisfied: jupyter-core in c:\\users\\hashim\\appdata\\local\\programs\\python\\python39\\lib\\site-packages (from nbformat>=4.2.0->ipywidgets<8,>=7.6.0->ipyleaflet>=0.14.0->geemap) (4.7.1)\n",
      "Requirement already satisfied: ipython-genutils in c:\\users\\hashim\\appdata\\local\\programs\\python\\python39\\lib\\site-packages (from nbformat>=4.2.0->ipywidgets<8,>=7.6.0->ipyleaflet>=0.14.0->geemap) (0.2.0)\n",
      "Requirement already satisfied: jsonschema!=2.5.0,>=2.4 in c:\\users\\hashim\\appdata\\local\\programs\\python\\python39\\lib\\site-packages (from nbformat>=4.2.0->ipywidgets<8,>=7.6.0->ipyleaflet>=0.14.0->geemap) (3.2.0)\n",
      "Requirement already satisfied: pyrsistent>=0.14.0 in c:\\users\\hashim\\appdata\\local\\programs\\python\\python39\\lib\\site-packages (from jsonschema!=2.5.0,>=2.4->nbformat>=4.2.0->ipywidgets<8,>=7.6.0->ipyleaflet>=0.14.0->geemap) (0.17.3)\n",
      "Requirement already satisfied: attrs>=17.4.0 in c:\\users\\hashim\\appdata\\local\\programs\\python\\python39\\lib\\site-packages (from jsonschema!=2.5.0,>=2.4->nbformat>=4.2.0->ipywidgets<8,>=7.6.0->ipyleaflet>=0.14.0->geemap) (21.2.0)\n",
      "Requirement already satisfied: wcwidth in c:\\users\\hashim\\appdata\\local\\programs\\python\\python39\\lib\\site-packages (from prompt-toolkit!=3.0.0,!=3.0.1,<3.1.0,>=2.0.0->ipython>=4.0.0->ipywidgets<8,>=7.6.0->ipyleaflet>=0.14.0->geemap) (0.2.5)\n",
      "Requirement already satisfied: pyasn1<0.5.0,>=0.4.6 in c:\\users\\hashim\\appdata\\local\\programs\\python\\python39\\lib\\site-packages (from pyasn1-modules>=0.2.1->google-auth>=1.4.1->earthengine-api>=0.1.230->geemap) (0.4.8)\n",
      "Requirement already satisfied: idna<3,>=2.5 in c:\\users\\hashim\\appdata\\local\\programs\\python\\python39\\lib\\site-packages (from requests->folium>=0.11.0->geemap) (2.10)\n",
      "Requirement already satisfied: urllib3<1.27,>=1.21.1 in c:\\users\\hashim\\appdata\\local\\programs\\python\\python39\\lib\\site-packages (from requests->folium>=0.11.0->geemap) (1.26.5)\n",
      "Requirement already satisfied: chardet<5,>=3.0.2 in c:\\users\\hashim\\appdata\\local\\programs\\python\\python39\\lib\\site-packages (from requests->folium>=0.11.0->geemap) (4.0.0)\n",
      "Requirement already satisfied: certifi>=2017.4.17 in c:\\users\\hashim\\appdata\\local\\programs\\python\\python39\\lib\\site-packages (from requests->folium>=0.11.0->geemap) (2021.5.30)\n",
      "Requirement already satisfied: notebook>=4.4.1 in c:\\users\\hashim\\appdata\\local\\programs\\python\\python39\\lib\\site-packages (from widgetsnbextension~=3.5.0->ipywidgets<8,>=7.6.0->ipyleaflet>=0.14.0->geemap) (6.3.0)\n",
      "Requirement already satisfied: terminado>=0.8.3 in c:\\users\\hashim\\appdata\\local\\programs\\python\\python39\\lib\\site-packages (from notebook>=4.4.1->widgetsnbextension~=3.5.0->ipywidgets<8,>=7.6.0->ipyleaflet>=0.14.0->geemap) (0.9.4)\n",
      "Requirement already satisfied: prometheus-client in c:\\users\\hashim\\appdata\\local\\programs\\python\\python39\\lib\\site-packages (from notebook>=4.4.1->widgetsnbextension~=3.5.0->ipywidgets<8,>=7.6.0->ipyleaflet>=0.14.0->geemap) (0.10.1)\n",
      "Requirement already satisfied: nbconvert in c:\\users\\hashim\\appdata\\local\\programs\\python\\python39\\lib\\site-packages (from notebook>=4.4.1->widgetsnbextension~=3.5.0->ipywidgets<8,>=7.6.0->ipyleaflet>=0.14.0->geemap) (6.0.7)\n",
      "Requirement already satisfied: argon2-cffi in c:\\users\\hashim\\appdata\\local\\programs\\python\\python39\\lib\\site-packages (from notebook>=4.4.1->widgetsnbextension~=3.5.0->ipywidgets<8,>=7.6.0->ipyleaflet>=0.14.0->geemap) (20.1.0)\n",
      "Requirement already satisfied: Send2Trash>=1.5.0 in c:\\users\\hashim\\appdata\\local\\programs\\python\\python39\\lib\\site-packages (from notebook>=4.4.1->widgetsnbextension~=3.5.0->ipywidgets<8,>=7.6.0->ipyleaflet>=0.14.0->geemap) (1.5.0)\n",
      "Requirement already satisfied: pyzmq>=17 in c:\\users\\hashim\\appdata\\local\\programs\\python\\python39\\lib\\site-packages (from notebook>=4.4.1->widgetsnbextension~=3.5.0->ipywidgets<8,>=7.6.0->ipyleaflet>=0.14.0->geemap) (22.0.3)\n",
      "Requirement already satisfied: python-dateutil>=2.1 in c:\\users\\hashim\\appdata\\local\\programs\\python\\python39\\lib\\site-packages (from jupyter-client->ipykernel>=4.5.1->ipywidgets<8,>=7.6.0->ipyleaflet>=0.14.0->geemap) (2.8.1)\n",
      "Requirement already satisfied: pywin32>=1.0 in c:\\users\\hashim\\appdata\\local\\programs\\python\\python39\\lib\\site-packages (from jupyter-core->nbformat>=4.2.0->ipywidgets<8,>=7.6.0->ipyleaflet>=0.14.0->geemap) (300)\n",
      "Requirement already satisfied: pywinpty>=0.5 in c:\\users\\hashim\\appdata\\local\\programs\\python\\python39\\lib\\site-packages (from terminado>=0.8.3->notebook>=4.4.1->widgetsnbextension~=3.5.0->ipywidgets<8,>=7.6.0->ipyleaflet>=0.14.0->geemap) (1.0.1)\n",
      "Requirement already satisfied: cffi>=1.0.0 in c:\\users\\hashim\\appdata\\local\\programs\\python\\python39\\lib\\site-packages (from argon2-cffi->notebook>=4.4.1->widgetsnbextension~=3.5.0->ipywidgets<8,>=7.6.0->ipyleaflet>=0.14.0->geemap) (1.14.5)\n",
      "Requirement already satisfied: pycparser in c:\\users\\hashim\\appdata\\local\\programs\\python\\python39\\lib\\site-packages (from cffi>=1.0.0->argon2-cffi->notebook>=4.4.1->widgetsnbextension~=3.5.0->ipywidgets<8,>=7.6.0->ipyleaflet>=0.14.0->geemap) (2.20)\n",
      "Requirement already satisfied: ratelim in c:\\users\\hashim\\appdata\\local\\programs\\python\\python39\\lib\\site-packages (from geocoder->geemap) (0.1.6)\n",
      "Requirement already satisfied: google-resumable-media<3.0dev,>=1.3.0 in c:\\users\\hashim\\appdata\\local\\programs\\python\\python39\\lib\\site-packages (from google-cloud-storage->earthengine-api>=0.1.230->geemap) (2.0.2)\n",
      "Requirement already satisfied: google-cloud-core<3.0dev,>=1.6.0 in c:\\users\\hashim\\appdata\\local\\programs\\python\\python39\\lib\\site-packages (from google-cloud-storage->earthengine-api>=0.1.230->geemap) (2.0.0)\n",
      "Requirement already satisfied: google-crc32c<=1.1.2,>=1.0 in c:\\users\\hashim\\appdata\\local\\programs\\python\\python39\\lib\\site-packages (from google-resumable-media<3.0dev,>=1.3.0->google-cloud-storage->earthengine-api>=0.1.230->geemap) (1.1.2)\n",
      "Requirement already satisfied: kiwisolver>=1.0.1 in c:\\users\\hashim\\appdata\\local\\programs\\python\\python39\\lib\\site-packages (from matplotlib->geemap) (1.3.1)\n",
      "Requirement already satisfied: cycler>=0.10 in c:\\users\\hashim\\appdata\\local\\programs\\python\\python39\\lib\\site-packages (from matplotlib->geemap) (0.10.0)\n",
      "Requirement already satisfied: mistune<2,>=0.8.1 in c:\\users\\hashim\\appdata\\local\\programs\\python\\python39\\lib\\site-packages (from nbconvert->notebook>=4.4.1->widgetsnbextension~=3.5.0->ipywidgets<8,>=7.6.0->ipyleaflet>=0.14.0->geemap) (0.8.4)\n",
      "Requirement already satisfied: entrypoints>=0.2.2 in c:\\users\\hashim\\appdata\\local\\programs\\python\\python39\\lib\\site-packages (from nbconvert->notebook>=4.4.1->widgetsnbextension~=3.5.0->ipywidgets<8,>=7.6.0->ipyleaflet>=0.14.0->geemap) (0.3)\n",
      "Requirement already satisfied: pandocfilters>=1.4.1 in c:\\users\\hashim\\appdata\\local\\programs\\python\\python39\\lib\\site-packages (from nbconvert->notebook>=4.4.1->widgetsnbextension~=3.5.0->ipywidgets<8,>=7.6.0->ipyleaflet>=0.14.0->geemap) (1.4.3)\n",
      "Requirement already satisfied: defusedxml in c:\\users\\hashim\\appdata\\local\\programs\\python\\python39\\lib\\site-packages (from nbconvert->notebook>=4.4.1->widgetsnbextension~=3.5.0->ipywidgets<8,>=7.6.0->ipyleaflet>=0.14.0->geemap) (0.7.1)\n",
      "Requirement already satisfied: jupyterlab-pygments in c:\\users\\hashim\\appdata\\local\\programs\\python\\python39\\lib\\site-packages (from nbconvert->notebook>=4.4.1->widgetsnbextension~=3.5.0->ipywidgets<8,>=7.6.0->ipyleaflet>=0.14.0->geemap) (0.1.2)\n",
      "Requirement already satisfied: bleach in c:\\users\\hashim\\appdata\\local\\programs\\python\\python39\\lib\\site-packages (from nbconvert->notebook>=4.4.1->widgetsnbextension~=3.5.0->ipywidgets<8,>=7.6.0->ipyleaflet>=0.14.0->geemap) (3.3.0)\n",
      "Requirement already satisfied: testpath in c:\\users\\hashim\\appdata\\local\\programs\\python\\python39\\lib\\site-packages (from nbconvert->notebook>=4.4.1->widgetsnbextension~=3.5.0->ipywidgets<8,>=7.6.0->ipyleaflet>=0.14.0->geemap) (0.4.4)\n",
      "Requirement already satisfied: nbclient<0.6.0,>=0.5.0 in c:\\users\\hashim\\appdata\\local\\programs\\python\\python39\\lib\\site-packages (from nbconvert->notebook>=4.4.1->widgetsnbextension~=3.5.0->ipywidgets<8,>=7.6.0->ipyleaflet>=0.14.0->geemap) (0.5.3)\n",
      "Requirement already satisfied: nest-asyncio in c:\\users\\hashim\\appdata\\local\\programs\\python\\python39\\lib\\site-packages (from nbclient<0.6.0,>=0.5.0->nbconvert->notebook>=4.4.1->widgetsnbextension~=3.5.0->ipywidgets<8,>=7.6.0->ipyleaflet>=0.14.0->geemap) (1.5.1)\n",
      "Requirement already satisfied: async-generator in c:\\users\\hashim\\appdata\\local\\programs\\python\\python39\\lib\\site-packages (from nbclient<0.6.0,>=0.5.0->nbconvert->notebook>=4.4.1->widgetsnbextension~=3.5.0->ipywidgets<8,>=7.6.0->ipyleaflet>=0.14.0->geemap) (1.10)\n",
      "Requirement already satisfied: webencodings in c:\\users\\hashim\\appdata\\local\\programs\\python\\python39\\lib\\site-packages (from bleach->nbconvert->notebook>=4.4.1->widgetsnbextension~=3.5.0->ipywidgets<8,>=7.6.0->ipyleaflet>=0.14.0->geemap) (0.5.1)\n",
      "Requirement already satisfied: plotly in c:\\users\\hashim\\appdata\\local\\programs\\python\\python39\\lib\\site-packages (from sankee->geemap) (5.2.1)\n",
      "Requirement already satisfied: tenacity>=6.2.0 in c:\\users\\hashim\\appdata\\local\\programs\\python\\python39\\lib\\site-packages (from plotly->sankee->geemap) (8.0.1)\n",
      "Requirement already satisfied: jupyter-server<2.0.0,>=0.3.0 in c:\\users\\hashim\\appdata\\local\\programs\\python\\python39\\lib\\site-packages (from voila->geemap) (1.8.0)\n",
      "Requirement already satisfied: anyio<4,>=3.1.0 in c:\\users\\hashim\\appdata\\local\\programs\\python\\python39\\lib\\site-packages (from jupyter-server<2.0.0,>=0.3.0->voila->geemap) (3.1.0)\n",
      "Requirement already satisfied: websocket-client in c:\\users\\hashim\\appdata\\local\\programs\\python\\python39\\lib\\site-packages (from jupyter-server<2.0.0,>=0.3.0->voila->geemap) (1.1.0)\n",
      "Requirement already satisfied: sniffio>=1.1 in c:\\users\\hashim\\appdata\\local\\programs\\python\\python39\\lib\\site-packages (from anyio<4,>=3.1.0->jupyter-server<2.0.0,>=0.3.0->voila->geemap) (1.2.0)\n",
      "Requirement already satisfied: whitebox in c:\\users\\hashim\\appdata\\local\\programs\\python\\python39\\lib\\site-packages (from whiteboxgui->geemap) (2.0.2)\n"
     ]
    }
   ],
   "source": [
    "! pip install geemap"
   ]
  },
  {
   "cell_type": "code",
   "execution_count": 2,
   "metadata": {
    "colab": {
     "base_uri": "https://localhost:8080/"
    },
    "id": "aqG51v_NUGNk",
    "outputId": "f7f18420-0815-4887-8f81-d24c5b0e7c61"
   },
   "outputs": [
    {
     "name": "stderr",
     "output_type": "stream",
     "text": [
      "WARNING: You are using pip version 21.1.2; however, version 21.2.4 is available.\n",
      "You should consider upgrading via the 'c:\\users\\hashim\\appdata\\local\\programs\\python\\python39\\python.exe -m pip install --upgrade pip' command.\n"
     ]
    }
   ],
   "source": [
    "! pip install -U -q earthengine-api"
   ]
  },
  {
   "cell_type": "code",
   "execution_count": 3,
   "metadata": {
    "id": "Goy_07buURDA",
    "scrolled": true
   },
   "outputs": [
    {
     "name": "stderr",
     "output_type": "stream",
     "text": [
      "WARNING: You are using pip version 21.1.2; however, version 21.2.4 is available.\n",
      "You should consider upgrading via the 'c:\\users\\hashim\\appdata\\local\\programs\\python\\python39\\python.exe -m pip install --upgrade pip' command.\n"
     ]
    }
   ],
   "source": [
    "! pip install -U -q folium"
   ]
  },
  {
   "cell_type": "markdown",
   "metadata": {
    "id": "0o_Rb7S9UdYZ"
   },
   "source": [
    "import"
   ]
  },
  {
   "cell_type": "code",
   "execution_count": 4,
   "metadata": {
    "id": "xCZxClqXUc9E"
   },
   "outputs": [],
   "source": [
    "import ee\n",
    "import folium\n",
    "import geemap\n",
    "import numpy as np\n",
    "import pandas as pd\n",
    "from sklearn.cluster import KMeans\n",
    "from sklearn.preprocessing import minmax_scale\n",
    "from sklearn.decomposition import PCA\n",
    "import matplotlib.pyplot as plt"
   ]
  },
  {
   "cell_type": "markdown",
   "metadata": {
    "id": "SyYFh5C3UzR1"
   },
   "source": [
    "location selection"
   ]
  },
  {
   "cell_type": "code",
   "execution_count": 5,
   "metadata": {
    "id": "CrV6ptWSVQOx"
   },
   "outputs": [
    {
     "data": {
      "text/html": [
       "<p>To authorize access needed by Earth Engine, open the following\n",
       "        URL in a web browser and follow the instructions:</p>\n",
       "        <p><a href=https://accounts.google.com/o/oauth2/auth?client_id=517222506229-vsmmajv00ul0bs7p89v5m89qs8eb9359.apps.googleusercontent.com&scope=https%3A%2F%2Fwww.googleapis.com%2Fauth%2Fearthengine+https%3A%2F%2Fwww.googleapis.com%2Fauth%2Fdevstorage.full_control&redirect_uri=urn%3Aietf%3Awg%3Aoauth%3A2.0%3Aoob&response_type=code&code_challenge=hKlihsc7rCTB1oTi_8imrK5GvaUU70ehNM-ncyLfu4U&code_challenge_method=S256>https://accounts.google.com/o/oauth2/auth?client_id=517222506229-vsmmajv00ul0bs7p89v5m89qs8eb9359.apps.googleusercontent.com&scope=https%3A%2F%2Fwww.googleapis.com%2Fauth%2Fearthengine+https%3A%2F%2Fwww.googleapis.com%2Fauth%2Fdevstorage.full_control&redirect_uri=urn%3Aietf%3Awg%3Aoauth%3A2.0%3Aoob&response_type=code&code_challenge=hKlihsc7rCTB1oTi_8imrK5GvaUU70ehNM-ncyLfu4U&code_challenge_method=S256</a></p>\n",
       "        <p>The authorization workflow will generate a code, which you\n",
       "        should paste in the box below</p>\n",
       "        "
      ],
      "text/plain": [
       "<IPython.core.display.HTML object>"
      ]
     },
     "metadata": {},
     "output_type": "display_data"
    },
    {
     "name": "stdout",
     "output_type": "stream",
     "text": [
      "Enter verification code: 4/1AX4XfWiK0jZlu6NAF8qkJSPV4XkhFnAHTWeBvtrTi00PLhsLrNzbjaITgzU\n",
      "\n",
      "Successfully saved authorization token.\n"
     ]
    }
   ],
   "source": [
    "ee.Authenticate()"
   ]
  },
  {
   "cell_type": "code",
   "execution_count": 6,
   "metadata": {
    "id": "W9dMSR7aWExu"
   },
   "outputs": [],
   "source": [
    "ee.Initialize()"
   ]
  },
  {
   "cell_type": "code",
   "execution_count": 7,
   "metadata": {
    "id": "tYE4vYZWUy_T"
   },
   "outputs": [],
   "source": [
    "#adding rastors from earth engine to folium map\n",
    "def add_ee_layer(self, ee_image_object, vis_params, name):\n",
    "  map_id_dict = ee.Image(ee_image_object).getMapId(vis_params)\n",
    "  folium.raster_layers.TileLayer(\n",
    "      tiles=map_id_dict['tile_fetcher'].url_format,\n",
    "      attr='Map Data &copy; <a href=\"https://earthengine.google.com/\">Google Earth Engine</a>',\n",
    "      name=name,\n",
    "      overlay=True,\n",
    "      control=True\n",
    "  ).add_to(self)\n",
    "\n",
    "folium.Map.add_ee_layer = add_ee_layer\n",
    "\n",
    "\n",
    "#soecfy terrain area you want to segment (limited number of pixels)\n",
    "bound_ = [[6.219817916110255,36.75729987187895]\n",
    ",[6.421348372653224,36.75729987187895]\n",
    ",[6.421348372653224,36.849939905468865]\n",
    ",[6.219817916110255,36.849939905468865]\n",
    ",[6.219817916110255,36.75729987187895]]\n",
    "\n",
    "\n",
    "\n",
    "point_ = bound_[0]\n",
    "point = ee.Geometry.Point(point_)\n",
    "bound = ee.Geometry.Polygon(bound_)"
   ]
  },
  {
   "cell_type": "markdown",
   "metadata": {
    "id": "WfLm3yKtc7jB"
   },
   "source": [
    "importing satelite imagery"
   ]
  },
  {
   "cell_type": "code",
   "execution_count": 8,
   "metadata": {
    "id": "JXvo0VEhUx2m"
   },
   "outputs": [],
   "source": [
    "#importing the whole collection of satelite images\n",
    "satlite_dataset = ee.ImageCollection('LANDSAT/LC08/C01/T1_SR')\n",
    "#selecting the image with the best covrage for our location of interest\n",
    "sat_image = satlite_dataset.filterBounds(point).sort('CLOUD_COVER').first()"
   ]
  },
  {
   "cell_type": "code",
   "execution_count": 9,
   "metadata": {
    "id": "lIDaSSWse6_c"
   },
   "outputs": [],
   "source": [
    "\n",
    "# adding sat image to map\n",
    "viz_params = {\n",
    "    \"min\":0,\n",
    "    \"max\":3000,\n",
    "    \"bands\":[\"B4\",\"B3\",\"B2\"]\n",
    "}\n",
    "\n",
    "map1 = folium.Map(location=[point_[1],point_[0]],zoom_start=12)\n",
    "map1.add_ee_layer(sat_image.clip(bound),viz_params,name=\"sat_image\")"
   ]
  },
  {
   "cell_type": "code",
   "execution_count": 10,
   "metadata": {
    "colab": {
     "base_uri": "https://localhost:8080/",
     "height": 763
    },
    "id": "cQe_xKALiZDa",
    "outputId": "e4e8929c-2272-4962-99b8-0dd1c9849541"
   },
   "outputs": [
    {
     "data": {
      "text/html": [
       "<div style=\"width:100%;\"><div style=\"position:relative;width:100%;height:0;padding-bottom:60%;\"><span style=\"color:#565656\">Make this Notebook Trusted to load map: File -> Trust Notebook</span><iframe src=\"about:blank\" style=\"position:absolute;width:100%;height:100%;left:0;top:0;border:none !important;\" data-html=%3C%21DOCTYPE%20html%3E%0A%3Chead%3E%20%20%20%20%0A%20%20%20%20%3Cmeta%20http-equiv%3D%22content-type%22%20content%3D%22text/html%3B%20charset%3DUTF-8%22%20/%3E%0A%20%20%20%20%0A%20%20%20%20%20%20%20%20%3Cscript%3E%0A%20%20%20%20%20%20%20%20%20%20%20%20L_NO_TOUCH%20%3D%20false%3B%0A%20%20%20%20%20%20%20%20%20%20%20%20L_DISABLE_3D%20%3D%20false%3B%0A%20%20%20%20%20%20%20%20%3C/script%3E%0A%20%20%20%20%0A%20%20%20%20%3Cstyle%3Ehtml%2C%20body%20%7Bwidth%3A%20100%25%3Bheight%3A%20100%25%3Bmargin%3A%200%3Bpadding%3A%200%3B%7D%3C/style%3E%0A%20%20%20%20%3Cstyle%3E%23map%20%7Bposition%3Aabsolute%3Btop%3A0%3Bbottom%3A0%3Bright%3A0%3Bleft%3A0%3B%7D%3C/style%3E%0A%20%20%20%20%3Cscript%20src%3D%22https%3A//cdn.jsdelivr.net/npm/leaflet%401.6.0/dist/leaflet.js%22%3E%3C/script%3E%0A%20%20%20%20%3Cscript%20src%3D%22https%3A//code.jquery.com/jquery-1.12.4.min.js%22%3E%3C/script%3E%0A%20%20%20%20%3Cscript%20src%3D%22https%3A//maxcdn.bootstrapcdn.com/bootstrap/3.2.0/js/bootstrap.min.js%22%3E%3C/script%3E%0A%20%20%20%20%3Cscript%20src%3D%22https%3A//cdnjs.cloudflare.com/ajax/libs/Leaflet.awesome-markers/2.0.2/leaflet.awesome-markers.js%22%3E%3C/script%3E%0A%20%20%20%20%3Clink%20rel%3D%22stylesheet%22%20href%3D%22https%3A//cdn.jsdelivr.net/npm/leaflet%401.6.0/dist/leaflet.css%22/%3E%0A%20%20%20%20%3Clink%20rel%3D%22stylesheet%22%20href%3D%22https%3A//maxcdn.bootstrapcdn.com/bootstrap/3.2.0/css/bootstrap.min.css%22/%3E%0A%20%20%20%20%3Clink%20rel%3D%22stylesheet%22%20href%3D%22https%3A//maxcdn.bootstrapcdn.com/bootstrap/3.2.0/css/bootstrap-theme.min.css%22/%3E%0A%20%20%20%20%3Clink%20rel%3D%22stylesheet%22%20href%3D%22https%3A//maxcdn.bootstrapcdn.com/font-awesome/4.6.3/css/font-awesome.min.css%22/%3E%0A%20%20%20%20%3Clink%20rel%3D%22stylesheet%22%20href%3D%22https%3A//cdnjs.cloudflare.com/ajax/libs/Leaflet.awesome-markers/2.0.2/leaflet.awesome-markers.css%22/%3E%0A%20%20%20%20%3Clink%20rel%3D%22stylesheet%22%20href%3D%22https%3A//cdn.jsdelivr.net/gh/python-visualization/folium/folium/templates/leaflet.awesome.rotate.min.css%22/%3E%0A%20%20%20%20%0A%20%20%20%20%20%20%20%20%20%20%20%20%3Cmeta%20name%3D%22viewport%22%20content%3D%22width%3Ddevice-width%2C%0A%20%20%20%20%20%20%20%20%20%20%20%20%20%20%20%20initial-scale%3D1.0%2C%20maximum-scale%3D1.0%2C%20user-scalable%3Dno%22%20/%3E%0A%20%20%20%20%20%20%20%20%20%20%20%20%3Cstyle%3E%0A%20%20%20%20%20%20%20%20%20%20%20%20%20%20%20%20%23map_8125399e9f234a4c8485ffd8f8512209%20%7B%0A%20%20%20%20%20%20%20%20%20%20%20%20%20%20%20%20%20%20%20%20position%3A%20relative%3B%0A%20%20%20%20%20%20%20%20%20%20%20%20%20%20%20%20%20%20%20%20width%3A%20100.0%25%3B%0A%20%20%20%20%20%20%20%20%20%20%20%20%20%20%20%20%20%20%20%20height%3A%20100.0%25%3B%0A%20%20%20%20%20%20%20%20%20%20%20%20%20%20%20%20%20%20%20%20left%3A%200.0%25%3B%0A%20%20%20%20%20%20%20%20%20%20%20%20%20%20%20%20%20%20%20%20top%3A%200.0%25%3B%0A%20%20%20%20%20%20%20%20%20%20%20%20%20%20%20%20%7D%0A%20%20%20%20%20%20%20%20%20%20%20%20%3C/style%3E%0A%20%20%20%20%20%20%20%20%0A%3C/head%3E%0A%3Cbody%3E%20%20%20%20%0A%20%20%20%20%0A%20%20%20%20%20%20%20%20%20%20%20%20%3Cdiv%20class%3D%22folium-map%22%20id%3D%22map_8125399e9f234a4c8485ffd8f8512209%22%20%3E%3C/div%3E%0A%20%20%20%20%20%20%20%20%0A%3C/body%3E%0A%3Cscript%3E%20%20%20%20%0A%20%20%20%20%0A%20%20%20%20%20%20%20%20%20%20%20%20var%20map_8125399e9f234a4c8485ffd8f8512209%20%3D%20L.map%28%0A%20%20%20%20%20%20%20%20%20%20%20%20%20%20%20%20%22map_8125399e9f234a4c8485ffd8f8512209%22%2C%0A%20%20%20%20%20%20%20%20%20%20%20%20%20%20%20%20%7B%0A%20%20%20%20%20%20%20%20%20%20%20%20%20%20%20%20%20%20%20%20center%3A%20%5B36.75729987187895%2C%206.219817916110255%5D%2C%0A%20%20%20%20%20%20%20%20%20%20%20%20%20%20%20%20%20%20%20%20crs%3A%20L.CRS.EPSG3857%2C%0A%20%20%20%20%20%20%20%20%20%20%20%20%20%20%20%20%20%20%20%20zoom%3A%2012%2C%0A%20%20%20%20%20%20%20%20%20%20%20%20%20%20%20%20%20%20%20%20zoomControl%3A%20true%2C%0A%20%20%20%20%20%20%20%20%20%20%20%20%20%20%20%20%20%20%20%20preferCanvas%3A%20false%2C%0A%20%20%20%20%20%20%20%20%20%20%20%20%20%20%20%20%7D%0A%20%20%20%20%20%20%20%20%20%20%20%20%29%3B%0A%0A%20%20%20%20%20%20%20%20%20%20%20%20%0A%0A%20%20%20%20%20%20%20%20%0A%20%20%20%20%0A%20%20%20%20%20%20%20%20%20%20%20%20var%20tile_layer_0a5f2aec6dc7429caa5e14a91dc63341%20%3D%20L.tileLayer%28%0A%20%20%20%20%20%20%20%20%20%20%20%20%20%20%20%20%22https%3A//%7Bs%7D.tile.openstreetmap.org/%7Bz%7D/%7Bx%7D/%7By%7D.png%22%2C%0A%20%20%20%20%20%20%20%20%20%20%20%20%20%20%20%20%7B%22attribution%22%3A%20%22Data%20by%20%5Cu0026copy%3B%20%5Cu003ca%20href%3D%5C%22http%3A//openstreetmap.org%5C%22%5Cu003eOpenStreetMap%5Cu003c/a%5Cu003e%2C%20under%20%5Cu003ca%20href%3D%5C%22http%3A//www.openstreetmap.org/copyright%5C%22%5Cu003eODbL%5Cu003c/a%5Cu003e.%22%2C%20%22detectRetina%22%3A%20false%2C%20%22maxNativeZoom%22%3A%2018%2C%20%22maxZoom%22%3A%2018%2C%20%22minZoom%22%3A%200%2C%20%22noWrap%22%3A%20false%2C%20%22opacity%22%3A%201%2C%20%22subdomains%22%3A%20%22abc%22%2C%20%22tms%22%3A%20false%7D%0A%20%20%20%20%20%20%20%20%20%20%20%20%29.addTo%28map_8125399e9f234a4c8485ffd8f8512209%29%3B%0A%20%20%20%20%20%20%20%20%0A%20%20%20%20%0A%20%20%20%20%20%20%20%20%20%20%20%20var%20tile_layer_e4cffe6b0711483581675a1a526b5654%20%3D%20L.tileLayer%28%0A%20%20%20%20%20%20%20%20%20%20%20%20%20%20%20%20%22https%3A//earthengine.googleapis.com/v1alpha/projects/earthengine-legacy/maps/f77668bd09666738b172a97338afb3f3-93304c71e97d2e01a2a789c9388f9aec/tiles/%7Bz%7D/%7Bx%7D/%7By%7D%22%2C%0A%20%20%20%20%20%20%20%20%20%20%20%20%20%20%20%20%7B%22attribution%22%3A%20%22Map%20Data%20%5Cu0026copy%3B%20%5Cu003ca%20href%3D%5C%22https%3A//earthengine.google.com/%5C%22%5Cu003eGoogle%20Earth%20Engine%5Cu003c/a%5Cu003e%22%2C%20%22detectRetina%22%3A%20false%2C%20%22maxNativeZoom%22%3A%2018%2C%20%22maxZoom%22%3A%2018%2C%20%22minZoom%22%3A%200%2C%20%22noWrap%22%3A%20false%2C%20%22opacity%22%3A%201%2C%20%22subdomains%22%3A%20%22abc%22%2C%20%22tms%22%3A%20false%7D%0A%20%20%20%20%20%20%20%20%20%20%20%20%29.addTo%28map_8125399e9f234a4c8485ffd8f8512209%29%3B%0A%20%20%20%20%20%20%20%20%0A%3C/script%3E onload=\"this.contentDocument.open();this.contentDocument.write(    decodeURIComponent(this.getAttribute('data-html')));this.contentDocument.close();\" allowfullscreen webkitallowfullscreen mozallowfullscreen></iframe></div></div>"
      ],
      "text/plain": [
       "<folium.folium.Map at 0x19600d714c0>"
      ]
     },
     "execution_count": 10,
     "metadata": {},
     "output_type": "execute_result"
    }
   ],
   "source": [
    "map1"
   ]
  },
  {
   "cell_type": "markdown",
   "metadata": {
    "id": "wi8HgmDJkX3p"
   },
   "source": [
    "k-means clustering"
   ]
  },
  {
   "cell_type": "code",
   "execution_count": 11,
   "metadata": {
    "id": "C3uhdmQPignC"
   },
   "outputs": [],
   "source": [
    "#converting the rastor into a numpy array\n",
    "rastor = geemap.ee_to_numpy(sat_image,region=bound,default_value=0)"
   ]
  },
  {
   "cell_type": "code",
   "execution_count": 12,
   "metadata": {
    "colab": {
     "base_uri": "https://localhost:8080/",
     "height": 180
    },
    "id": "5wIGGKgIAUws",
    "outputId": "35712449-e882-422c-ac5f-cecc77e1e4c8"
   },
   "outputs": [],
   "source": [
    "w,h,f=rastor.shape\n",
    "rastor = rastor.reshape((w*h,f))"
   ]
  },
  {
   "cell_type": "code",
   "execution_count": 13,
   "metadata": {
    "id": "KWASYhsd_EB_"
   },
   "outputs": [],
   "source": [
    "#convert to pandas data-frame\n",
    "#each pixel is row and each band is a column\n",
    "data = pd.DataFrame(rastor,columns=sat_image.bandNames().getInfo())\n",
    "data = data.drop([\"sr_aerosol\",\"pixel_qa\",\"radsat_qa\"],axis=1) #drop unused bands"
   ]
  },
  {
   "cell_type": "code",
   "execution_count": 14,
   "metadata": {
    "id": "Xr0lA4fFChvJ"
   },
   "outputs": [],
   "source": [
    "#normlize data\n",
    "data = minmax_scale(data)"
   ]
  },
  {
   "cell_type": "code",
   "execution_count": 15,
   "metadata": {
    "id": "nITz-DpcIwXT"
   },
   "outputs": [],
   "source": [
    "#pca data reduction\n",
    "n_components=5\n",
    "pca = PCA(n_components)\n",
    "data_r = pd.DataFrame(pca.fit_transform(data))"
   ]
  },
  {
   "cell_type": "code",
   "execution_count": 16,
   "metadata": {
    "id": "4hOAZdqySBlq"
   },
   "outputs": [],
   "source": [
    "data_train = data_r.sample(frac=0.5)"
   ]
  },
  {
   "cell_type": "code",
   "execution_count": 17,
   "metadata": {
    "id": "H1SVEo1dDk85"
   },
   "outputs": [],
   "source": [
    "#applying k-means\n",
    "n_clusters = 4\n",
    "km = KMeans(n_clusters,random_state=0)\n",
    "km.fit(data_r)\n",
    "classes = km.predict(data_r)"
   ]
  },
  {
   "cell_type": "code",
   "execution_count": 366,
   "metadata": {
    "colab": {
     "base_uri": "https://localhost:8080/"
    },
    "id": "lOP-Vba9Rjhh",
    "outputId": "a9791e6e-3f29-4157-a96b-ad3f6e279201"
   },
   "outputs": [
    {
     "data": {
      "text/plain": [
       "array([2, 2, 2, ..., 2, 2, 2], dtype=int32)"
      ]
     },
     "execution_count": 366,
     "metadata": {},
     "output_type": "execute_result"
    }
   ],
   "source": [
    "classes"
   ]
  },
  {
   "cell_type": "code",
   "execution_count": 18,
   "metadata": {
    "id": "bfZmum0HDx7X"
   },
   "outputs": [],
   "source": [
    "classes = classes.reshape((w,h))"
   ]
  },
  {
   "cell_type": "code",
   "execution_count": 19,
   "metadata": {
    "id": "KlYtmR8MEUp0"
   },
   "outputs": [],
   "source": [
    "#classes coloring function\n",
    "hue = {\n",
    "    0:[82/255, 182/255, 154/255],\n",
    "    1:[30/255, 96/255, 145/255],\n",
    "    2:[217/255, 237/255, 146/255],\n",
    "    3:[177/255, 167/255, 166/255]\n",
    "}\n",
    "f= lambda i:hue[i]"
   ]
  },
  {
   "cell_type": "code",
   "execution_count": 20,
   "metadata": {
    "colab": {
     "base_uri": "https://localhost:8080/",
     "height": 763
    },
    "id": "NmmNkyqBEWR6",
    "outputId": "fe23b1cb-e5ba-4b15-f5b8-fd9251293bc4"
   },
   "outputs": [
    {
     "data": {
      "text/html": [
       "<div style=\"width:100%;\"><div style=\"position:relative;width:100%;height:0;padding-bottom:60%;\"><span style=\"color:#565656\">Make this Notebook Trusted to load map: File -> Trust Notebook</span><iframe src=\"about:blank\" style=\"position:absolute;width:100%;height:100%;left:0;top:0;border:none !important;\" data-html=%3C%21DOCTYPE%20html%3E%0A%3Chead%3E%20%20%20%20%0A%20%20%20%20%3Cmeta%20http-equiv%3D%22content-type%22%20content%3D%22text/html%3B%20charset%3DUTF-8%22%20/%3E%0A%20%20%20%20%0A%20%20%20%20%20%20%20%20%3Cscript%3E%0A%20%20%20%20%20%20%20%20%20%20%20%20L_NO_TOUCH%20%3D%20false%3B%0A%20%20%20%20%20%20%20%20%20%20%20%20L_DISABLE_3D%20%3D%20false%3B%0A%20%20%20%20%20%20%20%20%3C/script%3E%0A%20%20%20%20%0A%20%20%20%20%3Cstyle%3Ehtml%2C%20body%20%7Bwidth%3A%20100%25%3Bheight%3A%20100%25%3Bmargin%3A%200%3Bpadding%3A%200%3B%7D%3C/style%3E%0A%20%20%20%20%3Cstyle%3E%23map%20%7Bposition%3Aabsolute%3Btop%3A0%3Bbottom%3A0%3Bright%3A0%3Bleft%3A0%3B%7D%3C/style%3E%0A%20%20%20%20%3Cscript%20src%3D%22https%3A//cdn.jsdelivr.net/npm/leaflet%401.6.0/dist/leaflet.js%22%3E%3C/script%3E%0A%20%20%20%20%3Cscript%20src%3D%22https%3A//code.jquery.com/jquery-1.12.4.min.js%22%3E%3C/script%3E%0A%20%20%20%20%3Cscript%20src%3D%22https%3A//maxcdn.bootstrapcdn.com/bootstrap/3.2.0/js/bootstrap.min.js%22%3E%3C/script%3E%0A%20%20%20%20%3Cscript%20src%3D%22https%3A//cdnjs.cloudflare.com/ajax/libs/Leaflet.awesome-markers/2.0.2/leaflet.awesome-markers.js%22%3E%3C/script%3E%0A%20%20%20%20%3Clink%20rel%3D%22stylesheet%22%20href%3D%22https%3A//cdn.jsdelivr.net/npm/leaflet%401.6.0/dist/leaflet.css%22/%3E%0A%20%20%20%20%3Clink%20rel%3D%22stylesheet%22%20href%3D%22https%3A//maxcdn.bootstrapcdn.com/bootstrap/3.2.0/css/bootstrap.min.css%22/%3E%0A%20%20%20%20%3Clink%20rel%3D%22stylesheet%22%20href%3D%22https%3A//maxcdn.bootstrapcdn.com/bootstrap/3.2.0/css/bootstrap-theme.min.css%22/%3E%0A%20%20%20%20%3Clink%20rel%3D%22stylesheet%22%20href%3D%22https%3A//maxcdn.bootstrapcdn.com/font-awesome/4.6.3/css/font-awesome.min.css%22/%3E%0A%20%20%20%20%3Clink%20rel%3D%22stylesheet%22%20href%3D%22https%3A//cdnjs.cloudflare.com/ajax/libs/Leaflet.awesome-markers/2.0.2/leaflet.awesome-markers.css%22/%3E%0A%20%20%20%20%3Clink%20rel%3D%22stylesheet%22%20href%3D%22https%3A//cdn.jsdelivr.net/gh/python-visualization/folium/folium/templates/leaflet.awesome.rotate.min.css%22/%3E%0A%20%20%20%20%0A%20%20%20%20%20%20%20%20%20%20%20%20%3Cmeta%20name%3D%22viewport%22%20content%3D%22width%3Ddevice-width%2C%0A%20%20%20%20%20%20%20%20%20%20%20%20%20%20%20%20initial-scale%3D1.0%2C%20maximum-scale%3D1.0%2C%20user-scalable%3Dno%22%20/%3E%0A%20%20%20%20%20%20%20%20%20%20%20%20%3Cstyle%3E%0A%20%20%20%20%20%20%20%20%20%20%20%20%20%20%20%20%23map_242b44b559034d57a6c21c8714c4fc5f%20%7B%0A%20%20%20%20%20%20%20%20%20%20%20%20%20%20%20%20%20%20%20%20position%3A%20relative%3B%0A%20%20%20%20%20%20%20%20%20%20%20%20%20%20%20%20%20%20%20%20width%3A%20100.0%25%3B%0A%20%20%20%20%20%20%20%20%20%20%20%20%20%20%20%20%20%20%20%20height%3A%20100.0%25%3B%0A%20%20%20%20%20%20%20%20%20%20%20%20%20%20%20%20%20%20%20%20left%3A%200.0%25%3B%0A%20%20%20%20%20%20%20%20%20%20%20%20%20%20%20%20%20%20%20%20top%3A%200.0%25%3B%0A%20%20%20%20%20%20%20%20%20%20%20%20%20%20%20%20%7D%0A%20%20%20%20%20%20%20%20%20%20%20%20%3C/style%3E%0A%20%20%20%20%20%20%20%20%0A%20%20%20%20%0A%20%20%20%20%20%20%20%20%20%20%20%20%20%20%20%20%3Cstyle%3E%0A%20%20%20%20%20%20%20%20%20%20%20%20%20%20%20%20%20%20%20%20.leaflet-image-layer%20%7B%0A%20%20%20%20%20%20%20%20%20%20%20%20%20%20%20%20%20%20%20%20%20%20%20%20/%2A%20old%20android/safari%2A/%0A%20%20%20%20%20%20%20%20%20%20%20%20%20%20%20%20%20%20%20%20%20%20%20%20image-rendering%3A%20-webkit-optimize-contrast%3B%0A%20%20%20%20%20%20%20%20%20%20%20%20%20%20%20%20%20%20%20%20%20%20%20%20image-rendering%3A%20crisp-edges%3B%20/%2A%20safari%20%2A/%0A%20%20%20%20%20%20%20%20%20%20%20%20%20%20%20%20%20%20%20%20%20%20%20%20image-rendering%3A%20pixelated%3B%20/%2A%20chrome%20%2A/%0A%20%20%20%20%20%20%20%20%20%20%20%20%20%20%20%20%20%20%20%20%20%20%20%20image-rendering%3A%20-moz-crisp-edges%3B%20/%2A%20firefox%20%2A/%0A%20%20%20%20%20%20%20%20%20%20%20%20%20%20%20%20%20%20%20%20%20%20%20%20image-rendering%3A%20-o-crisp-edges%3B%20/%2A%20opera%20%2A/%0A%20%20%20%20%20%20%20%20%20%20%20%20%20%20%20%20%20%20%20%20%20%20%20%20-ms-interpolation-mode%3A%20nearest-neighbor%3B%20/%2A%20ie%20%2A/%0A%20%20%20%20%20%20%20%20%20%20%20%20%20%20%20%20%20%20%20%20%7D%0A%20%20%20%20%20%20%20%20%20%20%20%20%20%20%20%20%3C/style%3E%0A%20%20%20%20%20%20%20%20%20%20%20%20%0A%3C/head%3E%0A%3Cbody%3E%20%20%20%20%0A%20%20%20%20%0A%20%20%20%20%20%20%20%20%20%20%20%20%3Cdiv%20class%3D%22folium-map%22%20id%3D%22map_242b44b559034d57a6c21c8714c4fc5f%22%20%3E%3C/div%3E%0A%20%20%20%20%20%20%20%20%0A%3C/body%3E%0A%3Cscript%3E%20%20%20%20%0A%20%20%20%20%0A%20%20%20%20%20%20%20%20%20%20%20%20var%20map_242b44b559034d57a6c21c8714c4fc5f%20%3D%20L.map%28%0A%20%20%20%20%20%20%20%20%20%20%20%20%20%20%20%20%22map_242b44b559034d57a6c21c8714c4fc5f%22%2C%0A%20%20%20%20%20%20%20%20%20%20%20%20%20%20%20%20%7B%0A%20%20%20%20%20%20%20%20%20%20%20%20%20%20%20%20%20%20%20%20center%3A%20%5B36.75729987187895%2C%206.219817916110255%5D%2C%0A%20%20%20%20%20%20%20%20%20%20%20%20%20%20%20%20%20%20%20%20crs%3A%20L.CRS.EPSG3857%2C%0A%20%20%20%20%20%20%20%20%20%20%20%20%20%20%20%20%20%20%20%20zoom%3A%2012%2C%0A%20%20%20%20%20%20%20%20%20%20%20%20%20%20%20%20%20%20%20%20zoomControl%3A%20true%2C%0A%20%20%20%20%20%20%20%20%20%20%20%20%20%20%20%20%20%20%20%20preferCanvas%3A%20false%2C%0A%20%20%20%20%20%20%20%20%20%20%20%20%20%20%20%20%7D%0A%20%20%20%20%20%20%20%20%20%20%20%20%29%3B%0A%0A%20%20%20%20%20%20%20%20%20%20%20%20%0A%0A%20%20%20%20%20%20%20%20%0A%20%20%20%20%0A%20%20%20%20%20%20%20%20%20%20%20%20var%20tile_layer_92bc851dfb584f01a888b49fa5270089%20%3D%20L.tileLayer%28%0A%20%20%20%20%20%20%20%20%20%20%20%20%20%20%20%20%22https%3A//%7Bs%7D.tile.openstreetmap.org/%7Bz%7D/%7Bx%7D/%7By%7D.png%22%2C%0A%20%20%20%20%20%20%20%20%20%20%20%20%20%20%20%20%7B%22attribution%22%3A%20%22Data%20by%20%5Cu0026copy%3B%20%5Cu003ca%20href%3D%5C%22http%3A//openstreetmap.org%5C%22%5Cu003eOpenStreetMap%5Cu003c/a%5Cu003e%2C%20under%20%5Cu003ca%20href%3D%5C%22http%3A//www.openstreetmap.org/copyright%5C%22%5Cu003eODbL%5Cu003c/a%5Cu003e.%22%2C%20%22detectRetina%22%3A%20false%2C%20%22maxNativeZoom%22%3A%2018%2C%20%22maxZoom%22%3A%2018%2C%20%22minZoom%22%3A%200%2C%20%22noWrap%22%3A%20false%2C%20%22opacity%22%3A%201%2C%20%22subdomains%22%3A%20%22abc%22%2C%20%22tms%22%3A%20false%7D%0A%20%20%20%20%20%20%20%20%20%20%20%20%29.addTo%28map_242b44b559034d57a6c21c8714c4fc5f%29%3B%0A%20%20%20%20%20%20%20%20%0A%20%20%20%20%0A%20%20%20%20%20%20%20%20%20%20%20%20var%20tile_layer_120907c4418347cf81208ebf3a613154%20%3D%20L.tileLayer%28%0A%20%20%20%20%20%20%20%20%20%20%20%20%20%20%20%20%22https%3A//earthengine.googleapis.com/v1alpha/projects/earthengine-legacy/maps/f77668bd09666738b172a97338afb3f3-a141e61e781634d3b6d3ffd8f4f674ee/tiles/%7Bz%7D/%7Bx%7D/%7By%7D%22%2C%0A%20%20%20%20%20%20%20%20%20%20%20%20%20%20%20%20%7B%22attribution%22%3A%20%22Map%20Data%20%5Cu0026copy%3B%20%5Cu003ca%20href%3D%5C%22https%3A//earthengine.google.com/%5C%22%5Cu003eGoogle%20Earth%20Engine%5Cu003c/a%5Cu003e%22%2C%20%22detectRetina%22%3A%20false%2C%20%22maxNativeZoom%22%3A%2018%2C%20%22maxZoom%22%3A%2018%2C%20%22minZoom%22%3A%200%2C%20%22noWrap%22%3A%20false%2C%20%22opacity%22%3A%201%2C%20%22subdomains%22%3A%20%22abc%22%2C%20%22tms%22%3A%20false%7D%0A%20%20%20%20%20%20%20%20%20%20%20%20%29.addTo%28map_242b44b559034d57a6c21c8714c4fc5f%29%3B%0A%20%20%20%20%20%20%20%20%0A%20%20%20%20%0A%20%20%20%20%20%20%20%20%20%20%20%20var%20image_overlay_b395ac633c8549b2b29f0cae08990596%20%3D%20L.imageOverlay%28%0A%20%20%20%20%20%20%20%20%20%20%20%20%20%20%20%20%22data%3Aimage/png%3Bbase64%2CiVBORw0KGgoAAAANSUhEUgAAAmIAAAFoCAYAAAD0JZcdAABWcUlEQVR42u2d27Hk2G5Eyxc5pj8ZKBNkgDyYkAHjQytGEXOj56hI4pGZADbxwQ/p9pyq4mPvRSCR%2Bfm3//jj1x7447//85fp2HOCO09Pf%2BPf/%2BvPy8PyWYzraPluV99z7zHefVdxj3uP6P0S/f7V1%2Bzn///q91atUZbrxTqvyvUUcR3R/43lb3Zeoz4LTT02gj0H8XOD2rgyG1X0gfeCWAbK9tnjnqvshoyEMcYm3Om63f3ubhBmuS6M8xX9PPTzkf1s1DlZEDtkQc9e/E6bpPIzGRCG2rR%2B//%2BjFinPuc2A2MKYvkqA%2BJy7e/Dn/88CbpH7wfvbOl27u2e3azWTdX3uvne0Asf8fhUVuAnr3%2BfNYIUsFV89AN1ATP2Z2QUMuUBaYaYriEU33beBWIcq2M/r83TvZYH7JCi/g5doyxXRCn36TDS8IaqGrO4C48WfDWELYo1BLFPefnrz6XSTdP7cSk1N5UIV0a9ZNueI/u3Nre/M5oJ6CchWPU8Cc08VqUrT6wExRgXbWyGt1jZ3ALFtTTY9MiDmffuouEmqF%2BPI5yphjKlHQ4PYXSvG8xvV4upOoKVoB2UGRRCDGSfAmAde1PfWFYh5W9FsEFO0allymQWxrYrBNuSrNihb39VpIe4IYoj2BmMzR%2BuAVBCmuLcU%2Bhz290BPwp4KYhF4Yd1fTzo5ZCWe2aKsHDTLVpuR13FBbAiIZcq4Sk3W3d%2BcBGIdYCxy7e%2Bqnejz09nCojuEec4ZuxqX1YCxn5HuIMaaOqya1laBWIepf4X8RSm/YfyeBbEghCnF8cxFuuPEWvfKgPJtE1ExmWrJwvJtqnohUPl9TQWxjC2HGsRQL34MCGPAQsd7yDNYgfztWxEjbybMz2AsUFmLhy7i6Q7mmBlB6wmap07aw4qpWosGFNFOVE7uTgWxSOWw40tutCqWMZh%2BqtpM0owhJl2nWD193g5fSihBfefswt3dzbwK2NQAfyqAqQA1Y2hp/VtsTRdzcjd7LpVrHUJPNzEFQfnsV7dyp1sxLYgRW5EVHl4s1%2BQuJq4VgLEgVj99GxXAd2hlV4FY5j5HfZdOXoMM8%2BIK25wn6xk2iFUI%2BE82JV8QO4ieWZ4uVRv10wKAXmjYxrFqq4YJINYlFUEhXGe3Jbu26qur6EgQ6zCFijBeRphgK%2BxlNtN2QWwsDEY0E902avRChGg9VJl5dmqJdEtFyJqgdpmyfXoO7wx4O1V9M%2BCnqqBnK0cdYKwaxNT%2Bfru/L4gdMxzAtC9ggNhTXt6VKakn0kcBYtMc4Ds5jTMrVxYJQYcN8MmgtUs1rPtA06kgxn6RZuv%2B3tQiXBB7%2BbCAwvSROd2UCa5%2BC4hNMehUbxhIqFO2EdHPaicAe6r8sqF/OoihXwqy4vltIS6IjWwLqjdlayVpUsvKA1uWTW1BTLvxsjeNiKFpdDNGgxn6panDNHDVuokG2y4ghoAxlHB%2Botv8gtihuZITsy%2BtvX9VqfjbxmYNqfaGWqv8lU5qTXaY4oyKsrtsnh6wY4BYNzCv9A9jxFkpNYRsScndd9hq2ILYghgw%2B7JTlc/bmomEGyvakx2mgljGpdOqYVNgjNEGtZ6nk0K9n17smJmiFfeBEsSm3gcLYi8R5k353t9ApLO%2BDa0DYwfgehynO1lDKKJGEBvfm0AMsckiY366Z0iyJ8MrK2FsEPMMqyyIbUVsDwKMdR8yyACaEsQyG4V6IvEJcCZVxNiB5lMOy/2Ebn9OWzemHpaugMKaotq0fI8FseNaqV1ADC1m9m4qJ1U%2BrQv0U0W0MloIpXVCQ/okILuSFpwEYtX6rC7xRcr7OSPr2GNBbA9HW2yKwBwBYqe1ryNvylNAzFvxY1RMJ4MYA1LfAGLV94rHP5FhJIwKk99jQWwPgu6JoQdDVcE6LRpVcS6s0OeOmybDV246iKG0l12h7PRKWMacGg2ans/fPXVBbA/SoqaejkRvuN28vTpfxykghjb4RQm6M38H9d0i%2Bjn0Zy%2BE6e5x5mdEYHD31AWxza9KivgrDFszIbwe64pubddu1U1ViHlHCENsbsj/nlm1Q77MLIj1qob9HMhC3XMLYnM90z5vr/xMnqZEn5eq/LTKa9s1u1HpG9S5HemtBkTDuSMGnd1grEvEjeelLLPGTACx6IsqSurxZhCb9DvHgdibYax7vuA0w8kJkUEMmFNddwWIeTfBKSA2UWtpzdJFZHeyoNfz75D3Afuen7h/Il4qF8Sab5BTLS0YDxcqcDkrQp8w2VUBttYN7udi3GWaLRJ71aG1ORXEOmouo79ZUQ178gC7up9R94G6TX%2Bqc8Dk3/qZvjm%2BqYzJMO5T6JUmnlvUOWG2TyIbcJew4%2B4QVjkhNxnGKgOy2dc0o8laCMPcS3f79oLYkIrYCTfp00NccZ5Pqlp2CWpmgxhzw6vYjFSTl6j2kOpcnCDSZ4OZ5zyi7zHG/Xu6%2BP5E8PxM3hRZF3XK5GQGxFjRQm/T5VWZVFoX6DsIs2TkRcCtqj0T2cjQWh6E/oj1eyf6h1W50l9VwpQWKyrz66t9sftE4kkw9pm6EaLFf1P0TJYFAd1WfLs%2B7wpolNYPGWFzxLkd1W5hbIiZ6kV2o/eel%2BgU3dSq2Al2FVG/REtsWfS3sifln9a9rkHyWxEbOI5qjY2Z2pa0VsgQ0TXr6/YHDcaiEBaFH4bInekmHgU1iwAb1Y6Mnj92C3ZBDBMrZIH/ztPmJ0lIOsXkHe2svzefrbV0tUBkwKG6%2BjRdT4Zo0zHdvJUTh%2ByAZevGGPldnkw/1DXxtqEtnzNVI1bZoswMorBarQwR/Kl63gWxdd6F21dEjuwCuSZ8ehNca4sjA0xKwftTu4MZJ2OFJVSwMupafPv8LAB38RKLvph0hzDLtYmAOWua/WQQW2f9BTGZu76iNakOwj7trSwDY8wpPgWIoTYMBHBG47rYbUlVyHknU9csiKiALOKNx3q%2BLRrnN/txTv4tC2JDjV0jrUnPAITqgT3R6wZt64DWdaEhLKpH6gJiyCk2T8wMMkS802aLhM0OMUZXFa0sXEYmdiPi%2BjtJymp9F8QWxJIQ9g2eMhWxiirVGzQK2Wk7tMhe5cfVBcQQFRlVpbF7NSya2hDV5HU70JFGyGtZHfS%2Bx4LYK8qYltbj74tYphKlBLE3ApinYtXNlR4BYpUBy0iPsykghrD8iYTSszzXuoFYdT6vyhtzoW5B7NU3y522hemVxXqjnpxowHbMPh3EKqoS0VamsuWr2txZHk0ofV1XCEODImu6tbIiuseC2PGlWI8ODHFOFsJiAMHYkJVtMQQssO0NGK3eTMu3YxwTu2UcnRx%2BAtnuIIb67xheb4rW9ILTgtixHmHZ6tiUtIApCQZPpr%2BVcT3qnMITQMyzKXrDn08CMZZ1BCPloKolGQ1vV%2Bj4nuLYttixIFa%2Bib4BxiaMKk94mD3tl4qqVFUlrjuIoWOVPJvwdBiL%2BqyhslNPqYR5Yo8Y66CqKrYwtiC2xwWQTYCx7Hfq7BB%2BEoihdWLRfD0FvFgjkaqufWcQy37H7uL8DIhlcj%2BtreBTnfMXxPYYD2LKNySVI3KlyWw3GGNO66lBrApelFDH/j3ZimWklRgB1arYoqqKGArC7tqNXlBDdgoW8hbEFsIchn/d8iQnGFVmxbnTQAzh2G/ZMLpUkrwB4ZXXPwuSTzCAtPvobv3AhrEsiGWrmeg18m0O/Qtie0AejirtgLWNqPAPQlcbu4MYanNGG6h2OF8sKGBW%2B9AedXdAgPZdy5yDKVCWAbEnvSzSm0/90mzRlS3ELYgdD2GdQAzhN1Q5lJBtozCmFVGfe/eGX7FhdqkeZsLMkROEivvLGuPDBLFu045RfRjC6gXp/8bcZ7zDB5PiuRbE9nDDAcIfyNOWixjCWkTBjLfm6SCm0iypdFNT9HSTTEMZFTa0iN77wqEAfEZLMnINuspHusH0gtgeY0AMPa34pCt5gizr92BOkCEXJGtVSeEvxWqZKCf5KiY7p7TGLFXL7i0/VJzXBF3at%2BsVsXfpqt9l3Vsd9csLYntQ2pERD68n2EM6QN9pWKpB7Koq5mn1MaYZu8APY7KM%2BR2n6ZOQBr5KC4koHCsnGJVt0UmgoTh/pyavLIi9dDIyG11kEeyydGYZHyllWftuUVUafaI2THX0UnVmJgrEOlfOOlTE1EMoJ4DYlP3Ga1WDTHb4uT8tiO1R3opEZpN5bQfQWobIQpYVVFfabXQw9Oykx%2BoAY6rA54p0AYYPWCcQy%2Bo1kb/1dBCzwhdqf3ijZmxB7IUQxvDzYsAYy7FbcZ4YWjGkjoUVVl3t9G/5TlUVrM4w1gnsn%2B7b6HVV6Cw9IDNRAsMYDFP7oi2I7QGdkkSWbVEbDQN0KsKP1VUxpYZJAWFdQKyb7qsaxCZMvGbbrlW/efokIHvNrPoeC2J70EFM2Ypj%2B5FVuGJPaU8yzgNqCrHDZOQkg9AuMIYwk2V%2BD3QVVj2IMAkmunxfy7OyFbE9WrYnWVBUYQzboW3E/D7VIIHaPLtZVES%2Ba/U91xXErIML6PubXUVTTvhO8svq9N2seZoLYnu0ArGq0V%2BPMHkKjHXaNKdP33XUh739nqrO7%2ByoKaxKMOiY%2B2s1nu2wryyI7VEGYV4Yq35gKvVY0zfP6RYIC2J9QUxhbtvl%2BiP81ZTTum8HMWZk04LYHnAj0eq3KwuERStiJ8AYyrG6g8h68iZcNSmpBEF0juk0y5SuFbFo5iRaSpJ92e%2ByFy6I7TEOxJgaMesDgp7knAJpqOgQhIBarXfp1H5iQ1GXyhwy6ml621Spd/T%2B/z25k%2BjIOm%2BE2xvd7RfE9gg9IKqIn45vQx18obIGnlUghpgA81ZZ1Bs0s0KF3PS72Umgv98JrUlrBTHT9q2Ou0ND4h4LYq%2BdlLRMhu054reSrIsms5pihRGEdibj3aQWkXewIKkwWM3AdzbrlOVbV92WRFWYFXIN74vhgtiC2FbCmpmZnuSxhsyGy9oisLIls0LkrO1FhxDyKhd5T75m9fBH5t%2BeUB3r8JLQSSP77fvuvrwg9irgqohN2XOZjyXJvnmy9E2Z9qDl73QRQd9VXVBghtaqdQExdHbiSSDGhrwpw0q7Xy%2BILXwJJrAWxPDu6EhxPqp1qHJKV1pdMCNo2ABRIYpHDXqcpBdTJmBMnBrfvXtBbHVfolH4SbA12eoCJY5H/tsOKQAdQWyatQaqDZf5d0zAme5JNtG%2BZ/ftBbGjpyC7TftNrHhNhDE0iEU3vG72DIqKRvfKTReDYE%2BgdkfLEkW2JRvC0OtZ9B7bvXtB7BV%2BYGyh5VOrrPsDh7CI6GTOydKtMCsk6M1dcb7eBmIKv6wonHud55Hawaj2EVUN7iC5OCmYfEFsj1I/MCaITdZ%2BVQR1V5qAovL6kJs7aiqPqaerdFHvAGLIjdsLPVXXIWvx0sEpPztBj7gndh9fEDsSwtDC8MznTBfhqycpK7VQ0Uw7lLcUEsRY3wcZ0aQ0nfW0pNE%2BdMrpw8p2deXndWhLdozJ22NBTAoRmUXC85DemfFNFOhHFzmv5UfECb/TxFhVNWfKpByz0jTBx0phToueWO12rZnVpQp96lbEFsS2JUnILbwCl8kghj4/FhDz2E%2BwF/q3TJtNhDFlhmc3iwZEpE%2Bnyd3ss6byfcx2S3ZyckFsrSpIE413D5vVePQEj7BMFpunAqmCsYl5fdPALNq6q6rgRO%2BVykqlcpoWNYijADFlpu3aWCyIrVWF4AGIVIpONGuNwpundaCqakwAsdMCoCuCzBHnUFG96w5j6Iloxm9k5EYujC2I7SGML0KA2JUmasI5ZZ1nRbsZkZuo9ETKfMdTQCwaTVTRMo0Oc3RxsI9WAT3XpENFTrl%2BMappu78viL0uhDoDfwu/fNhVTKV1hxfPpnqCrgxdFUP6202priKqyhGYU1Rv0SD2tBZl1sQFsQWxBQLyuPOeey2InQYg6IrRKSL/CjPcrM3G5ODtq9%2BZbT%2Byzg8LftAWGLu3LIgtCCyIHQFiqqrYJECZOGhQETmE/Jvd9WHq8HNv9VA5eJGVlaDWQsXfXHhbEJNt%2BixxJOIhWRjjtn89bY9TQWz6xGdFtigL7FT%2BYVXXACX6t/wttA7OA2LWfUdVEUMVGpYbFsTaVr6QN%2Bze%2BH9Iq2FvB7Fp%2BjZGXFUXEKty1FcCGapKWRmvZFlfVGshc32987PcY0FsBIghYGyvD%2B48Ixb3NVTtJ7ZXVMo6G5u%2BsT2ptFmpBhFmhSqad7zHgpjk5rYsLKy24t7weWCO/I0FsZk6NhUYVATGT/N1OwnCugGIEsYWxBbEym9q68LCaitmp2wWxHjtjoWid4j0LTohBSB0BLGnCcbpFbCr39B1LWStr53Pw4LYwRu7d2GxmJYy3JT3mvEX8ej03ALQWZmU1bBQEa7tATGG4eq2I88EvgWxPWBCRYQbMisge68dZ0Te6n6%2BMHZmOHgljKlA7Nev//nX4XkmumnCkBFkk9ZcdrtyQW5BbMxmjhBX7hixf4FQL%2BgLWzOmOpEgVhWArZjG/B3Cfh53L6ang9gkGGPtEcipzAWxPcyVKjaMVfpnnej9xoLsBZzZU5Tsax%2BpqGf0V1Ugdlch63owQexprT9JxD/9uyyIDS/hoqwqFCC2/Xt7SX0B7Mx2IzN2CNn2jFT4KkBMbeMT/TssoM5e57fCT%2Bb6syt0C2LNN2umZQJLrL9gFquaKQTPC0s9/MQU7ekOZq6IapCnHclYi5Bra3TwoIN3ZDePMVV79LQ9a0EMCGKoNmEViK2gn/MGPTkG6E2mriqt4Ikg9juMZc8nEyYy2ZQdTbzZIMb%2BfllPxwWxrZZQhPNXegJGe/JNo9es1rK3dbRtzR7xRopKRyWIMf3EnkDsDl6qKzKR6XfFgEHXdmB3Y9oFsQUxiq%2BXOpTVY0Y4%2BeZH6Eeym9dCET6OCH3%2B3xC3g5jKjExMdoASpC/Z3Qv0KW3J041pF8QOhbBKg9UoWEQ2ohNBjN2O3KMWxib6iCmsO1gg1rFChFgDq/RYiBxihJ3SMsGCWHsI6zqV8vT9WAvRJE8xFYgtzM0ZYMjYTCANgbtdo28Q1n1wKPIy%2BvP/rqzmICLwVku8IDZ24z61lPrGh081WdWx2jMBprqdmwwwZTzCTgWxSNtPsdZFo%2Bmm7EfTdW0LYlsNK4196Fi2XuH%2BgpgnvuYkEFP%2Bt9NALNKaVIREZ6UZ3TRRke%2B2ILYg9uqqWIX1ArqVetpDh4icimb/vTmTcfJ5UoNY1/a3J94oq6tTtSKfrl2nPSezNqPTYZYNFsQWxEhi0BM1Yaw3wzVu9QHalVD81MGI6u/Pmj69gjDECwxLj5UB6TclxFQOmy2ILVgdG0beuZ16QtD3CvP9MHbnq3YaiCl%2BQ2ZYAFkNQwy6oATt2fzODlWxrn6YC04LYnuADWSzSQLTz4nKRX0hzC/cfnNqgVXMb5nafGoZKtuSDPhhWoJkv8v0IsTC14LYHoW%2BZUiYOxnCFsT%2BLKk0emwmTjm3Hg3az//N6oR/9xksbVgGxBSSgsx32f1pjwWxF8IYcvIHmQV3KoRZNE8LYbHqGOo7nNre9KRjIJzwWSau2ZYkuxrWec3bY0Fsj4Zh428FsS4xNAti/ngbtE3E286/t3rlBarof6e2RUAGsZ%2BoEVs4XBBbsT8Rwpj2E15bjM5BvhUgtpWwXGu3%2B2Rqx2udgTEUvFVZIKAqcuzvuPvoHgtiQkBSGsGqFpPo2HMHCMtO7W3%2BpAbEIrqiihZh13tABWPeKigbRrqD2LYt91gQK4QkBeh1WEzU3yG7%2BWfExBsE/qesvWv5byp/Y9drooQwa0xQJwhTvjyufmyPBbGBVbGu%2BZZPf5e1sHWYhlwQ405MWq0ZKipeSEE40/m%2BAsSsQwMIEFOuARNe3PdYEFsYIzysU0BM2aLsov2aoANTfzfWeVeFY0da0UjTUtS1UkJYFMTY0UXdQGwhbI8FsRcOAnRvCXqnQDsI8K%2BieSZ7ULGm9xggZr0m6FBvpB2DyketojXphVfVOoS6HzNr84LYHgtiq19rr8PoCGFP%2BYjMahK7UtW1KobMCIzCi8KoVuF5FbGgYOvDlIHebHju1J3YY0FsjwHu%2BmztWRauuoMYGwqmgxgayFEtyyyIedpurEoM0tQWDWTRc2NZm9QVc%2B95XIH%2BHgtie5RMKz6JbyNWG5UQ9vt3qIIx1N/1mFZ2hrCoS3rkdyNsM67%2BfRWEWVvEd077LP8wdNVM7QW4IPa%2B7s%2BC2B7lWZOeRaXzZKT14VWBmKo1NTVj0lpp8sYAWStqGQhi%2Bqt5fyO7XVkJYuxKNwLEti3JG3arMA1fENujDYx52oldhwEi%2BiTv5lIBYpUO8%2BhKV9RSxAqnFW1gNohFBygQQn2kDYz3RUopOegCYtOhAxWbdxKMLYi9BMLUSQAdbCpYf/8u4y%2Bz6Uw1ElVuoMgpUuTfixgHI%2BHAm0WJArFshBVyoIN5b3XK2p0OHagM4%2Bi1WRDbo4Wj9AQz2e5i/W/VAGQVTAElk1qTLONWVZuZDQjR7x3Vi6khDJmckTnPHfRLJ7Q5USB2SlVsQeylMKaKGTkVxDwmnVMmOLtrxNAVLMSk5ZtB7Kkt6xmi6AximfVsQQw7XFZdbFgQ2xs5fHOqBY7TQAzloD7ZRqNKkK783SjT1C4Gw4jBjswEJWtQJAu6CFkACsRO3G9UexZDhqPIPF0Qe0mPPVLmraiMTYkxiW60J7TqugMIw%2BIjG0fUAbo7gJinPa%2B471ih7Tv5iN8LLOBcmeyyILYgRoGfSWXcCrEuYgFXVY3Uwdds77Cof1h2UCJSnenSokRanWRBrMMLADPbc0GMu8ZbzjfSO3JBrOFNsKXgXyMrfGxTx6tN2OptxfCU6jIpmQUQhD0KohqCAjHvdUe03ZAO/AidWBWMKYyTF8S0IMZ6uelsArsVsQWxIyZqquNk1C29rrYVFvBgtKqj1ZDMZl553ZF6N0R7chKEZc7XQpS2IqbwmOvAEAtiC2LSc5GNQGIDGWJxP00j1hHEPD5a1nYyajOvGCzxtpy7gFhUZK%2BEsAWxPpP%2BDBjrEKu0U5N747cEMQRks40dVUBWFWGEEMIjQCyj8cvkdDK1hSeBGHqAgh2Env2uC1F9YEzpqcncNxfE9uY/eoFRgxh6Q74aAugEYl4dGWth9oIYagpWOWmJ9kObCmLsIY27v7UApd%2BTrEDliVvrtF%2Buoeve9EcvMuqqGLo68g1slCAVdeSvyhG0/p4uFa6sRgxRxcyEf0dhrHLiOQutC2OcogjzZa1DWsyC2FbDFsbAm7pqI2e1JdmDCpbfjbg%2BTwJ8pSmoGsSyTvtVIIbIdK0AsdUr9/j9as8wxd64ILYwtjCWaD1F22BZnRnb1DRb3fNUxVgVsIx%2BrzuIIeAaBWIW4T66qonQZl5VSr99btdM3t27NHsY%2BxotiO0N/XVxWr3Y88aMmr7LAAWyCjHFWR%2BxaTOjr7ItNdSkpuWeQEHYXXVMMbWc%2BSzLs37S5PrqnDdrcm0rBni6vEW8733Is3EumUpHpP2kgiFvdbUKaJjh7HcvfcjKGzq%2BCQ1iv8MYw3alSovHAIcdBMAD2YLYgti%2BYRx%2BPqpArFuFCvmcoWN/ntrIKghjJkEg8hPZFbFpEPaUmlFlXrp70zv29c%2BS8/7WhTGMiWimvdcdxJgSABWIMadbLZtDp2D07hDWIWQdXQ1DPMsLXmceC2IvqeaskBQHYggx%2B5NouALEpmj3roDYe03Q57gCuLqCWMfKl6c17QWxJ88qb7ap5XwswCyILYgd2mbch94GYihBeLRagPjcyYa7d879KLuOLkA1AcSQbciKc3oX7G6p/LJjybZKtiC2ILYgtvmcDwt3BYhlqzbTc%2Ba82j0liHlbbEzbBzaIWV5arOdaOalq/d89lbCFsT0WxLblRmtPMv1ZprbG0HmSlRWDqRCGyF1knN9oRFL2/lI66n%2BDMARcsNuT3oirrFBckeixMDN77/28%2BQStb1qd2etUKFBHtWRBodOLCfu8eoYm0Do/tAktq8rKBLHOAyfedrVyvZsuL1h/0QWxBbGBzvtdFhdV7FEViHV6HjJtO5ThriUaqQoMKj5H4ahfBV%2BRSWZ2yDfKX2/3pvMqY9ua3EMKYtNbZIoYIxWMMTccS3oDImcw0nbqHOKtbsepQOzqs5i6wYgu7epaRKood8/B%2Bl6%2Bbw/ditiCGB3GMo71J1TELFYJ1g2YZaug0uihK1poW4u3gdjV5/x1rVQ5k0/tzQoYyzxH1orzxuvtsWL9tWUo3VwtMUqZVgCi/cZsHyJDuKPAF9kwVPcKcoLuKZDd8ve8lUZkcHmlSS/TzBVpCqsKhre0KT3P1e4zeyyILYi1nXaLimORVSGWxYQnE5IVk1R1j0dMM7NA4tX9ZFqXrHSAySAWhTcmgGWu8U4q7rEgtiB2PIg9AQbye0Rz4Doe0XN6kj0FqtpmPcddftNJIDbRJHf3jj0WxBbEyr25npypo95JXoEsoxrGACYViFmsGDqCmHJaMKMVWhDjAlg33Z7lOy087LEgtqL9Ugj75vDujeFRi6crqmHWjMoMNFj/bcfqKev6e%2BH4RMjyPBcVEIYQzldaxSw87LEgtiBWYknQOT8u66OlrF4pKm4d7vPOodeoGKMFMR%2BEoScYFfYWC2J7LIitqWsL2ERARCcImwpi097mK%2B0gmBWxjuHg0eSFykqY%2Bhx6nqEFsD0WxBbE4CCGijvqDmIZt3e2qB71N5Hh4BXTk8qW5J1IH6VxrMqpzLb6KithVa3izHOstIHZY2bE0YLYtibhv5MJE6yNOqN7Y0OmSh/WoULWsTrEmE7tmKNore5Ua8LQ5%2B7pxSX73Gxs3tkgVtWO3orY/s4SEGNuZFUVsbtqBgP2UMBYAWKVsT5ZoOrQlszCBLsSdveiwzyPLB%2B/J5PqBbJ5e2On%2BL0FsZfdbMjWUgQWnhZMpbdPtq3FBCZUezLbbuleDUMJtj0tP0/btxOEVdlUKCqGbDPlyKCAerJ9D%2B56tSC2INbuxkSGXiMXZ/RvRGhLug0AdGlNZvP%2BkBmXLA1WB41TB8NWb/ueCaZZe5Nodu6axJ6Rq7wgtiBWDl/IjYmxuVWGfndy1c%2BAWHUAeMaKhPUdvPE4nXRh3UAsMyTBBjGFh9kC2Zq%2BvxrE9maP63kYAuVKCFOBmGogwGNzwT6faBBCPNMnmrFOATHLs1ANYdbvoLqvdk961yDfa0Fsf8uzNYXSHLMriGXakUrbD09LlHk%2BGRsV48XqdBirArArEGPZfqggLPMyskC2VhYLYgtisolISx5it3I%2B24GbMeWocH2fUA1DeeNNdsjvCGFXINYVwlRxYKfBGCNGbw1dl3ZfNxmp1j91K%2BMrolAY4nqFRmkKiE2MX1JMC1aDmNVRX/UMRewpuqVOnDaVf/f3GL%2B3M9huRWx74XQQY%2BbGKTdilj5uWkanEnYUL1aKSJ23QpjVRLUDhE2K/zptH7X%2Bxp/DEgtiL/bXOs0fRR3zY3nYmAsRoxUU0YYsiG21jHEfdquGfdOeem1ZFC%2BK3e%2BnU/cvlEXN5G7Y542VsLfAWKUlQ9c3O1YVIrKAdMzqrD7Xne6dDjYGkZeBDhDmmZRkmbBWVcN2grJu3V6N2EAQe1vWZMQfTKEFmwJhd5YbbE3eNAhjw1inCnqnPE1FfJEn5NuT/1nh04e%2Bp1TP5nZ1zgKyz17M80u9XY0Rp0HYnQEle0p1OoRlhiUmPK9VINYJwq7yJa3GrdUmyQhNlOL5fFu1zGILtCC27rlH6MKQlbGOby2RWBsrGHgrsKjw6SkghphanQZjT9eOoR/qOiXpqXSqo8Mi16Uaxt7YvoyYAS%2BILYiNeTNXhEp3OM/sKTi2W78axH6CJGOyymtMO60qZoXIEyDMItDPPgueCWbP/854aZk8ZDOhKtZxr8l89utA7FQYY4jP0Sak087RHSygY09YETCZ1kcXbVU2sLxK3G/93tlr1gHCvoFY5l6Ohtx7s2xZlXymZc%2BCWG8Ii3yHBbFDbubodBcaxLqfW0SWXNa2QgliERsRtD1Ilc%2BYeuPyagr/1lVlBMldIOxOrM94obBaYXi1aQoQY9pbrGD/ec3pWNhZEBt6Q3s0SB6xODJvcRqEWUTlWX3JFShFtDFdJxA7gFjFxhWtZCH%2BRlcn/awmM1o19cCVN6KNvcYsiOXOT4WXWPaaLIgZWk2TbsYrQFC1JzsvEKiNHbmxeEGMUV2oKtGzJ8q6mtf%2B/t99mzy0LuxdIUwFXwidJXLCUvHysBAWmyCt8ktcEDuwIsaIVLEsWG%2BBsAoQy%2Bhe0I7d6rfCzBDB5BQBD0hNgrBMFSx7P0fXKMu/V734LHzhtVeMSVNvB2RBrEnLQg1i6AUwOwpecZ6QYmgFjHmrYQwY7AZiqmm0ThWxK3%2BujnowVDtSGQDewVT5TSCGhid0vrBqKG5B7GUghnTpzi5UHc9RRpjLqkxFtGHMzaJLa3JKfmX2MzoCVmRCEnnvK0CsKtnibRDGhB41ILLWls9bIUzZSmNWG7qCWPeK4bdF2as/ujLDZYEYwhZg0iJ/df69wyHeSWL1W/KpEJZx0kdNUN61GjtEjJ0IYRUvORNA7O7zXgdiTxEJ3d4KsgHemf%2BuQ4CuwsTWo3F7EtsrYIy9YXQDMZaHEPtveI6pIOZdL5BpEop2ZFYvxoC4022hIhPoygIJ4/otiP14uCaJDZFVku4humj9V/Q33IGY0lGfISyesLAjbVJU7umWfz8NxJQZkN3Wu2yX4TQY65JGMEkitCBmaEt1NI5li16ZC2jkjUShGbJCjMf6hD3lZQWxzrmfWXsZ9MtN5O0YMfCxIFYPO4zvpmhtnjKNPtVHLdtuXo2YoYTc6Qa962l38ee5AgJVHmJF/I/ifGb0bqdAGHvKU/0dT6iKLYjxJ0EnPLfKfM5uiTjZCviCWMHUmGL6owuEKaeNWJltkQcrI0yOAq138ADdzpsMYVXP9AlaMeTagBbrV4BY5BlFaMxOiBzyivzR3ods2dGK9QFZcKi/32l0XtWiVAZWqypimeqUVcAc9XdTVMPU/mOV1bBKv6iJYn3VuoHSRaK%2BWwbSJlfF2N/V8vwoXQvYf3crYkAYy2oEqkEMNe5dFXNSCWKoN2xvazdyvhWaR7Y2hLmIVrfUF8Qw047qF05ki7QziHUxjlbpsxWwtiAGgjHEWHbHilhGXN4VxCKtu0otWKY9w/LguxtwUYh0WQtktc7w7/PaGcQs6x0aoNjTlpUgpnxx7%2BJnWfkipfY%2BXBBzVMQymxnaKVrloVU12l0JYNXflfUdVBBmmTaOBvF2aMkoK6tXVeepIPb0ooNq/3WFsLvvjTa1nZ7wgvp8JIghvnv09y2IGUFFBWFsQ0mW2aF1Me4AP9XQmN1I1KASBQ2k5uwUELPeB1Pak94p36t2urIapYAxRIXvVBBDfn5ldJp1fdqsSXAOYbQl%2BUYQ6w5hyu%2BK1sUoQSyzKDEDwqti0TK%2BeZ6/OTHmKOs4r1x7GC1VdZv1rZnNGS1mhRzh6KxJJLgg4m7QgFL19j4VwqILe2cQy3znbqPp2cSJqo0IDWGWdWNq3iTD0wvdmvReT8Z6iPotp%2BRJTvJD29Bv0EREViypALGJ/mFRHxz0d64EsexbtXVUv9MELnPyqUNVzFNNRgHeBBBTbmDo5xkNTWgQm2bm2sHTa/qQwufEE%2BK5eZCRFFEgqQwbZk8ooWwhsmCEsthg%2BhV5JljZQx8d2yPVIBbRkHphbIqpq2eIo9u6hIgsYrQlp4d%2BK2wpJgPZ3W/8nEqk0Tdd9gKizp/sCGLVv0txLRW%2BSR5LCWTlp4supNoEGhGLNjVv8grGOugvmTmQWY/AiXqwbp5bE0HsOLE%2BC8RYGzxKV8I2ckW/%2BXWt9mWrXdGWLGLRfnIWz8DBghjOvsN7TAOwBbF8hNOUCck9FsToobsoR%2BRMFUVdIawS6ncUTz651CP/FmLhtkBeFfz%2B/dnIN94K6PNMV6FalJNh7Eq4z/DX8wAOA8Q8zy/S1HkBaDaIvcJHrLpVlf0cFYRVTUx2nmJR%2BIKp/Iju4FF5vhn6jyqvNCUcTgaxrHifNcGINlVGms9OE%2BfvgSkEHe0j1kE7pAKxbtOSaMj0hrNPMItlRL54sibZ95KlHarKuGQaRS6McapkVTYSnucYoQNbgf67gOx1zvoqMb3aWySqVekAYqxJtchvVVhWsEKGvdfY0i5Dtt4tujT2i0eVaJjxXd4GYtZJ5ipTVZQYf0HsXSD2%2BogjRMVKBWWV4nx064wVYZEFZc%2BkYaZVgU4teLpeKJ0k4%2BVEDWLsEGFUJW11Y1yNpRLE0FY1Vt/FPWbwxmZNAmJ/uoFYxaRRJYghhyoiui2FeWvWzoKlE4z6LFmHQzoazCKruOi17ATNmLVlz8yEZHqDsfIrF8TeA3Oft/ZvWdFEE0EM/XbXGcQsGpCMnpC5GCvuy6hBZrf7vqKi1aEq1gnysv5ZLLhh6c3YgzkLLecerwYxxNvPtLYkGsQUgdMszx%2B0TQkj4Fv5gqB6FpRO1ncQEhHpKw0pmRCmgDHkOtvhYGpsWRPoW236tSDWGcRQG2VEt9NhUhI5gs0GsehAQqegb0UlkjmogTyv1dluV/CS0dRVgljnFmjmnpkCYMjv2yHT9UQQ634OXgViaF1BtJUzKcaoWsvArvypPeQ6gBhT3zYh1N4LMqogdC8YZTM5f//fKipj6nWKCWFsm40p2azdOWBBrLkWLCqYVoIYEiqm6BmYthJdjWRZGwXDjNI7DdbB0PcbeHQYGkBVwlCAyoaxirVqQWwnGjuek8/pAGbRvqC9YphiZRSMTQAxdnZkdMJWBXOeOJUuG9pT9aNDqkKkxaeEsQyIsc5NpaVFhUhf/V2Z08BvgzCFbhsOYlMvlhLEormBXSFMYbXAMHZlmtmizFKZmr7I/cCIWopsekgIi%2BZAXlXDWDE%2BbK2W9TxMh7EK01WWPlUFYZ3F6oqs2AyMVfDQZ3L5skslwPPAZh30u4KYtzIWCSW/igtStwsRMThsQX3H9g4qMsQKIlfgzISMjIg%2BOyUZfVH59m9OqohlkiIiawyyyvaWilVlkabDtfhMv/Cdqj8K/6QOcUZVvmuV4nsvVGRSHpAWE0qPpSygeyDsDkyqqj2ZiUbE38743n2795SB4IoBkoq1A5VOsTDG75ZVXpfPCTeB16KhCjgUU4LdtELotlzm7yO/Y/XEq3WxnzD%2Bb62GITb%2BCOiwQQz9t7MGxBkQ8%2BovWS3xDhY26Eiy9QXjWVhVA/KRIMYKaFW83UR0QorfrIYx9N9VQ9hPD5uf/x0zaLybEWZ2aCLatov%2BHYbPFsu7C9Waubte3YX4UVNYZa5wZo3Zahq/SFPemjxhzDXTn0eKkdnmrZ0gqwrEKtoEWahmtC2n3gtXui1GO/Hn3/XCjact6vnbypxHj5%2BdtTr27VxWT0Si1/fpx2kQpSzSVJzPz2kXrCqeQg1haP%2BnCR480xY0BIhdDYNMA7HodUS07iKtzW8bwaTA7YgHofe6ZQCMue5WdD0yljjetWgynHm/E9N5oBLGfv69z2klyAkghoaTU6ph3UCM%2BUbHcMPvDuVKCIvqvJ42jUkwxmxno6rNrOnHiiEtpj60g9FwhUg/%2BjtQsYas87YgJn4rQ2y%2Bkw6WV9bUahjDRPapKqY2a2VFIFVWk04AsSfhPjJflg1i3SfDEaCkhL1umi3kf8O4zxbEAL3gKqFoR3sJVDsrGu%2Bk1nRVwVlVFJLqPme6llcCzykgdjc9ioBrpCVEd3/Ep3tYBWGI9uREEPPoxlgpB6sRS/aDK4WiEwxXM6J5lW3FlUN6ZyCrzKSsfOFAVZCrIewUELOmDmSe8S4gpoo/WkF/3%2BxH1t6%2BIJaoiGXGt08AMUVVCp3RVi2IrdJuTKiKKexHKkEMVRFDW1SwDVVPggxVy51RpWLGoXnWLkZEEhMQs1rjLIghYO2D6G9OhTB0GfMu3w4t0n/DG9sEEJuw%2BVTdT1EtRocq0lUbRGUEq4axqM1HR9Bgw5hKoK%2Bctvx2vzOGlpSG2Vkbq4gmbe0rwFmCCH%2BkzMPapRqmcvlfWNNuPMh7CGkn0xnEpkKY1YBVFYY%2BpRXvrZJMBjGmq79K%2BmHRsmburW1NCnQ4njDYrCOvAsaUIFZZmau8Z04T42f9vjwTS1fP1nQQm3J827g6gxhr6KgSxNRr5LdKl6f9NhHEUMkrqxETbaieC6gAsUnVsMibakdriQUxDkR7qslvBzHV51xtXMgKm1Lzpa6IqcOm0evlN0Bj6Z8Yazz7PlMPNSyICTILEb3tingh68KxIMa/1%2B5iajpN2UarGYjKDGt6UtVuVIv8v71wqapiVt2O5T6veDHJpmVUdg68wNNRI6aMz1sQGwBjna0rWJ%2BdaU2iztnUe4cFZgjXe1YQsldj2RHElFYTqs9E6sS%2B/T1LJTfy0quuhiFTU7pIONiQkdHpItZvT%2BB3h7zJo0BMtclWGroivJrQLtcVGrEFsbz9ytWGWAliVhhjQpIawr5VlJRVMRSIIZ4rL1hNc9LPxn51NmxVf//qfbwFiLEuNuoHq3U7SsuI6jiQ7BsGYqN/G4ip2o4MmI7aBlwBybd7YLJwvto8FvG5yJZRtEKvjG7zVsGQrcRuGZJVIJk9hxkNLvr8f7In/60g1t03KppXyAaxDhBmvc8qQ34r2i2ZDLYqzeN0EFMOBtyBK%2BKzs89C5TRkFMQmVFumyoNQEOaBsexee0RrEnFTKjZEpH%2BJAsTQJp9RzVwXCPNUddGWJF3DixFhuMjfYK0wLIjhhgE6VMVQGtbK4RVEVXlBLL/OeqMQETAWLVp9FJuZCsaUxpqdXO6zrSdk%2BPOUbLTsPTUdwtAVqSiIZTeuE0GMBWNP5yp7Ln%2BC3mmtfcZE3mQQU5vNMo2%2BkVroCMuMALFuENYxJNajW5sKYijbiklasi4glo13YW6CC2Jz3PsnP0vKicjTIYy51qK00p5s6jvgs/jQtQOxiM%2BJYpoxIyI9aeP23LjscxC9p1SRWV1F%2BmgQqzYoXrH%2BgpgqV9ja1s%2BGb78Nwp7ahlEQU0qEvHB4C2KRDa7LzcA0pERMGD5tiBOqJ9Zx7CoYjba4p2waiKosIuxYeW8%2BVeFOgpYuXmonApiiKxCNBnuLj6cyM1pVGPHIga4qZ59oJUplDBeFMER5sqo11L1lZRUwKmAs8iAjI0kq7Uw8QIUKEK/c9O7WnlPyH7ukCyBNXU8DMtTvmwxhmXVXlRvNum6I7/Tzf/9k9FkVNxZTp6XypFGBWDVIojQSJ/p1KSZ5O7xVMrP9TvERu6siTfptTIPoLmHikw1Xq2FMBWGsvYm5H6UqYj/La0qxNMvIkmVuemJljLFYVrYNlX5dqrgtFDxVtiRPhjDLPT7ldyKMWJXpJVXZj6dBWAbEOui2PENBSFf/SxDrVMJkl5StENZNq8XMpayEsGrdVmc4VYOYpRWrCGD2bFwnCPXvWsgTfqO3Y2H1Z2RpFRkg1kVD3Q3Euk%2BkW3gE%2BRt%2Bfu5nqvmbV8R86uQiciNEA%2B6bI4Qi%2Biz029%2B0QRCPSeIpIOadsjqpPfn0woA0AGZM6nqnsd8MYwguYOY6IyqY0QKTxFm/qpSMqGqdYCER0Wp4oG0hrA5cI4COrPIqWvLWdeYk64orGDuhKqYW09%2BJtxEmxnvMcOhXtpQtbU15xJFiw6yg6MjUhqqNiBDNnl4Bq9TYqUanUd9BUYHwQNhJod9WHezkqhhiHa6QXaghbKHvjzH7BtK38l8gxgxSZgZnd4QwhebIK2xlWFMozjk6PPykoQbP%2BfYKpRHVDJYu7G6By8T7dAKxp/MyHTDVVhOZf6usim0FbhaUIf1VP5Get6KqhX6LP0lv5NlMKyY5n0xwvRYiiPuic1RQpUAVnf3ouW5vBLGf38O7Pk4CMfaG2mEICZkYg4Kwqz19gaxnK/MfIFYRwJltuTHHkaPnodKvK6r3YkMYEoyVbbITYcxzr6C93hBTklefnw28VsPJNy2V9f6e2opVwhh6ohwNYyxfzlPtMyr4RAllny7RM56KWefcx8rNHA1iVf4uKBBjViRVOYroc4kwrYxmxaG0YV4QqxL2ezdNayLFVG2cUp%2BrDPvuAjgbq/QLVnC580tlgNlHtblaFiFUNUjpyjwpdqgaWBk2Ch1c8pXnm92azSzY1uv9VO2JtnYsQNQBwKxroHUtPWEwoTOITciP3HxLTHoL6/OfKv8f5DRWpt3HgrCqeIwJLTGkSWJVi011fazfg31/skAMtVizSvjWf1cJYh7Rrjcb74SKWFVbiQ1i1mewa8TQghhuutVjRfMPELPClifouTIYGC3UV4ngq6pnCiCaOLmKDAFnRFlFIJhRBWMsmJnR/iqNWDYz1/NyNNm2A7lueJ4FVPciaw2TfZbeDGGeyVImkCFSA0ytyYytQWUwMNpVXGVgOVUw3tlfjH1e0IAeiWBhDLEoFlAmsEXbk1mwQbVwPSA2WbCP1El29STz6v0yleA3WV54fycTjOEaMeTknVd4r8hfRD6simzC7iCGmmzt2i7u0q5%2BqgBEKnhqCEPa3iBADO3Qn62Gea/p5JDzK8sOZG5kZzlJFsS8Rsd7/EGrhnkkK0%2Bf%2BfEEYE%2Bo6qAAscqKYkogNcPioosBZAc9SrZF6gWxzhoPz/dGwRILwrKtyekQ9hPI1JWxjl2IddvXVtCQbUnUWgtvTU5v21VBmFqLxgSObi1KZVtVUf3KatoiJqoKGEPEziBhSQViV4L9kyEs26ZEPwNTJCELVvVQF5mgf7p%2BH89b6Cm6qG6C%2BYjujd3OPQXEGBqTidmVFkf9KIihnMazIcxIYEKCF1Jrafk%2BE1uTlrXpJHPnBbAZ5rHfnuOoLCpk6KrWRr29Ktbteyjakx1ADOEY3x3EPFVYL4ixdBeoalgEoJQQ5n0psH6fSSauaCnKVBCryLfcww5jXn2zpw398dy4p00MntxinQhi6gQE9Bh0x2vlnXKOluotlbUosGS0YVGAQoMYyovq7h7tBmOW64oCMssGOcVUe2HsLA8zU9akZyE/0b5hjx4g1qWaNgnCGO3jKGSwQMzyVsnQcalBLPPC0NVjTJVMYtXYTtu3FsZ6gxhSR/vJbJALLO%2BFscnVsOznVU/YWnz70Au8t1SPFrFnqz4IGIu0ZCPtDJSYexqIIYxWK6U1qli1haLzjg9CRLrQ8mebzRnZij1VHxaJ4IoIh9nX6ur7METBV1WYiDAV6fnjNWyNglhEG5fRMmVBbGLI9%2BS1VznhvuDyMhC7K%2B8uiGmnHFEPvGfqowOIKaoInpZkF7%2B5yBs4MuuxC4hFqlmRv/M0xm41bkWItk%2BpiClgTP2S5P3fIkMqCy4LYibN2BsrZmhT0SvwYuWkoaqgHcO/UfDRpRqmBjGvhlSRJaeGsWz%2Bn6WljHqOOoAYyryXbfK9XmJ7tACxyII70UCvqys%2BIug2mxqA1gaqQAvxWYgpma5edGj9iWKTQP5NFIhF/YY8zxz6GaqujFWCGOPvs3wcvdd7oeUFIOY1H3wzdGVAtCLax7voZ1uubNE86jyyIi1YsGUF4ei1qQjRZf5dJoghbDgU078VMFYFYpNijiL3w0LLgliL9swJWjA1iEWMMqMTedFFcTKIqfNAsxpCtAkrsxqW%2BX5POi9EOgAy2Jx9P6tBrMIQeUqXJjtIFK3W7nEIiHWBsakAGJnaY8SoeJ2BLUCX0c5VxRMhN1blJK5X68cGMWQ1KSpQftJKKX7Pt7%2Bhsm1BBZmjIKwbiHXaayLXNfIsLOQcphGzhtROy3SsBDHUmzkrpPuphI6u6jACf7PeWZ2CwD3ngW0QqQSx6PV5EtxbTVcZFTF0ZRwZZI6CsFNArFPOZGTdWtA5HMQmZFEyv3NGO6WOXWDknzEMFzPt10jFTdlmYrdZIlVDZOWHdS8jBgeeQAwBqxUpEndmu2ogQz1DbLjptidF4qyy/2aPw0AMsemzWpQseERUbVA9feQCxFww0SDmHRypAjHlC8WVx98U8a%2BnPeP9PVYQy5wvb4wPqwqm1IxZW2OdQKx7NBkDxBbGDgUxZMtKdVNnPxc5uRjt/bNK/1FjX8/5RE%2BUIv4uA8SqDCO9z%2Bkpobqo6h7jfkG105AbNQLEvEMc1W38btFkmXs6k4%2B70DNErB/VimVbMOrJw4ppHPRDwvj9GaG8GsQyNg1q%2BxB1%2B/2EUXg0hHnaZ1eVxUhWZnSQxaoli3q8dWhDqicmp4BYVJC/VhjDnfW9fjjVkyTqDRMBA8g2UQWEZdvSDICK2HKwzGbRz0W2LfsWEMs45CM/C10J6%2Bwt1gW%2BEM%2B6evCL%2BVwuiB0ecRTZdJUtx%2BjipYgwypahWRAWXfSzE33MShYqIsbjp5aFXtYE2BtArMvnRbWoKghDu%2B1XCvKZL13sPQ09vZzdGxaCFsRGRBEp22JsCPPCCkoI2yF5oGPV1RtdhXyBmLA4sTaRTGWMMbnMEPKzMyhV05Fo65uIBpYRRM56Hje7ckFsBIxZH26FJiwy%2BaIEE5QWr9ptPNKyQ/2GrBYv66XGXvgnghjyc1kvrt1BLKITYyZLdNV7Wp5H9r17wkvZ8SDGtC84EcQqx5TR1bhM%2BCyqIqaOevK6WLMW8qzWK2KnsiCGb1F64L9aM6u2rjgBxNDTnMznkGFqvUcBiEU38sktSlS0jArE0J/dYcqwIvi8GsSy049RE95JC28FiKGuOWNoAyl9YIIYEsYQL1kVU/ZqeUDmPC0I1a9xnyu4QOtgulbDkK75SKEmKh/tjSCmqjIoIlW8E5un6MMqQGySpUnVtGS2RYlq7SHb/FW%2BZor79iTNaJc1iQJiqLaUB8I6eC5FJpkYAPakO2Ev1k/TkxMBjek9p1jEUb9xgolrh6lJhR5RZWJdnTeJMLhlew92ADHVvWr9XgtZxRUxRRuIWWlimMcqN9Q7U8YOk6ITK2ZsA2AViGXE%2BpZEhwUxXiXMKsSvrrAwYQxdFXsjiCnXwgUj7Lolm5qMCIs7tCU9cTHK9gHrnCGE5NVmlEyBPtMCo0Nw8YJYXUUM8aKnOAcsIEOsOxMhLFuBqnopfXurEL2euEAM2T/vCmIe0b0qciMajYKcNsr89s6VsCmaNUXg%2BsSJyZMqYkwQQ51rZWUsUs3NeHRNAzHGvXiap9iE3NxSH7EJIIZwf0fmialy1zxtsK6xVB0hLHr/o6wRKkBMsQBWiJ0RbvcI3ROrIsacorTAmBdMq%2BwqVPFLCs/Iieau3jix6dW9D7NtM8FRPyqmvauueT4HXQ3LbAzKjDfUYloJhp4s0Yw%2BA5FzmV2guhurZtoCT9fU6z2Izi3Mbp6We5kt4I/aTkxuSU6cRmdPB0bWO8ta2BEuPZ//YW5OUyAsa1aryGm0vj16WwDZzeUkQX4VTEYWMstUbgTEOr1JWyuGV/828lnoShbD85CRyvGtisWAMcRk8JPUZEEMl7OLeLaZa29n7Zvn8z9d3iY6PQDshyqSNahu1ymDdqdUwCrbAVHbEWvZvntLIxIvlGlPoqrHqAq3dQAjcw2/WVCoJimtFWdmLFSnQkA3EFPbbpzQhvV85qdDaVcxNvzXYoCAmCjUWECMWZXMwg4qSgkdyjul6oXw9bKeB%2B9bYqeF7a7lyBTyq7WtCC0ZWmt0ZdD6BFcZ89ef/3vkJSySMqGW0nSHrsj9ox68mQZpIRDLhtiiR/aVRqZZb6COYdgRkIyahFa0A5VakUzQ89N3jT7cyAB7ZASXcgpqCoghcidVLx8/NV1XwMQU%2BiMzW1G5n9UdGgVoqCEmuway9ySWpOLby%2BUnusihpg3Zkyqe8ja7PaZcVK06E8ubepcFpLIalgUx1IMe8TXLnCu2gD/yN6ZXw9gbOvolxVPRYkBYdJp72nVDXsvIkMeUtl/3qljks0IgNiVX0qpzqiojsx3gI5OgaNErup0d1cRlH5RvFanqh7z6TTD79zosoOpBI0ZihkdLhj63KvNXj2h7Ijx3ALG7dlonGFPq4xhT5o8gVhH7oHwAuvTyIwusx/cMUcXsZHaa9elCPCjWtiB7gaqa2kSAWLc32aq1qMIzsRrEMi/7aoG9CsBZL%2BuZSULks6uGsEiaTZXtziWIsW/2ygep0qA0uwhn7Sg84lX1RI4qMxP9VpXVziFBrAMQqkAMaXA6eVOvfJHsBGEZI%2BpqGGPKYFAg1tHS5inDtINhbSRN52P9gYxFokNbEjkCrYhJQgh4Gb/9ybQWUYGIDhgwgnSr9BMq/ZdXaBuN8lK1XKqrYaeBWATCLG0uTzWps4k4ctgiM/UeBTHEmskc3Kk2qEWC2F/X6ZPVhVVoJBDZiRWeM6zRacT3zuoRnlzjka1Jr7/ZdBC7g5kqEIuObassRdAVMaWJq2otiA5BZOwqGNXIqTCtmviOviBlJpXZCR6dI5usdkUmEOvULmRF8iBBJlLZQk0DMVID2CLI7H3i1U90MhdExGR0BjHWG3Z0k/G2NzzxUR75gVoTyxqeUAWBnwxhbBjzxqkhniN0pR9xjlC%2BhpFKu8d8%2BVNRqvf6VqEfviiIZT2ArO1BxoPsBT80cGSnJFEBuygQYHlyeQxOvXmXnZylUV5yHm2a154n67eXXbNQWkq05g/lsm%2BNlppiT6HQUKNBrEMlqSuEZXMy0yDW9WZktEwVrUmE1QTKw0yV14jS5HSdelUaKTJGuFVhtpXXgZ11F6nUMjS1jMEFZUD4aTo9pobao0fOPhcVL2rZ9VzxPRnDVJ9sy8gjtsyO5CqmOS06nMxE5l1bwxJVgzKTzbx5RN7Cn8xZURWCKhDL6JayIKZYsLp5hbEGTbJ%2BfdGgak%2BlHh10XA1imcrYyUCGkG9kOgNK3y%2BG5rEaxFw%2BYt4NMtLyemrrRYSwrGlOr5g00u6LnKNs1hwyLgXh2py1FlGHslv%2B/1fTmtaHNwq20d%2BtiBGaZIbMnpTOVFczma%2Bo6LrI1KQXxhbE/NUxxAtyxQQhumvVGcSefscHWYE5sT/vXVyjIJF1/o9OI6kE6WgQq/xt1gUymh%2BpgrHJQb3dQpatGYeZTFvFb4xs5hNalCdNVWYG0Cq1X9mMVZQeskMO7s8144N6yCtv/IyQPiPOj2hHPMCWeQu2PLAKfY7F/6rzVFKm8slqDSGnJ9l5jqy2IuoFC1FJsj7nmVxVpYO%2B15ePpRdDy0%2BmTVpG2%2BJ393oViKnOEft3sEyvP96HG2HOyhTZo0HMq%2BFQxjKxwskVHjXoaiNrICNTsWM8tH99zlNVLFsdy7jmq0AsKx2wgFfGc8wKVaiXEqUP1dU9jA79VoWjTwKx7G/2TjdHfMEqHBgU7Ulm%2Bsgn69tU9YbBMFqNln8Z5wANYt3MAq3t7wyQKc16s2%2BenvNosbLwDhSwnKu9diqqiWlUBQwx6cuIy8nY9ER8qJBwpjS5nuYtlh16Q%2Bo/u0FYlYErJPT7NO8VBfx4WogsTYMqHzILYtmW5xMIsxMHVCCGcKO2TOeh7TGiIPY0MezJRkVtdB6PsUo9UtTvTOWTlxX2o/RFU2DMuqZGqrxKA%2Bqq%2BMLuIGZZDxfEmghAvbqQyoMJYqjQ9EoIy7QDMw8%2BUuAa0ZRFgC5bFUAb/mYMXS2DTshkEOuQQGQKGLmJI0DsNAiLDsMxtZYoLejbIcyynt%2BC2PTJkso3mRMCfRUg5vWMs8LpRBBjBOXeVWuzYn1Gid4bRYb0XMrYPCBah4yqibKFz/QdY07JdgMujzYWof9Fa64qdNLdQczb4ficFJx6KoBNrYhF2x7WSSfU27vSA4gFYxb9YsYPB1miZy3aTONfdBUO2YrMamfZuapM0T57Arpqr8hWO1GTxtUQZpExdAOwyPGZntt1OohVO4gjQSxrjYIAMVZCQ6U5IePtMfJWXAFiUYNphJVDxXR3VCdU6SWI8hWLVIkqhssYeuFMVRCtdWW/0Hr2nBMg7B8VsQUx3kOXncTr2J5ktSXRQPhWEEN4CXlbE9b/nXXuIzFEWS%2B%2BKhCz6gA91hldQSzjmVhhq9Tdkd9bEVN2Fzxr/SkQtiAGeEvKRhtFFl8FNKH/ZneI7NpaZoBYlbEje8QdbWFjefZUA0We9qtn6rhjWxIBYtEc4BMyLxVDDhUgdiqESUBM6apbsYBP14OhQcwzecfKuTwJxCJeX9FAaIUhIvO8ozzg0LmwCH3SExQi8izRkJapiH3zImOlu1zZEL1RM90RxKa3JC3fWwZizAwxJP0jnfgrNm1Eaj2iWmN9iCp1bBUw1kHDF2kvZluYqvOOqjgxvQdZ3mFIEEPcsxljV89/GwlgP8V9n1FQ6ARi01uS1j3zM6V3rWhHdPg9VXowFIh5zD9ZQctewf%2BpMKaw0EBkV3YRRHfXBaGlCop7lpFHeec75h3WODkgfBKEnaoNaw1iXd4CUNU0FKgh24rdNFlIg9eIEWK3tnRXEEP6hKmrYVXVBzXEV26cHUEs4sY/XQemjPuzVNnZhZrJIPbktA8HMesG2a0fnokZiiyMiEUOkW%2BFdF%2BuFNZn/9tqbWOX1iw72PY0GKvU1GZeYLLRbKr2ZBTGfurK3nDPIOP21M9oZF%2BcJsYPZU2ifEvQjtKMUV3kGxNi81G0FVHj%2BxXA4IVy9CKlADFkdEtHEJskfegm28g%2BO1EtFcqGhQ1j3/RjbwGx06yhTrKsSIFYBhhQN0lkYaq%2BsdWVpqwex2qIWVndylwzb1j41FbEk2i5A4ip2oQTgCwrms8CvsLm4EQQ6xQWrnK0r/z%2BJ1hWhEAsu/hVbHooY9WnigpyobLAQjSqJquVYlTDMpDPMPE8EcQ8juxTqmHRamHFxlqZi8g2NbZC/dN9MxnGOoE%2B0rS2IhbKE213cjUsBGKRh72btiJTAWQbRUZT5y1Aln0bQvoNoUTQFui3ZFaeOCllrWiq9GCMScFuIKbQBjJlEgjZhOVeqoCxCHBOALHIPcF6MUDbhpysCwtNTZ4ixo1uxOgJEdTm4W1RIvRYKK8zhDYv8n0Zhpuo34SsBloXXTSEZdscyP/2VHNmFowxvcQ8MMYCtmiWKFJuo67OIXS/zO9jAbHTKmBp%2B4rpE1HZ78nuyaNbG6zF3gp1E0LYFVUdtdGkR7yfXWCQUISUN3SFsaeXscqXJGYUkhXE2JWzrIHtpAGPTGyXR16i1kFPAjFLMsAnO6k4qRKmdNPuMDmnaiWh/0Z0qjVaFauoGqKHPdBWKAgYy7i2T4hYU1XLMhmdHf0Fr4CsooXJrBB1aUtGq9bVFkUTIMziXGCRhXwsbbroQ3yKZ0/FZGUXHyqVmWAW2qJDGSybjsw5YlqgIHx52FWW0z3AMpKDbHWUvX6gbHiuKmVsEPOcqwm2FRXRVmxwnwRh1t/3yZYmrc7ne2g22g4gltV6IfUO3r9RsSmh38gROZSsUHj0yxtCgM2Y/EKvDRZbGoXvn2rjVWvGIsA6tTU5CcQmuOYjXlQ/SN%2BohSxOq8Aj9ke%2B%2BWaHDxAwp9z4q2OGmBXTjrmX3sle1BANomXeJUJoSlUjA2EsEEM9q51bkxVawLdA2NN3TIGYt32wEMazskD4J7ErFWh/Iut3RxuMdtHPMECsw1SfteWm8nZSbEKKQSjLulwlzo981l10ETMo/HQQY7%2B0vxHCkBPnH%2B9m2H0yqcN3ithhINtRSguS6Ibs9etBG45WVw5QWiukZk8JYlfXCvXyor6%2BVjE967shcnARuuBM9VdpY3E3PTmhE6SY3md3AN4CYjBnfWs0zslBqGjtW6UfG3KKLZMgYP27SD%2BXDgDGdKln6P68wOPRPSH87jq9tWdc8ZFrQ9ZxHVFZfxqO%2BfbffJueZIeEs01OOw2GZCw7slYWp1hVRL8jPeJoout49QNzgjkuInT4qTWInOTroJ9BTiciwNgzURqRKEQgrGs10nvNqsLhEYMPDBDztsgU9hVX1dhsKsGkfNvoi1U2xeNtIHb32z9v02R1uclPSilgVnGQdgoImwf1m57CRJUFBt6QeoZlhnUx/QZp1u/WBcQshrGKF8eoAbRVM8Z228%2B04KJRbRMmMBGTv0/P9ORg78z6fmxFrFPkydWN6V0EpkNYdJFHRu9EYLlS%2BxA9j%2BoEguiCzLjOVYu6akPzanUzWYGsQQ3Poc6j9A4aXFUTq9fxzDAG4561PDNvA7G/z8Gng15qsoA/M0KcfSubXgnLgpgqrBY9iaqohjENiC0eWpG34uy56A5iFfFEUa81hLWDt7p09fu7gZjarDiqOcx4zDH3gqzwfUFsj5QthWVK6DQQQ0a8XE3ZMUGssl3JgFzl9UaCUaQt2y3oV%2BFjl/VMU8ciWYd1lFqxSuNihD1UhwSPU3IjZSCWna7ZAzNp6AGy01q90TcopBGjZXNkCv2R1b5skHtG0Ht1nlCgg9CmdAIxNOggOhyV/nmVMIaoijGuu0I%2BYKmiZde2O13m6Rqwp6LCB7FI7%2BGHFIsmorNWTGXlgYSwqGGqauLS6n3G0n4wLF7Q%2BjjrfVS94KqmbytejFQw5smhrBTts88dW1doHexAVbzu1veTIezu930WsPqBmFXQf7LmTl1JQHljVTjuK6J3ovcFcgLWc9%2BcDGF3Lyjo57jiPrdcyw6tSdX5Ygx5WK1G2Ebbb6qG3f3mj8fUbw9NBhhaUNkdxpBlfaTWxmtSWdHG6OwGjtTDWadZuy6%2BqjZ2RJzvHbjo4L2nAjH1kAUbxrK2Tqv3yq8DtyC2mZEaEEMKIydPoyLiY1Ttnuh0VLfQ8i4DHR4hvhc4T4cwq54w67M4IXeQDWLZokS17s/jfJ%2BxvljwAlfE9uC34FDTfRNblN6FXj2VVtlq6pI3yb7Ps95bVmhfCMNMencGMjSIoQ15M1ILVscBfe0XuDAwtiCWbDF2ALHqjTYLcKpw7CmAFY036iIriIAEo4r6xpYkag1BeIQpzoOyKlZh9aP8DgthdTC2IOYU3asds70Qc7o2LBpOy/g8pLkruk0xAcSY5pGngZi1khiBWk8od5eXGpVWTLmmdUtBWRDjrA9HtSYtiw%2BiZK%2BeLMv6/kyxtFBPFyoWTET%2BIUOwq7reUVd9VmTLqSCGAPQOz1H2fLCMXaMwVq0HWxBbEJMu9qzcrOpw8O45mkg9g9oYkv322sFFP5I/qFjcvSat3u/cZbNQt6rZLSqkt9SEahiiKtZhYnJBrJdh63gQQ3i2MK0nJuvYUOLo6jJ%2B9E2ekZ3paVdGNnEU4FtFwtHqn9U/LJLviQwcRhhJIiEbdS94WueRmK/oZyGNl5Ug5skO7QZijOrrQph/DXk0dJ1qijohk7EjiDHMCavGuyN5kJGWGit/LbrxRvWETAC%2BugYo53yloaZlgVVsTllPNdR9Zf33p4DYNxPt6EvOJACrvNffUjm7ArhPZ8DIvokr0%2B6na7MQmXMdQAy1MWUDexV%2BYUwQQ5ntohz0q%2BODIiaNLBhjt9e9xq9VLcpKEIvep17QrmhFvtkNv6pq9ukGC6hFuVOo9ZSA8miINAp4I9OqyMnGqF%2BbAiCi9ycqZDj6PZFRRpXRQZVaGWZ6hLVlXW1cXF0VYxsZI/Ys5LVYcMLLFG5DvyeaqDLbkFPam6xg2AiIsSqe1jZApq3IfAtFtm8QIIZouXqnGCdUxLKi%2B6lDABM99pSiffRLPcqMV33NFrJwetGSihiyeqKEJW85uhpWGW1BNIh926g9Vh6RfEnLeWKmJjDgCFVBUp2HiPZJDQqdIawTiFUHnaurYmitFhLEusRM7YGBsU9FKwxRjVBUxboZZSrMO58W6Wy%2BZCTnLuv23X3IJBsC3ymFoaNpLhMuJlhjoLRmVbFOVSAW8bpDPAvIQsSCWM8pylKNmGXizQoXb5ySjIAYyy%2BKBXoRmwKLyS3jHvH4qbErFx2eE1YqQhcQs7SbuoGYpfqC8r6rGqxQ6MS6OexnrXm899rCFfe5/igrAk/ANSnUeFIgOaMdjI51imiFIj5eDAC2VPSQXmVZcM1EarHfvBUTqMhWWxfD2DtdUhTuIxBWMVjBBLEojHVw18/cswthnGrY1TX5eMeUEaXSJ8G1tcqz1bA/y9pv6MqatxrkAaOrf6N68WBDGEK0z7CTyegNq7MbTwaxqN2CZ9Kvc/i3998rq2LsCvWCUh2I3V33D2Kxjm4KiLaUCsS6T1BOzwf1TElajC3vKlWWKcwKUX4W7LKbggfAUQkEFRs5SxCPmqBiC/dRvldsEGFVxbwAxxDSK/aVDIQttOHzJB9BDN23ZlVa2BCW8Yt6S1VMFYKOrKo96cmUFitVVTHrZscy3UW9OHSFMFXlTH1PWapqzPQTRlXMqzFjTjUqh2aYwyB7/BFea/5PrN%2BlZJp9IFUgdoK7frUH3F11zGtf4bk3rG/hXYTrrMqcsoWk9sBjQliXDUsNYpUggtKLPZ03Boip9q1M3upOVdYGgP%2B/iKOI43qFDxgbxE6dnqzWkGWF6JmKjRfWEOf0rv3A3PA6eA6xALRKnK/290JsoFFdJxIcVJmtluqWBcR%2B/vd//9%2BIiW6l/yXTyiQ7BNDBPLXD93qsiCEF2hXeZG8%2BKs8FIw4o0lpjQAAKxrwtVsSGyRKyswCPEWPlGc9XtXPYwwXoLNqoHYzaK%2B4Kxiy5lT%2Brat/ONUJmw06CiQKYt%2BDRxeB4kk7sCtg%2BikoKm/4XwmqqYneieO/3827KLNsExTlFCnjRPk5eJ3w2iCGA0wIukQW%2BCsQUWbuWZ7WjA/xVmzECYiyttBLE7u7ZbOcpOwwQtdPo2hqNvMTJDV0Xwt5raeEV4lc4uavOJ2JzY4YBPy0c7M22qqLC2ByY2hv0AIr3emTueRWMRc/xXSuz0/qcraR2ATHUS880GEs566urB3v0BTGFEWFXEPNOH1a8YHid160LjKfdigobVwFPFxBDfC7zhaZTDBbqfFsgrksRAdHORl2jqF4KVZnvKtb3PMufqW2xPfpoxRBv54jWHNJXyaJZY08DRs8jc9qJVZHqAGGVIMaanMxknDKn/TqAl/casl5eu0coZSu2DBf/blCWPUefha%2BFMYQovXKAgtEKs%2BSjenzRorYaaAPM7KLFaA92qYZNArHqtmnHgHimFUmldVNXCPN6ZSEmIC3XrhOEWauTn4WWs0Es%2BpAzRL4siEflGloCqL1i%2BazLuMdyw/odswsWoyrWBcQqQUfdLukAZSfYqnjXPNRABes6oUFM/XKRtZxAVOY8L3zHg9jbBf1KEPO25hiLO7LqkpnyVIUhRyp0qMWRsdF1yZ2M/H6EKL3K2wjxcoC2IkLdSwgLlG57UiePPna7kP1cewHTmvvq0aLCQGxzGBdGGQtJ1XmyZlJa2pzsCkD0t7FALCr87hQAHq0IIp6BLq0U1G9ExG5l9J4Ib6xO%2B1GVVx/LfoX9shd5FlgvK3ff51PVAttjQWwCiHmrbmx3%2BIjWRCGyzcBYNLqqAsTYOqlu8IWoUCtMiC0JGdNBjCUDqPbBy9yjGW2apyLGXmtWI7Ymr5uM4PheaAE6cgrO850RsSGITZXVnvJ8pyoIQ3sxTRfns0As2spnZUFW%2BgR6K5Dsew0FYZHWKCMOLfrC97%2B8ewurHnMXWgAAAABJRU5ErkJggg%3D%3D%22%2C%0A%20%20%20%20%20%20%20%20%20%20%20%20%20%20%20%20%5B%5B36.849939905468865%2C%206.421348372653224%5D%2C%20%5B36.75729987187895%2C%206.219817916110255%5D%5D%2C%0A%20%20%20%20%20%20%20%20%20%20%20%20%20%20%20%20%7B%7D%0A%20%20%20%20%20%20%20%20%20%20%20%20%29.addTo%28map_242b44b559034d57a6c21c8714c4fc5f%29%3B%0A%20%20%20%20%20%20%20%20%0A%20%20%20%20%0A%20%20%20%20%20%20%20%20%20%20%20%20var%20layer_control_f26b6e4aed7b4d82bc04c84eda32dd41%20%3D%20%7B%0A%20%20%20%20%20%20%20%20%20%20%20%20%20%20%20%20base_layers%20%3A%20%7B%0A%20%20%20%20%20%20%20%20%20%20%20%20%20%20%20%20%20%20%20%20%22openstreetmap%22%20%3A%20tile_layer_92bc851dfb584f01a888b49fa5270089%2C%0A%20%20%20%20%20%20%20%20%20%20%20%20%20%20%20%20%7D%2C%0A%20%20%20%20%20%20%20%20%20%20%20%20%20%20%20%20overlays%20%3A%20%20%7B%0A%20%20%20%20%20%20%20%20%20%20%20%20%20%20%20%20%20%20%20%20%22sat_image%22%20%3A%20tile_layer_120907c4418347cf81208ebf3a613154%2C%0A%20%20%20%20%20%20%20%20%20%20%20%20%20%20%20%20%20%20%20%20%22sklearn%20cluster%22%20%3A%20image_overlay_b395ac633c8549b2b29f0cae08990596%2C%0A%20%20%20%20%20%20%20%20%20%20%20%20%20%20%20%20%7D%2C%0A%20%20%20%20%20%20%20%20%20%20%20%20%7D%3B%0A%20%20%20%20%20%20%20%20%20%20%20%20L.control.layers%28%0A%20%20%20%20%20%20%20%20%20%20%20%20%20%20%20%20layer_control_f26b6e4aed7b4d82bc04c84eda32dd41.base_layers%2C%0A%20%20%20%20%20%20%20%20%20%20%20%20%20%20%20%20layer_control_f26b6e4aed7b4d82bc04c84eda32dd41.overlays%2C%0A%20%20%20%20%20%20%20%20%20%20%20%20%20%20%20%20%7B%22autoZIndex%22%3A%20true%2C%20%22collapsed%22%3A%20true%2C%20%22position%22%3A%20%22topright%22%7D%0A%20%20%20%20%20%20%20%20%20%20%20%20%29.addTo%28map_242b44b559034d57a6c21c8714c4fc5f%29%3B%0A%20%20%20%20%20%20%20%20%0A%3C/script%3E onload=\"this.contentDocument.open();this.contentDocument.write(    decodeURIComponent(this.getAttribute('data-html')));this.contentDocument.close();\" allowfullscreen webkitallowfullscreen mozallowfullscreen></iframe></div></div>"
      ],
      "text/plain": [
       "<folium.folium.Map at 0x19600d78ca0>"
      ]
     },
     "metadata": {},
     "output_type": "display_data"
    }
   ],
   "source": [
    "#adding k-means segmentation to the map \n",
    "map1 = folium.Map(location=[point_[1],point_[0]],zoom_start=12)\n",
    "map1.add_ee_layer(sat_image.clip(bound),viz_params,name=\"sat_image\")\n",
    "folium.raster_layers.ImageOverlay(classes,bounds=[[bound_[2][1],bound_[2][0]],[bound_[0][1],bound_[0][0]]],colormap=f,name=\"sklearn cluster\").add_to(map1)\n",
    "folium.LayerControl().add_to(map1)\n",
    "display(map1)\n"
   ]
  },
  {
   "cell_type": "code",
   "execution_count": null,
   "metadata": {},
   "outputs": [],
   "source": []
  }
 ],
 "metadata": {
  "colab": {
   "name": "Untitled11.ipynb",
   "provenance": []
  },
  "kernelspec": {
   "display_name": "Python 3",
   "language": "python",
   "name": "python3"
  },
  "language_info": {
   "codemirror_mode": {
    "name": "ipython",
    "version": 3
   },
   "file_extension": ".py",
   "mimetype": "text/x-python",
   "name": "python",
   "nbconvert_exporter": "python",
   "pygments_lexer": "ipython3",
   "version": "3.9.4"
  }
 },
 "nbformat": 4,
 "nbformat_minor": 1
}
