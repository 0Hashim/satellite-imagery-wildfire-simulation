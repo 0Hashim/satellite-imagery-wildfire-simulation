{
  "nbformat": 4,
  "nbformat_minor": 0,
  "metadata": {
    "colab": {
      "name": "Untitled11.ipynb",
      "provenance": []
    },
    "kernelspec": {
      "name": "python3",
      "display_name": "Python 3"
    },
    "language_info": {
      "name": "python"
    }
  },
  "cells": [
    {
      "cell_type": "markdown",
      "metadata": {
        "id": "qgwUgXumUdvH"
      },
      "source": [
        "download"
      ]
    },
    {
      "cell_type": "code",
      "metadata": {
        "id": "1wlHrWnEUX6W"
      },
      "source": [
        "! pip install geemap"
      ],
      "execution_count": null,
      "outputs": []
    },
    {
      "cell_type": "code",
      "metadata": {
        "colab": {
          "base_uri": "https://localhost:8080/"
        },
        "id": "aqG51v_NUGNk",
        "outputId": "f7f18420-0815-4887-8f81-d24c5b0e7c61"
      },
      "source": [
        "! pip install -U -q earthengine-api"
      ],
      "execution_count": 1,
      "outputs": [
        {
          "output_type": "stream",
          "name": "stdout",
          "text": [
            "\u001b[?25l\r\u001b[K     |█▍                              | 10 kB 24.6 MB/s eta 0:00:01\r\u001b[K     |██▉                             | 20 kB 30.8 MB/s eta 0:00:01\r\u001b[K     |████▎                           | 30 kB 36.9 MB/s eta 0:00:01\r\u001b[K     |█████▊                          | 40 kB 38.2 MB/s eta 0:00:01\r\u001b[K     |███████▏                        | 51 kB 38.1 MB/s eta 0:00:01\r\u001b[K     |████████▋                       | 61 kB 36.6 MB/s eta 0:00:01\r\u001b[K     |██████████                      | 71 kB 26.8 MB/s eta 0:00:01\r\u001b[K     |███████████▍                    | 81 kB 26.2 MB/s eta 0:00:01\r\u001b[K     |████████████▉                   | 92 kB 26.8 MB/s eta 0:00:01\r\u001b[K     |██████████████▎                 | 102 kB 28.8 MB/s eta 0:00:01\r\u001b[K     |███████████████▊                | 112 kB 28.8 MB/s eta 0:00:01\r\u001b[K     |█████████████████▏              | 122 kB 28.8 MB/s eta 0:00:01\r\u001b[K     |██████████████████▋             | 133 kB 28.8 MB/s eta 0:00:01\r\u001b[K     |████████████████████            | 143 kB 28.8 MB/s eta 0:00:01\r\u001b[K     |█████████████████████▍          | 153 kB 28.8 MB/s eta 0:00:01\r\u001b[K     |██████████████████████▉         | 163 kB 28.8 MB/s eta 0:00:01\r\u001b[K     |████████████████████████▎       | 174 kB 28.8 MB/s eta 0:00:01\r\u001b[K     |█████████████████████████▊      | 184 kB 28.8 MB/s eta 0:00:01\r\u001b[K     |███████████████████████████▏    | 194 kB 28.8 MB/s eta 0:00:01\r\u001b[K     |████████████████████████████▋   | 204 kB 28.8 MB/s eta 0:00:01\r\u001b[K     |██████████████████████████████  | 215 kB 28.8 MB/s eta 0:00:01\r\u001b[K     |███████████████████████████████▍| 225 kB 28.8 MB/s eta 0:00:01\r\u001b[K     |████████████████████████████████| 229 kB 28.8 MB/s \n",
            "\u001b[?25h  Building wheel for earthengine-api (setup.py) ... \u001b[?25l\u001b[?25hdone\n"
          ]
        }
      ]
    },
    {
      "cell_type": "code",
      "metadata": {
        "id": "Goy_07buURDA"
      },
      "source": [
        "! pip install -U -q folium"
      ],
      "execution_count": null,
      "outputs": []
    },
    {
      "cell_type": "markdown",
      "metadata": {
        "id": "0o_Rb7S9UdYZ"
      },
      "source": [
        "import"
      ]
    },
    {
      "cell_type": "code",
      "metadata": {
        "id": "xCZxClqXUc9E"
      },
      "source": [
        "import ee\n",
        "import folium\n",
        "import geemap\n",
        "import numpy as np\n",
        "import pandas as pd\n",
        "from sklearn.cluster import KMeans\n",
        "from sklearn.preprocessing import minmax_scale\n",
        "from sklearn.decomposition import PCA\n",
        "import matplotlib.pyplot as plt"
      ],
      "execution_count": 335,
      "outputs": []
    },
    {
      "cell_type": "markdown",
      "metadata": {
        "id": "SyYFh5C3UzR1"
      },
      "source": [
        "location selection"
      ]
    },
    {
      "cell_type": "code",
      "metadata": {
        "id": "CrV6ptWSVQOx"
      },
      "source": [
        "ee.Authenticate()"
      ],
      "execution_count": null,
      "outputs": []
    },
    {
      "cell_type": "code",
      "metadata": {
        "id": "W9dMSR7aWExu"
      },
      "source": [
        "ee.Initialize()"
      ],
      "execution_count": 5,
      "outputs": []
    },
    {
      "cell_type": "code",
      "metadata": {
        "id": "tYE4vYZWUy_T"
      },
      "source": [
        "#adding rastors from earth engine to folium map\n",
        "def add_ee_layer(self, ee_image_object, vis_params, name):\n",
        "  map_id_dict = ee.Image(ee_image_object).getMapId(vis_params)\n",
        "  folium.raster_layers.TileLayer(\n",
        "      tiles=map_id_dict['tile_fetcher'].url_format,\n",
        "      attr='Map Data &copy; <a href=\"https://earthengine.google.com/\">Google Earth Engine</a>',\n",
        "      name=name,\n",
        "      overlay=True,\n",
        "      control=True\n",
        "  ).add_to(self)\n",
        "\n",
        "folium.Map.add_ee_layer = add_ee_layer\n",
        "\n",
        "\n",
        "#soecfy terrain area you want to segment (limited number of pixels)\n",
        "bound_ = [[6.219817916110255,36.75729987187895]\n",
        ",[6.421348372653224,36.75729987187895]\n",
        ",[6.421348372653224,36.849939905468865]\n",
        ",[6.219817916110255,36.849939905468865]\n",
        ",[6.219817916110255,36.75729987187895]]\n",
        "\n",
        "\n",
        "\n",
        "point_ = bound_[0]\n",
        "point = ee.Geometry.Point(point_)\n",
        "bound = ee.Geometry.Polygon(bound_)"
      ],
      "execution_count": 308,
      "outputs": []
    },
    {
      "cell_type": "markdown",
      "metadata": {
        "id": "WfLm3yKtc7jB"
      },
      "source": [
        "importing satelite imagery"
      ]
    },
    {
      "cell_type": "code",
      "metadata": {
        "id": "JXvo0VEhUx2m"
      },
      "source": [
        "#importing the whole collection of satelite images\n",
        "satlite_dataset = ee.ImageCollection('LANDSAT/LC08/C01/T1_SR')\n",
        "#selecting the image with the best covrage for our location of interest\n",
        "sat_image = satlite_dataset.filterBounds(point).sort('CLOUD_COVER').first()"
      ],
      "execution_count": 295,
      "outputs": []
    },
    {
      "cell_type": "code",
      "metadata": {
        "id": "lIDaSSWse6_c"
      },
      "source": [
        "\n",
        "# adding sat image to map\n",
        "viz_params = {\n",
        "    \"min\":0,\n",
        "    \"max\":3000,\n",
        "    \"bands\":[\"B4\",\"B3\",\"B2\"]\n",
        "}\n",
        "\n",
        "map1 = folium.Map(location=[point_[1],point_[0]],zoom_start=12)\n",
        "map1.add_ee_layer(sat_image.clip(bound),viz_params,name=\"sat_image\")"
      ],
      "execution_count": 309,
      "outputs": []
    },
    {
      "cell_type": "code",
      "metadata": {
        "colab": {
          "base_uri": "https://localhost:8080/",
          "height": 763
        },
        "id": "cQe_xKALiZDa",
        "outputId": "e4e8929c-2272-4962-99b8-0dd1c9849541"
      },
      "source": [
        "map1"
      ],
      "execution_count": 310,
      "outputs": [
        {
          "output_type": "execute_result",
          "data": {
            "text/html": [
              "<div style=\"width:100%;\"><div style=\"position:relative;width:100%;height:0;padding-bottom:60%;\"><span style=\"color:#565656\">Make this Notebook Trusted to load map: File -> Trust Notebook</span><iframe src=\"about:blank\" style=\"position:absolute;width:100%;height:100%;left:0;top:0;border:none !important;\" data-html=%3C%21DOCTYPE%20html%3E%0A%3Chead%3E%20%20%20%20%0A%20%20%20%20%3Cmeta%20http-equiv%3D%22content-type%22%20content%3D%22text/html%3B%20charset%3DUTF-8%22%20/%3E%0A%20%20%20%20%0A%20%20%20%20%20%20%20%20%3Cscript%3E%0A%20%20%20%20%20%20%20%20%20%20%20%20L_NO_TOUCH%20%3D%20false%3B%0A%20%20%20%20%20%20%20%20%20%20%20%20L_DISABLE_3D%20%3D%20false%3B%0A%20%20%20%20%20%20%20%20%3C/script%3E%0A%20%20%20%20%0A%20%20%20%20%3Cstyle%3Ehtml%2C%20body%20%7Bwidth%3A%20100%25%3Bheight%3A%20100%25%3Bmargin%3A%200%3Bpadding%3A%200%3B%7D%3C/style%3E%0A%20%20%20%20%3Cstyle%3E%23map%20%7Bposition%3Aabsolute%3Btop%3A0%3Bbottom%3A0%3Bright%3A0%3Bleft%3A0%3B%7D%3C/style%3E%0A%20%20%20%20%3Cscript%20src%3D%22https%3A//cdn.jsdelivr.net/npm/leaflet%401.6.0/dist/leaflet.js%22%3E%3C/script%3E%0A%20%20%20%20%3Cscript%20src%3D%22https%3A//code.jquery.com/jquery-1.12.4.min.js%22%3E%3C/script%3E%0A%20%20%20%20%3Cscript%20src%3D%22https%3A//maxcdn.bootstrapcdn.com/bootstrap/3.2.0/js/bootstrap.min.js%22%3E%3C/script%3E%0A%20%20%20%20%3Cscript%20src%3D%22https%3A//cdnjs.cloudflare.com/ajax/libs/Leaflet.awesome-markers/2.0.2/leaflet.awesome-markers.js%22%3E%3C/script%3E%0A%20%20%20%20%3Clink%20rel%3D%22stylesheet%22%20href%3D%22https%3A//cdn.jsdelivr.net/npm/leaflet%401.6.0/dist/leaflet.css%22/%3E%0A%20%20%20%20%3Clink%20rel%3D%22stylesheet%22%20href%3D%22https%3A//maxcdn.bootstrapcdn.com/bootstrap/3.2.0/css/bootstrap.min.css%22/%3E%0A%20%20%20%20%3Clink%20rel%3D%22stylesheet%22%20href%3D%22https%3A//maxcdn.bootstrapcdn.com/bootstrap/3.2.0/css/bootstrap-theme.min.css%22/%3E%0A%20%20%20%20%3Clink%20rel%3D%22stylesheet%22%20href%3D%22https%3A//maxcdn.bootstrapcdn.com/font-awesome/4.6.3/css/font-awesome.min.css%22/%3E%0A%20%20%20%20%3Clink%20rel%3D%22stylesheet%22%20href%3D%22https%3A//cdnjs.cloudflare.com/ajax/libs/Leaflet.awesome-markers/2.0.2/leaflet.awesome-markers.css%22/%3E%0A%20%20%20%20%3Clink%20rel%3D%22stylesheet%22%20href%3D%22https%3A//cdn.jsdelivr.net/gh/python-visualization/folium/folium/templates/leaflet.awesome.rotate.min.css%22/%3E%0A%20%20%20%20%0A%20%20%20%20%20%20%20%20%20%20%20%20%3Cmeta%20name%3D%22viewport%22%20content%3D%22width%3Ddevice-width%2C%0A%20%20%20%20%20%20%20%20%20%20%20%20%20%20%20%20initial-scale%3D1.0%2C%20maximum-scale%3D1.0%2C%20user-scalable%3Dno%22%20/%3E%0A%20%20%20%20%20%20%20%20%20%20%20%20%3Cstyle%3E%0A%20%20%20%20%20%20%20%20%20%20%20%20%20%20%20%20%23map_d0cdb89e92284410a7dde719999592e9%20%7B%0A%20%20%20%20%20%20%20%20%20%20%20%20%20%20%20%20%20%20%20%20position%3A%20relative%3B%0A%20%20%20%20%20%20%20%20%20%20%20%20%20%20%20%20%20%20%20%20width%3A%20100.0%25%3B%0A%20%20%20%20%20%20%20%20%20%20%20%20%20%20%20%20%20%20%20%20height%3A%20100.0%25%3B%0A%20%20%20%20%20%20%20%20%20%20%20%20%20%20%20%20%20%20%20%20left%3A%200.0%25%3B%0A%20%20%20%20%20%20%20%20%20%20%20%20%20%20%20%20%20%20%20%20top%3A%200.0%25%3B%0A%20%20%20%20%20%20%20%20%20%20%20%20%20%20%20%20%7D%0A%20%20%20%20%20%20%20%20%20%20%20%20%3C/style%3E%0A%20%20%20%20%20%20%20%20%0A%3C/head%3E%0A%3Cbody%3E%20%20%20%20%0A%20%20%20%20%0A%20%20%20%20%20%20%20%20%20%20%20%20%3Cdiv%20class%3D%22folium-map%22%20id%3D%22map_d0cdb89e92284410a7dde719999592e9%22%20%3E%3C/div%3E%0A%20%20%20%20%20%20%20%20%0A%3C/body%3E%0A%3Cscript%3E%20%20%20%20%0A%20%20%20%20%0A%20%20%20%20%20%20%20%20%20%20%20%20var%20map_d0cdb89e92284410a7dde719999592e9%20%3D%20L.map%28%0A%20%20%20%20%20%20%20%20%20%20%20%20%20%20%20%20%22map_d0cdb89e92284410a7dde719999592e9%22%2C%0A%20%20%20%20%20%20%20%20%20%20%20%20%20%20%20%20%7B%0A%20%20%20%20%20%20%20%20%20%20%20%20%20%20%20%20%20%20%20%20center%3A%20%5B36.75729987187895%2C%206.219817916110255%5D%2C%0A%20%20%20%20%20%20%20%20%20%20%20%20%20%20%20%20%20%20%20%20crs%3A%20L.CRS.EPSG3857%2C%0A%20%20%20%20%20%20%20%20%20%20%20%20%20%20%20%20%20%20%20%20zoom%3A%2012%2C%0A%20%20%20%20%20%20%20%20%20%20%20%20%20%20%20%20%20%20%20%20zoomControl%3A%20true%2C%0A%20%20%20%20%20%20%20%20%20%20%20%20%20%20%20%20%20%20%20%20preferCanvas%3A%20false%2C%0A%20%20%20%20%20%20%20%20%20%20%20%20%20%20%20%20%7D%0A%20%20%20%20%20%20%20%20%20%20%20%20%29%3B%0A%0A%20%20%20%20%20%20%20%20%20%20%20%20%0A%0A%20%20%20%20%20%20%20%20%0A%20%20%20%20%0A%20%20%20%20%20%20%20%20%20%20%20%20var%20tile_layer_6ec89284469d4827b10a2b441ba38ae2%20%3D%20L.tileLayer%28%0A%20%20%20%20%20%20%20%20%20%20%20%20%20%20%20%20%22https%3A//%7Bs%7D.tile.openstreetmap.org/%7Bz%7D/%7Bx%7D/%7By%7D.png%22%2C%0A%20%20%20%20%20%20%20%20%20%20%20%20%20%20%20%20%7B%22attribution%22%3A%20%22Data%20by%20%5Cu0026copy%3B%20%5Cu003ca%20href%3D%5C%22http%3A//openstreetmap.org%5C%22%5Cu003eOpenStreetMap%5Cu003c/a%5Cu003e%2C%20under%20%5Cu003ca%20href%3D%5C%22http%3A//www.openstreetmap.org/copyright%5C%22%5Cu003eODbL%5Cu003c/a%5Cu003e.%22%2C%20%22detectRetina%22%3A%20false%2C%20%22maxNativeZoom%22%3A%2018%2C%20%22maxZoom%22%3A%2018%2C%20%22minZoom%22%3A%200%2C%20%22noWrap%22%3A%20false%2C%20%22opacity%22%3A%201%2C%20%22subdomains%22%3A%20%22abc%22%2C%20%22tms%22%3A%20false%7D%0A%20%20%20%20%20%20%20%20%20%20%20%20%29.addTo%28map_d0cdb89e92284410a7dde719999592e9%29%3B%0A%20%20%20%20%20%20%20%20%0A%20%20%20%20%0A%20%20%20%20%20%20%20%20%20%20%20%20var%20tile_layer_f0edf51c08334973b3195ff154fe6e45%20%3D%20L.tileLayer%28%0A%20%20%20%20%20%20%20%20%20%20%20%20%20%20%20%20%22https%3A//earthengine.googleapis.com/v1alpha/projects/earthengine-legacy/maps/f77668bd09666738b172a97338afb3f3-4aad75a1b018ad690d6bdc63fbb3bd74/tiles/%7Bz%7D/%7Bx%7D/%7By%7D%22%2C%0A%20%20%20%20%20%20%20%20%20%20%20%20%20%20%20%20%7B%22attribution%22%3A%20%22Map%20Data%20%5Cu0026copy%3B%20%5Cu003ca%20href%3D%5C%22https%3A//earthengine.google.com/%5C%22%5Cu003eGoogle%20Earth%20Engine%5Cu003c/a%5Cu003e%22%2C%20%22detectRetina%22%3A%20false%2C%20%22maxNativeZoom%22%3A%2018%2C%20%22maxZoom%22%3A%2018%2C%20%22minZoom%22%3A%200%2C%20%22noWrap%22%3A%20false%2C%20%22opacity%22%3A%201%2C%20%22subdomains%22%3A%20%22abc%22%2C%20%22tms%22%3A%20false%7D%0A%20%20%20%20%20%20%20%20%20%20%20%20%29.addTo%28map_d0cdb89e92284410a7dde719999592e9%29%3B%0A%20%20%20%20%20%20%20%20%0A%3C/script%3E onload=\"this.contentDocument.open();this.contentDocument.write(    decodeURIComponent(this.getAttribute('data-html')));this.contentDocument.close();\" allowfullscreen webkitallowfullscreen mozallowfullscreen></iframe></div></div>"
            ],
            "text/plain": [
              "<folium.folium.Map at 0x7f8db745d590>"
            ]
          },
          "metadata": {},
          "execution_count": 310
        }
      ]
    },
    {
      "cell_type": "markdown",
      "metadata": {
        "id": "wi8HgmDJkX3p"
      },
      "source": [
        "k-means clustering"
      ]
    },
    {
      "cell_type": "code",
      "metadata": {
        "id": "C3uhdmQPignC"
      },
      "source": [
        "#converting the rastor into a numpy array\n",
        "rastor = geemap.ee_to_numpy(sat_image,region=bound,default_value=0)"
      ],
      "execution_count": 351,
      "outputs": []
    },
    {
      "cell_type": "code",
      "metadata": {
        "colab": {
          "base_uri": "https://localhost:8080/",
          "height": 180
        },
        "id": "5wIGGKgIAUws",
        "outputId": "35712449-e882-422c-ac5f-cecc77e1e4c8"
      },
      "source": [
        "w,h,f=rastor.shape\n",
        "rastor = rastor.reshape((w*h,f))"
      ],
      "execution_count": 350,
      "outputs": [
        {
          "output_type": "error",
          "ename": "ValueError",
          "evalue": "ignored",
          "traceback": [
            "\u001b[0;31m---------------------------------------------------------------------------\u001b[0m",
            "\u001b[0;31mValueError\u001b[0m                                Traceback (most recent call last)",
            "\u001b[0;32m<ipython-input-350-86d2557b35bd>\u001b[0m in \u001b[0;36m<module>\u001b[0;34m()\u001b[0m\n\u001b[0;32m----> 1\u001b[0;31m \u001b[0mw\u001b[0m\u001b[0;34m,\u001b[0m\u001b[0mh\u001b[0m\u001b[0;34m,\u001b[0m\u001b[0mf\u001b[0m\u001b[0;34m=\u001b[0m\u001b[0mrastor\u001b[0m\u001b[0;34m.\u001b[0m\u001b[0mshape\u001b[0m\u001b[0;34m\u001b[0m\u001b[0;34m\u001b[0m\u001b[0m\n\u001b[0m\u001b[1;32m      2\u001b[0m \u001b[0mrastor\u001b[0m \u001b[0;34m=\u001b[0m \u001b[0mrastor\u001b[0m\u001b[0;34m.\u001b[0m\u001b[0mreshape\u001b[0m\u001b[0;34m(\u001b[0m\u001b[0;34m(\u001b[0m\u001b[0mw\u001b[0m\u001b[0;34m*\u001b[0m\u001b[0mh\u001b[0m\u001b[0;34m,\u001b[0m\u001b[0mf\u001b[0m\u001b[0;34m)\u001b[0m\u001b[0;34m)\u001b[0m\u001b[0;34m\u001b[0m\u001b[0;34m\u001b[0m\u001b[0m\n",
            "\u001b[0;31mValueError\u001b[0m: not enough values to unpack (expected 3, got 2)"
          ]
        }
      ]
    },
    {
      "cell_type": "code",
      "metadata": {
        "id": "KWASYhsd_EB_"
      },
      "source": [
        "#convert to pandas data-frame\n",
        "#each pixel is row and each band is a column\n",
        "data = pd.DataFrame(rastor,columns=sat_image.bandNames().getInfo())\n",
        "data = data.drop([\"sr_aerosol\",\"pixel_qa\",\"radsat_qa\"],axis=1) #drop unused bands"
      ],
      "execution_count": 345,
      "outputs": []
    },
    {
      "cell_type": "code",
      "metadata": {
        "id": "Xr0lA4fFChvJ"
      },
      "source": [
        "#normlize data\n",
        "data = minmax_scale(data)"
      ],
      "execution_count": 346,
      "outputs": []
    },
    {
      "cell_type": "code",
      "metadata": {
        "id": "nITz-DpcIwXT"
      },
      "source": [
        "#pca data reduction\n",
        "n_components=5\n",
        "pca = PCA(n_components)\n",
        "data_r = pd.DataFrame(pca.fit_transform(data))"
      ],
      "execution_count": 347,
      "outputs": []
    },
    {
      "cell_type": "code",
      "metadata": {
        "id": "4hOAZdqySBlq"
      },
      "source": [
        "data_train = data_r.sample(frac=0.5)"
      ],
      "execution_count": 359,
      "outputs": []
    },
    {
      "cell_type": "code",
      "metadata": {
        "id": "H1SVEo1dDk85"
      },
      "source": [
        "#applying k-means\n",
        "n_clusters = 4\n",
        "km = KMeans(n_clusters,random_state=0)\n",
        "km.fit(data_r)\n",
        "classes = km.predict(data_r)"
      ],
      "execution_count": 365,
      "outputs": []
    },
    {
      "cell_type": "code",
      "metadata": {
        "colab": {
          "base_uri": "https://localhost:8080/"
        },
        "id": "lOP-Vba9Rjhh",
        "outputId": "a9791e6e-3f29-4157-a96b-ad3f6e279201"
      },
      "source": [
        "classes"
      ],
      "execution_count": 366,
      "outputs": [
        {
          "output_type": "execute_result",
          "data": {
            "text/plain": [
              "array([2, 2, 2, ..., 2, 2, 2], dtype=int32)"
            ]
          },
          "metadata": {},
          "execution_count": 366
        }
      ]
    },
    {
      "cell_type": "code",
      "metadata": {
        "id": "bfZmum0HDx7X"
      },
      "source": [
        "classes = classes.reshape((w,h))"
      ],
      "execution_count": 367,
      "outputs": []
    },
    {
      "cell_type": "code",
      "metadata": {
        "id": "KlYtmR8MEUp0"
      },
      "source": [
        "#classes coloring function\n",
        "hue = {\n",
        "    0:[82/255, 182/255, 154/255],\n",
        "    1:[30/255, 96/255, 145/255],\n",
        "    2:[217/255, 237/255, 146/255],\n",
        "    3:[177/255, 167/255, 166/255]\n",
        "}\n",
        "f= lambda i:hue[i]"
      ],
      "execution_count": 368,
      "outputs": []
    },
    {
      "cell_type": "code",
      "metadata": {
        "colab": {
          "base_uri": "https://localhost:8080/",
          "height": 763
        },
        "id": "NmmNkyqBEWR6",
        "outputId": "fe23b1cb-e5ba-4b15-f5b8-fd9251293bc4"
      },
      "source": [
        "#adding k-means segmentation to the map \n",
        "map1 = folium.Map(location=[point_[1],point_[0]],zoom_start=12)\n",
        "map1.add_ee_layer(sat_image.clip(bound),viz_params,name=\"sat_image\")\n",
        "folium.raster_layers.ImageOverlay(classes,bounds=[[bound_[2][1],bound_[2][0]],[bound_[0][1],bound_[0][0]]],colormap=f,name=\"sklearn cluster\").add_to(map1)\n",
        "folium.LayerControl().add_to(map1)\n",
        "display(map1)\n"
      ],
      "execution_count": 369,
      "outputs": [
        {
          "output_type": "display_data",
          "data": {
            "text/html": [
              "<div style=\"width:100%;\"><div style=\"position:relative;width:100%;height:0;padding-bottom:60%;\"><span style=\"color:#565656\">Make this Notebook Trusted to load map: File -> Trust Notebook</span><iframe src=\"about:blank\" style=\"position:absolute;width:100%;height:100%;left:0;top:0;border:none !important;\" data-html=%3C%21DOCTYPE%20html%3E%0A%3Chead%3E%20%20%20%20%0A%20%20%20%20%3Cmeta%20http-equiv%3D%22content-type%22%20content%3D%22text/html%3B%20charset%3DUTF-8%22%20/%3E%0A%20%20%20%20%0A%20%20%20%20%20%20%20%20%3Cscript%3E%0A%20%20%20%20%20%20%20%20%20%20%20%20L_NO_TOUCH%20%3D%20false%3B%0A%20%20%20%20%20%20%20%20%20%20%20%20L_DISABLE_3D%20%3D%20false%3B%0A%20%20%20%20%20%20%20%20%3C/script%3E%0A%20%20%20%20%0A%20%20%20%20%3Cstyle%3Ehtml%2C%20body%20%7Bwidth%3A%20100%25%3Bheight%3A%20100%25%3Bmargin%3A%200%3Bpadding%3A%200%3B%7D%3C/style%3E%0A%20%20%20%20%3Cstyle%3E%23map%20%7Bposition%3Aabsolute%3Btop%3A0%3Bbottom%3A0%3Bright%3A0%3Bleft%3A0%3B%7D%3C/style%3E%0A%20%20%20%20%3Cscript%20src%3D%22https%3A//cdn.jsdelivr.net/npm/leaflet%401.6.0/dist/leaflet.js%22%3E%3C/script%3E%0A%20%20%20%20%3Cscript%20src%3D%22https%3A//code.jquery.com/jquery-1.12.4.min.js%22%3E%3C/script%3E%0A%20%20%20%20%3Cscript%20src%3D%22https%3A//maxcdn.bootstrapcdn.com/bootstrap/3.2.0/js/bootstrap.min.js%22%3E%3C/script%3E%0A%20%20%20%20%3Cscript%20src%3D%22https%3A//cdnjs.cloudflare.com/ajax/libs/Leaflet.awesome-markers/2.0.2/leaflet.awesome-markers.js%22%3E%3C/script%3E%0A%20%20%20%20%3Clink%20rel%3D%22stylesheet%22%20href%3D%22https%3A//cdn.jsdelivr.net/npm/leaflet%401.6.0/dist/leaflet.css%22/%3E%0A%20%20%20%20%3Clink%20rel%3D%22stylesheet%22%20href%3D%22https%3A//maxcdn.bootstrapcdn.com/bootstrap/3.2.0/css/bootstrap.min.css%22/%3E%0A%20%20%20%20%3Clink%20rel%3D%22stylesheet%22%20href%3D%22https%3A//maxcdn.bootstrapcdn.com/bootstrap/3.2.0/css/bootstrap-theme.min.css%22/%3E%0A%20%20%20%20%3Clink%20rel%3D%22stylesheet%22%20href%3D%22https%3A//maxcdn.bootstrapcdn.com/font-awesome/4.6.3/css/font-awesome.min.css%22/%3E%0A%20%20%20%20%3Clink%20rel%3D%22stylesheet%22%20href%3D%22https%3A//cdnjs.cloudflare.com/ajax/libs/Leaflet.awesome-markers/2.0.2/leaflet.awesome-markers.css%22/%3E%0A%20%20%20%20%3Clink%20rel%3D%22stylesheet%22%20href%3D%22https%3A//cdn.jsdelivr.net/gh/python-visualization/folium/folium/templates/leaflet.awesome.rotate.min.css%22/%3E%0A%20%20%20%20%0A%20%20%20%20%20%20%20%20%20%20%20%20%3Cmeta%20name%3D%22viewport%22%20content%3D%22width%3Ddevice-width%2C%0A%20%20%20%20%20%20%20%20%20%20%20%20%20%20%20%20initial-scale%3D1.0%2C%20maximum-scale%3D1.0%2C%20user-scalable%3Dno%22%20/%3E%0A%20%20%20%20%20%20%20%20%20%20%20%20%3Cstyle%3E%0A%20%20%20%20%20%20%20%20%20%20%20%20%20%20%20%20%23map_2d3c7ecd5856455cb9afe9bd1497fecb%20%7B%0A%20%20%20%20%20%20%20%20%20%20%20%20%20%20%20%20%20%20%20%20position%3A%20relative%3B%0A%20%20%20%20%20%20%20%20%20%20%20%20%20%20%20%20%20%20%20%20width%3A%20100.0%25%3B%0A%20%20%20%20%20%20%20%20%20%20%20%20%20%20%20%20%20%20%20%20height%3A%20100.0%25%3B%0A%20%20%20%20%20%20%20%20%20%20%20%20%20%20%20%20%20%20%20%20left%3A%200.0%25%3B%0A%20%20%20%20%20%20%20%20%20%20%20%20%20%20%20%20%20%20%20%20top%3A%200.0%25%3B%0A%20%20%20%20%20%20%20%20%20%20%20%20%20%20%20%20%7D%0A%20%20%20%20%20%20%20%20%20%20%20%20%3C/style%3E%0A%20%20%20%20%20%20%20%20%0A%20%20%20%20%0A%20%20%20%20%20%20%20%20%20%20%20%20%20%20%20%20%3Cstyle%3E%0A%20%20%20%20%20%20%20%20%20%20%20%20%20%20%20%20%20%20%20%20.leaflet-image-layer%20%7B%0A%20%20%20%20%20%20%20%20%20%20%20%20%20%20%20%20%20%20%20%20%20%20%20%20/%2A%20old%20android/safari%2A/%0A%20%20%20%20%20%20%20%20%20%20%20%20%20%20%20%20%20%20%20%20%20%20%20%20image-rendering%3A%20-webkit-optimize-contrast%3B%0A%20%20%20%20%20%20%20%20%20%20%20%20%20%20%20%20%20%20%20%20%20%20%20%20image-rendering%3A%20crisp-edges%3B%20/%2A%20safari%20%2A/%0A%20%20%20%20%20%20%20%20%20%20%20%20%20%20%20%20%20%20%20%20%20%20%20%20image-rendering%3A%20pixelated%3B%20/%2A%20chrome%20%2A/%0A%20%20%20%20%20%20%20%20%20%20%20%20%20%20%20%20%20%20%20%20%20%20%20%20image-rendering%3A%20-moz-crisp-edges%3B%20/%2A%20firefox%20%2A/%0A%20%20%20%20%20%20%20%20%20%20%20%20%20%20%20%20%20%20%20%20%20%20%20%20image-rendering%3A%20-o-crisp-edges%3B%20/%2A%20opera%20%2A/%0A%20%20%20%20%20%20%20%20%20%20%20%20%20%20%20%20%20%20%20%20%20%20%20%20-ms-interpolation-mode%3A%20nearest-neighbor%3B%20/%2A%20ie%20%2A/%0A%20%20%20%20%20%20%20%20%20%20%20%20%20%20%20%20%20%20%20%20%7D%0A%20%20%20%20%20%20%20%20%20%20%20%20%20%20%20%20%3C/style%3E%0A%20%20%20%20%20%20%20%20%20%20%20%20%0A%3C/head%3E%0A%3Cbody%3E%20%20%20%20%0A%20%20%20%20%0A%20%20%20%20%20%20%20%20%20%20%20%20%3Cdiv%20class%3D%22folium-map%22%20id%3D%22map_2d3c7ecd5856455cb9afe9bd1497fecb%22%20%3E%3C/div%3E%0A%20%20%20%20%20%20%20%20%0A%3C/body%3E%0A%3Cscript%3E%20%20%20%20%0A%20%20%20%20%0A%20%20%20%20%20%20%20%20%20%20%20%20var%20map_2d3c7ecd5856455cb9afe9bd1497fecb%20%3D%20L.map%28%0A%20%20%20%20%20%20%20%20%20%20%20%20%20%20%20%20%22map_2d3c7ecd5856455cb9afe9bd1497fecb%22%2C%0A%20%20%20%20%20%20%20%20%20%20%20%20%20%20%20%20%7B%0A%20%20%20%20%20%20%20%20%20%20%20%20%20%20%20%20%20%20%20%20center%3A%20%5B36.75729987187895%2C%206.219817916110255%5D%2C%0A%20%20%20%20%20%20%20%20%20%20%20%20%20%20%20%20%20%20%20%20crs%3A%20L.CRS.EPSG3857%2C%0A%20%20%20%20%20%20%20%20%20%20%20%20%20%20%20%20%20%20%20%20zoom%3A%2012%2C%0A%20%20%20%20%20%20%20%20%20%20%20%20%20%20%20%20%20%20%20%20zoomControl%3A%20true%2C%0A%20%20%20%20%20%20%20%20%20%20%20%20%20%20%20%20%20%20%20%20preferCanvas%3A%20false%2C%0A%20%20%20%20%20%20%20%20%20%20%20%20%20%20%20%20%7D%0A%20%20%20%20%20%20%20%20%20%20%20%20%29%3B%0A%0A%20%20%20%20%20%20%20%20%20%20%20%20%0A%0A%20%20%20%20%20%20%20%20%0A%20%20%20%20%0A%20%20%20%20%20%20%20%20%20%20%20%20var%20tile_layer_58a3e07a398b4a05b6936038c727d571%20%3D%20L.tileLayer%28%0A%20%20%20%20%20%20%20%20%20%20%20%20%20%20%20%20%22https%3A//%7Bs%7D.tile.openstreetmap.org/%7Bz%7D/%7Bx%7D/%7By%7D.png%22%2C%0A%20%20%20%20%20%20%20%20%20%20%20%20%20%20%20%20%7B%22attribution%22%3A%20%22Data%20by%20%5Cu0026copy%3B%20%5Cu003ca%20href%3D%5C%22http%3A//openstreetmap.org%5C%22%5Cu003eOpenStreetMap%5Cu003c/a%5Cu003e%2C%20under%20%5Cu003ca%20href%3D%5C%22http%3A//www.openstreetmap.org/copyright%5C%22%5Cu003eODbL%5Cu003c/a%5Cu003e.%22%2C%20%22detectRetina%22%3A%20false%2C%20%22maxNativeZoom%22%3A%2018%2C%20%22maxZoom%22%3A%2018%2C%20%22minZoom%22%3A%200%2C%20%22noWrap%22%3A%20false%2C%20%22opacity%22%3A%201%2C%20%22subdomains%22%3A%20%22abc%22%2C%20%22tms%22%3A%20false%7D%0A%20%20%20%20%20%20%20%20%20%20%20%20%29.addTo%28map_2d3c7ecd5856455cb9afe9bd1497fecb%29%3B%0A%20%20%20%20%20%20%20%20%0A%20%20%20%20%0A%20%20%20%20%20%20%20%20%20%20%20%20var%20tile_layer_58e75b8242de40588639a2092e0d45ff%20%3D%20L.tileLayer%28%0A%20%20%20%20%20%20%20%20%20%20%20%20%20%20%20%20%22https%3A//earthengine.googleapis.com/v1alpha/projects/earthengine-legacy/maps/f77668bd09666738b172a97338afb3f3-f59f18c83208a6f912ffdefeb6ec554c/tiles/%7Bz%7D/%7Bx%7D/%7By%7D%22%2C%0A%20%20%20%20%20%20%20%20%20%20%20%20%20%20%20%20%7B%22attribution%22%3A%20%22Map%20Data%20%5Cu0026copy%3B%20%5Cu003ca%20href%3D%5C%22https%3A//earthengine.google.com/%5C%22%5Cu003eGoogle%20Earth%20Engine%5Cu003c/a%5Cu003e%22%2C%20%22detectRetina%22%3A%20false%2C%20%22maxNativeZoom%22%3A%2018%2C%20%22maxZoom%22%3A%2018%2C%20%22minZoom%22%3A%200%2C%20%22noWrap%22%3A%20false%2C%20%22opacity%22%3A%201%2C%20%22subdomains%22%3A%20%22abc%22%2C%20%22tms%22%3A%20false%7D%0A%20%20%20%20%20%20%20%20%20%20%20%20%29.addTo%28map_2d3c7ecd5856455cb9afe9bd1497fecb%29%3B%0A%20%20%20%20%20%20%20%20%0A%20%20%20%20%0A%20%20%20%20%20%20%20%20%20%20%20%20var%20image_overlay_db6c0dea003d4568b7083eecfc68bd60%20%3D%20L.imageOverlay%28%0A%20%20%20%20%20%20%20%20%20%20%20%20%20%20%20%20%22data%3Aimage/png%3Bbase64%2CiVBORw0KGgoAAAANSUhEUgAAAmIAAAFoCAYAAAD0JZcdAABWcUlEQVR42u2d27Hk2G5Eyxc5pj8ZKBNkgDyYGAPkQytGEXOj56hI4pGZADbxwQ/p9pyq4mPvRSCR%2Bfn1689fe%2BCP//7PX6ZjzwnuPD39jX/7jz8uD8tnMa6j5btdfc%2B9x3j3XcU97j2i90v0%2B1dfs5///6vfW7VGWa4X67wq11PEdUT/N5a/2XmN%2Biw09dgI9hzEzw1q48psVNEH3gtiGSjbZ497rrIbMhLGGJtwp%2Bt297u7QZjlujDOV/Tz0M9H9rNR52RB7JAFPXvxO22Sys9kQBhq0/r9/49apDznNgNiC2P6KgHic%2B7uwZ//Pwu4Re4H72/rdO3unt2u1UzW9bn73tEKHPP7VVTgJqx/nzeDFbJUfPUAdAMx9WdmFzDkAmmFma4gFt103wZiHapgP6/P072XBe6ToPwOXqItV0Qr9Okz0fCGqBqyuguMF382hC2INQaxTHn76c2n003S%2BXMrNTWVC1VEv2bZnCP6tze3vjObC%2BolIFv1PAnMPVWkKk2vB8QYFWxvhbRa29wBxLY12fTIgJj37aPiJqlejCOfq4Qxph4NDWJ3rRjPb1SLqzuBlqIdlBkUQQxmnABjHnhR31tXIOZtRbNBTNGqZcllFsS2KgbbkK/aoGx9V6eFuCOIIdobjM0crQNSQZji3lLoc9jfAz0JeyqIReCFdX896eSQlXhmi7Jy0CxbbUZexwWxISCWKeMqNVl3f3MSiHWAsci1v6t2os9PZwuL7hDmOWfsalxWA8Z%2BRrqDGGvqsGpaWwViHab%2BFfIXpfyG8XsWxIIQphTHMxfpjhNr3SsDyrdNRMVkqiULy7ep6oVA5fc1FcQythxqEEO9%2BDEgjAELHe8hz2AF8rdvRYy8mTA/g7FAZS0euoinO5hjZgStJ2ieOmkPK6ZqLRpQRDtRObk7FcQilcOOL7nRqljGYPqpajNJM4aYdJ1i9fR5O3wpoQT1nbMLd3c38ypgUwP8qQCmAtSMoaX1b7E1XczJ3ey5VK51CD3dxBQE5bNf3cqdbsW0IEZsRVZ4eLFck7uYuFYAxoJY/fRtVADfoZVdBWKZ%2Bxz1XTp5DTLMiytsc56sZ9ggViHgP9mUfEHsIHpmebpUbdRPCwB6oWEbx6qtGiaAWJdUBIVwnd2W7Nqqr66iI0GswxQqwngZYYKtsJfZTNsFsbEwGNFMdNuo0QsRovVQZebZqSXSLRUha4LaZcr26Tm8M%2BDtVPXNgJ%2Bqgp6tHHWAsWoQU/v77f6%2BIHbMcADTvoABYk95eVempJ5IHwWITXOA7%2BQ0zqxcWSQEHTbAJ4PWLtWw7gNNp4IY%2B0Warft7U4twQezlwwIK00fmdFMmuPotIDbFoFO9YSChTtlGRD%2BrnQDsqfLLhv7pIIZ%2BKciK57eFuCA2si2o3pStlaRJLSsPbFk2tQUx7cbL3jQihqbRzRgNZuiXpg7TwFXrJhpsu4AYAsZQwvmJbvMLYofmSk7MvrT2/lWl4m8bmzWk2htqrfJXOqk12WGKMyrK7rJ5esCOAWLdwLzSP4wRZ6XUELIlJXffYathC2ILYsDsy05VPm9rJhJurGhPdpgKYhmXTquGTYExRhvUep5OCvV%2BerFjZopW3AdKEJt6HyyIvUSYN%2BV7fwORzvo2tA6MHYDrcZzuZA2hiBpBbHxvAjHEJouM%2BemeIcmeDK%2BshLFBzDOssiC2FbE9CDDWfcggA2hKEMtsFOqJxCfAmVQRYweaTzks9xO6/Tlt3Zh6WLoCCmuKatPyPRbEjmuldgExtJjZu6mcVPm0LtBPFdHKaCGU1gkN6ZOA7EpacBKIVeuzusQXKe/njKxjjwWxPRxtsSkCcwSInda%2BjrwpTwExb8WPUTGdDGIMSH0DiFXfKx7/RIaRMCpMfo8FsT0IuieGHgxVBeu0aFTFubBCnztumgxfuekghtJedoWy0ythGXNqNGh6Pn/31AWxPUiLmno6Er3hdvP26nwdp4AY2uAXJejO/B3Ud4vo59CfvRCmu8eZnxGBwd1TF8Q2vyop4q8wbM2E8HqsK7q1XbtVN1Uh5h0hDLG5If97ZtUO%2BTKzINarGvZzIAt1zy2IzfVM%2B7y98jN5mhJ9Xqry0yqvbdfsRqVvUOd2pLcaEA3njhh0doOxLhE3npeyzBozAcSiL6ooqcebQWzS7xwHYm%2BGse75gtMMJydEBjFgTnXdFSDm3QSngNhEraU1SxeR3cmCXs%2B/Q94H7Ht%2B4v6JeKlcEGu%2BQU61tGA8XKjA5awIfcJkVwXYWje4n4txl2m2SOxVh9bmVBDrqLmM/mZFNezJA%2BzqfkbdB%2Bo2/anOAZN/62f65vimMibDuE%2BhV5p4blHnhNk%2BiWzAXcKOu0NY5YTcZBirDMhmX9OMJmshDHMv3e3bC2JDKmIn3KRPD3HFeT6patklqJkNYswNr2IzUk1eotpDqnNxgkifDWae84i%2Bxxj37%2Bni%2BxPB8zN5U2Rd1CmTkxkQY0ULvU2XV2VSaV2g7yDMkpEXAbeq9kxkI0NreRD6I9bvnegfVuVKf1UJU1qsqMyvr/bF7hOJJ8HYZ%2BpGiBb/TdEzWRYEdFvx7fq8K6BRWj9khM0R53ZUu4WxIWaqF9mN3nteolN0U6tiJ9hVRP0SLbFl0d/KnpR/Wve6BslvRWzgOKo1NmZqW9JaIUNE16yv2580GItCWBR%2BGCJ3ppt4FNQsAmxUOzJ6/tgt2AUxTKyQBf47T5ufJCHpFJN3tLP%2B3ny21tLVApEBh%2Brq03Q9GaJNx3TzVk4csgOWrRtj5Hd5Mv1Q18TbhrZ8zlSNWGWLMjOIwmq1MkTwp%2Bp5F8TWeRduXxE5sgvkmvDpTXCtLY4MMCkF70/tDmacjBWWUMHKqGvx7fOzANzFSyz6YtIdwizXJgLmrGn2k0FsnfUXxGTu%2BorWpDoI%2B7S3sgyMMaf4FCCG2jAQwBmN62K3JVUh551MXbMgogKyiDce6/m2aJzf7Mc5%2BbcsiA01do20Jj0DEKoH9kSvG7StA1rXhYawqB6pC4ghp9g8MTPIEPFOmy0SNjvEGF1VtLJwGZnYjYjr7yQpq/VdEFsQS0LYN3jKVMQqqlRv0Chkp%2B3QInuVH1cXEENUZFSVxu7VsGhqQ1ST1%2B1ARxohr2V10PseC2KvKGNaWo%2B/L2KZSpQSxN4IYJ6KVTdXegSIVQYsIz3OpoAYwvInEkrP8lzrBmLV%2Bbwqb8yFugWxV98sd9oWplcW6416cqIB2zH7dBCrqEpEW5nKlq9qc2d5NKH0dV0hDA2KrOnWyoroHgtix5diPTowxDlZCIsBBGNDVrbFELDAtjdgtHozLd%2BOcUzslnF0cvgJZLuDGOq/Y3i9KVrTC04LYsd6hGWrY1PSAqYkGDyZ/lbG9ahzCk8AMc%2Bm6A1/PgnEWNYRjJSDqpZkNLxdoeN7imPbYseCWPkm%2BgYYmzCqPOFh9rRfKqpSVZW47iCGjlXybMLTYSzqs4bKTj2lEuaJPWKsg6qq2MLYgtgeF0A2Acay36mzQ/hJIIbWiUXz9RTwYo1Eqrr2nUEs%2Bx27i/MzIJbJ/bS2gk91zl8Q22M8iCnfkFSOyJUms91gjDmtpwaxKnhRQh3792QrlpFWYgRUq2KLqipiKAi7azd6QQ3ZKVjIWxBbCHMY/nXLk5xgVJkV504DMYRjv2XD6FJJ8gaEV17/LEg%2BwQDS7qO79QMbxrIglq1motfItzn0L4jtAXk4qrQD1jaiwj8IXW3sDmKozRltoNrhfLGggFntQ3vU3QEB2nctcw6mQFkGxJ70skhvPvVLs0VXthC3IHY8hHUCMYTfUOVQQraNwphWRH3u3Rt%2BxYbZpXqYCTNHThAq7i9rjA8TxLpNO0b1YQirF6T/G3Of8Q4fTIrnWhDbww0HCH8gT1suYghrEQUz3pqng5hKs6TSTU3R000yDWVU2NAieu8LhwLwGS3JyDXoKh/pBtMLYnuMATH0tOKTruQJsqzfgzlBhlyQrFUlhb8Uq2WinOSrmOyc0hqzVC27t/xQcV4TdGnfrlfE3qWrfpd1b3XULy%2BI7UFpR0Y8vJ5gD%2BkAfadhqQaxq6qYp9XHmGbsAj%2BMyTLmd5ymT0Ia%2BCotJKJwrJxgVLZFJ4GG4vydmryyIPbSychsdJFFsMvSmWV8pJRl7btFVWn0idow1dFL1ZmZKBDrXDnrUBFTD6GcAGJT9huvVQ0y2eHn/rQgtkd5KxKZTea1HUBrGSILWVZQXWm30cHQs5MeqwOMqQKfK9IFGD5gnUAsq9dE/tbTQcwKX6j94Y2asQWxF0IYw8%2BLAWMsx27FeWJoxZA6FlZYdbXTv%2BU7VVWwOsNYJ7B/um%2Bj11Whs/SAzEQJDGMwTO2LtiC2B3RKElm2RW00DNCpCD9WV8WUGiYFhHUBsW66r2oQmzDxmm27Vv3m6ZOA7DWz6nssiO1BBzFlK47tR1bhij2lPck4D6gpxA6TkZMMQrvAGMJMlvk90FVY9SDCJJjo8n0tz8pWxPZo2Z5kQVGFMWyHthHz%2B1SDBGrz7GZREfmu1fdcVxCzDi6g7292FU054TvJL6vTd7PmaS6I7dEKxKpGfz3C5Ckw1mnTnD5911Ef9vZ7qjq/s6OmsCrBoGPur9V4tsO%2BsiC2RxmEeWGs%2BoGp1GNN3zynWyAsiPUFMYW5bZfrj/BXU07rvh3EmJFNC2J7wI1Eq9%2BuLBAWrYidAGMox%2BoOIuvJm3DVpKQSBNE5ptMsU7pWxKKZk2gpSfZlv8teuCC2xzgQY2rErA8IepJzCqShokMQAmq13qVT%2B4kNRV0qc8iop%2BltU6Xe0fv/9%2BROoiPrvBFub3S3XxDbI/SAqCJ%2BOr4NdfCFyhp4VoEYYgLMW2VRb9DMChVy0%2B9mJ4H%2Bfie0Jq0VxEzbtzruDg2JeyyIvXZS0jIZtueI30qyLprMaooVRhDamYx3k1pE3sGCpMJgNQPf2axTlm9ddVsSVWFWyDW8L4YLYgtiWwlrZmZ6kscaMhsua4vAypbMCpGzthcdQsirXOQ9%2BZrVwx%2BZf3tCdazDS0Injey377v78oLYq4CrIjZlz2U%2BliT75snSN2Xag5a/00UEfVd1QYEZWqvWBcTQ2YkngRgb8qYMK%2B1%2BvSC28CWYwFoQw7ujI8X5qNahyildaXXBjKBhA0SFKB416HGSXkyZgDFxanz37gWx1X2JRuEnwdZkqwuUOB75bzukAHQEsWnWGqg2XObfMQFnuifZRPue3bcXxI6eguw27Tex4jURxtAgFt3wutkzKCoa3Ss3XQyCPYHaHS1LFNmWbAhDr2fRe2z37gWxV/iBsYWWT62y7g8cwiKikzknS7fCrJCgN3fF%2BXobiCn8sqJw7nWeR2oHo9pHVDW4g%2BTipGDyBbE9Sv3AmCA2WftVEdRdaQKKyutDbu6oqTymnq7SRb0DiCE3bi/0VF2HrMVLB6f87AQ94p7YfXxB7EgIQwvDM58zXYSvnqSs1EJFM%2B1Q3lJIEGN9H2REk9J01tOSRvvQKacPK9vVlZ/XoS3ZMSZvjwUxKURkFgnPQ3pnxjdRoB9d5LyWHxEn/E4TY1XVnCmTcsxK0wQfK4U5LXpitdu1ZlaXKvSpWxFbENuWJCG38ApcJoMY%2BvxYQMxjP8Fe6N8ybTYRxpQZnt0sGhCRPp0md7PPmsr3Mdst2cnJBbG1qiBNNN49bFbj0RM8wjJZbJ4KpArGJub1TQOzaOuuqoITvVcqK5XKaVrUII4CxJSZtmtjsSC2VhWCByBSKTrRrDUKb57WgaqqMQHETguArggyR5xDRfWuO4yhJ6IZv5GRG7kwtiC2hzC%2BCAFiV5qoCeeUdZ4V7WZEbqLSEynzHU8BsWg0UUXLNDrM0cXBPloF9FyTDhU55frFqKbt/r4g9roQ6gz8LfzyYVcxldYdXjyb6gm6MnRVDOlvN6W6iqgqR2BOUb1Fg9jTWpRZExfEFsQWCMjjznvutSB2GoCgK0aniPwrzHCzNhuTg7evfme2/cg6Pyz4QVtg7N6yILYgsCB2BIipqmKTAGXioEFF5BDyb3bXh6nDz73VQ%2BXgRVZWgloLFX9z4W1BTLbps8SRiIdkYYzb/vW0PU4FsekTnxXZoiywU/mHVV0DlOjf8rfQOjgPiFn3HVVFDFVoWG5YEGtb%2BULesHvj/ymthr0dxKbp2xhxVV1ArMpRXwlkqCplZbySZX1RrYXM9fXOz3KPBbERIIaAsb0%2BuPOMWNzXULWf2F5RKetsbPrG9qTSZqUaRJgVqmje8R4LYpKb27KwsNqKe8PngTnyNxbEZurYVGBQERg/zdftJAjrBiBKGFsQWxArv6mtCwurrZidslkQ47U7ForeIdK36IQUgNARxJ4mGKdXwK5%2BQ9e1kLW%2Bdj4PC2IHb%2BzehcViWspwU95rxl/Eo9NzC0BnZVJWw0JFuLYHxBiGq9uOPBP4FsT2gAkVEW7IrIDsvXacEXmr%2B/nC2Jnh4JUwpgKxf/%2Bv//nX4XkmumnCkBFkk9ZcdrtyQW5BbMxmjhBX7hixf4FQL%2BgLWzOmOpEgVhWArZjG/B3Cfh53L6ang9gkGGPtEcipzAWxPcyVKjaMVfpnnej9xoLsBZzZU5Tsax%2BpqGf0V1Ugdlch63owQexprT9JxD/9uyyIDS/hoqwqFCC2/Xt7SX0B7Mx2IzN2CNn2jFT4KkBMbeMT/TssoM5e57fCT%2Bb6syt0C2LNN2umZQJLrL9gFquaKQTPC0s9/MQU7ekOZq6IapCnHclYi5Bra3TwoIN3ZDePMVV79LQ9a0EMCGKoNmEViK2gn/MGPTkG6E2mriqt4Ikg9juMZc8nEyYy2ZQdTbzZIMb%2BfllPxwWxrZZQhPNXegJGe/JNo9es1rK3dbRtzR7xRopKRyWIMf3EnkDsDl6qKzKR6XfFgEHXdmB3Y9oFsQUxiq%2BXOpTVY0Y4%2BeZH6Eeym9dCET6OCH3%2B3xC3g5jKjExMdoASpC/Z3Qv0KW3J041pF8QOhbBKg9UoWEQ2ohNBjN2O3KMWxib6iCmsO1gg1rFChFgDq/RYiBxihJ3SMsGCWHsI6zqV8vT9WAvRJE8xFYgtzM0ZYMjYTCANgbtdo28Q1n1wKPIy%2BvP/rqzmICLwVku8IDZ24z61lPrGh081WdWx2jMBprqdmwwwZTzCTgWxSNtPsdZFo%2Bmm7EfTdW0LYlsNK4196Fi2XuH%2BgpgnvuYkEFP%2Bt9NALNKaVIREZ6UZ3TRRke%2B2ILYg9uqqWIX1ArqVetpDh4icimb/vTmTcfJ5UoNY1/a3J94oq6tTtSKfrl2nPSezNqPTYZYNFsQWxEhi0BM1Yaw3wzVu9QHalVD81MGI6u/Pmj69gjDECwxLj5UB6TclxFQOmy2ILVgdG0beuZ16QtD3CvP9MHbnq3YaiCl%2BQ2ZYAFkNQwy6oATt2fzODlWxrn6YC04LYnuADWSzSQLTz4nKRX0hzC/cfnNqgVXMb5nafGoZKtuSDPhhWoJkv8v0IsTC14LYHoW%2BZUiYOxnCFsT%2BKKk0emwmTjm3Hg3az//N6oR/9xksbVgGxBSSgsx32f1pjwWxF8IYcvIHmQV3KoRZNE8LYbHqGOo7nNre9KRjIJzwWSau2ZYkuxrWec3bY0Fsj4Zh428FsS4xNAti/ngbtE3E286/t3rlBarof6e2RUAGsZ%2BoEVs4XBBbsT8Rwpj2E15bjM5BvhUgtpWwXGu3%2B2Rqx2udgTEUvFVZIKAqcuzvuPvoHgtiQkBSGsGqFpPo2HMHCMtO7W3%2BpAbEIrqiihZh13tABWPeKigbRrqD2LYt91gQK4QkBeh1WEzU3yG7%2BWfExBsE/oesvWv5byp/Y9drooQwa0xQJwhTvjyufmyPBbGBVbGu%2BZZPf5e1sHWYhlwQ405MWq0ZKipeSEE40/m%2BAsSsQwMIEFOuARNe3PdYEFsYIzysU0BM2aLsov2aoANTfzfWeVeFY0da0UjTUtS1UkJYFMTY0UXdQGwhbI8FsRcOAnRvCXqnQDsI8K%2BieSZ7ULGm9xggZr0m6FBvpB2DyketojXphVfVOoS6HzNr84LYHgtiq19rr8PoCGFP%2BYjMahK7UtW1KobMCIzCi8KoVuF5FbGgYOvDlIHebHju1J3YY0FsjwHu%2BmztWRauuoMYGwqmgxgayFEtyyyIedpurEoM0tQWDWTRc2NZm9QVc%2B95XIH%2BHgtie5RMKz6JbyNWG5UQ9vt3qIIx1N/1mFZ2hrCoS3rkdyNsM67%2BfRWEWVvEd077LP8wdNVM7QW4IPa%2B7s%2BC2B7lWZOeRaXzZKT14VWBmKo1NTVj0lpp8sYAWStqGQhi%2Bqt5fyO7XVkJYuxKNwLEti3JG3arMA1fENujDYx52oldhwEi%2BiTv5lIBYpUO8%2BhKV9RSxAqnFW1gNohFBygQQn2kDYz3RUopOegCYtOhAxWbdxKMLYi9BMLUSQAdbCpYf/8u4y%2Bz6Uw1ElVuoMgpUuTfixgHI%2BHAm0WJArFshBVyoIN5b3XK2p0OHagM4%2Bi1WRDbo4Wj9AQz2e5i/W/VAGQVTAElk1qTLONWVZuZDQjR7x3Vi6khDJmckTnPHfRLJ7Q5USB2SlVsQeylMKaKGTkVxDwmnVMmOLtrxNAVLMSk5ZtB7Kkt6xmi6AximfVsQQw7XFZdbFgQ2xs5fHOqBY7TQAzloD7ZRqNKkK783SjT1C4Gw4jBjswEJWtQJAu6CFkACsRO3G9UexZDhqPIPF0Qe0mPPVLmraiMTYkxiW60J7TqugMIw%2BIjG0fUAbo7gJinPa%2B471ih7Tv5iN8LLOBcmeyyILYgRoGfSWXcCrEuYgFXVY3Uwdds77Cof1h2UCJSnenSokRanWRBrMMLADPbc0GMu8ZbzjfSO3JBrOFNsKXgXyMrfGxTx6tN2OptxfCU6jIpmQUQhD0KohqCAjHvdUe03ZAO/AidWBWMKYyTF8S0IMZ6uelsArsVsQWxIyZqquNk1C29rrYVFvBgtKqj1ZDMZl553ZF6N0R7chKEZc7XQpS2IqbwmOvAEAtiC2LSc5GNQGIDGWJxP00j1hHEPD5a1nYyajOvGCzxtpy7gFhUZK%2BEsAWxPpP%2BDBjrEKu0U5N747cEMQRks40dVUBWFWGEEMIjQCyj8cvkdDK1hSeBGHqAgh2Env2uC1F9YEzpqcncNxfE9uY/eoFRgxh6Q74aAugEYl4dGWth9oIYagpWOWmJ9kObCmLsIY27v7UApd%2BTrEDliVvrtF%2Buoeve9EcvMuqqGLo68g1slCAVdeSvyhG0/p4uFa6sRgxRxcyEf0dhrHLiOQutC2OcogjzZa1DWsyC2FbDFsbAm7pqI2e1JdmDCpbfjbg%2BTwJ8pSmoGsSyTvtVIIbIdK0AsdUr9/j9as8wxd64ILYwtjCWaD1F22BZnRnb1DRb3fNUxVgVsIx%2BrzuIIeAaBWIW4T66qonQZl5VSr99btdM3t27NHsY%2BxotiO0N/XVxWr3Y88aMmr7LAAWyCjHFWR%2BxaTOjr7ItNdSkpuWeQEHYXXVMMbWc%2BSzLs37S5PrqnDdrcm0rBni6vEW8733Is3EumUpHpP2kgiFvdbUKaJjh7HcvfcjKGzq%2BCQ1iv8MYw3alSovHAIcdBMAD2YLYgti%2BYRx%2BPqpArFuFCvmcoWN/ntrIKghjJkEg8hPZFbFpEPaUmlFlXrp70zv29c%2BS8/7WhTGMiWimvdcdxJgSABWIMadbLZtDp2D07hDWIWQdXQ1DPMsLXmceC2IvqeaskBQHYggx%2B5NouALEpmj3roDYe03Q57gCuLqCWMfKl6c17QWxJ88qb7ap5XwswCyILYgd2mbch94GYihBeLRagPjcyYa7d879KLuOLkA1AcSQbciKc3oX7G6p/LJjybZKtiC2ILYgtvmcDwt3BYhlqzbTc%2Ba82j0liHlbbEzbBzaIWV5arOdaOalq/d89lbCFsT0WxLblRmtPMv1ZprbG0HmSlRWDqRCGyF1knN9oRFL2/lI66n%2BDMARcsNuT3oirrFBckeixMDN77/28%2BQStb1qd2etUKFBHtWRBodOLCfu8eoYm0Do/tAktq8rKBLHOAyfedrVyvZsuL1h/0QWxBbGBzvtdFhdV7FEViHV6HjJtO5ThriUaqQoMKj5H4ahfBV%2BRSWZ2yDfKX2/3pvMqY9ua3EMKYtNbZIoYIxWMMTccS3oDImcw0nbqHOKtbsepQOzqs5i6wYgu7epaRKood8/B%2Bl6%2Bbw/ditiCGB3GMo71J1TELFYJ1g2YZaug0uihK1poW4u3gdjV5/x1rVQ5k0/tzQoYyzxH1orzxuvtsWL9tWUo3VwtMUqZVgCi/cZsHyJDuKPAF9kwVPcKcoLuKZDd8ve8lUZkcHmlSS/TzBVpCqsKhre0KT3P1e4zeyyILYi1nXaLimORVSGWxYQnE5IVk1R1j0dMM7NA4tX9ZFqXrHSAySAWhTcmgGWu8U4q7rEgtiB2PIg9AQbye0Rz4Doe0XN6kj0FqtpmPcddftNJIDbRJHf3jj0WxBbEyr25npypo95JXoEsoxrGACYViFmsGDqCmHJaMKMVWhDjAlg33Z7lOy087LEgtqL9Ugj75vDujeFRi6crqmHWjMoMNFj/bcfqKev6e%2BH4RMjyPBcVEIYQzldaxSw87LEgtiBWYknQOT8u66OlrF4pKm4d7vPOodeoGKMFMR%2BEoScYFfYWC2J7LIitqWsL2ERARCcImwpi097mK%2B0gmBWxjuHg0eSFykqY%2Bhx6nqEFsD0WxBbE4CCGijvqDmIZt3e2qB71N5Hh4BXTk8qW5J1IH6VxrMqpzLb6KithVa3izHOstIHZY2bE0YLYtibhv5MJE6yNOqN7Y0OmSh/WoULWsTrEmE7tmKNore5Ua8LQ5%2B7pxSX73Gxs3tkgVtWO3orY/s4SEGNuZFUVsbtqBgP2UMBYAWKVsT5ZoOrQlszCBLsSdveiwzyPLB%2B/J5PqBbJ5e2On%2BL0FsZfdbMjWUgQWnhZMpbdPtq3FBCZUezLbbuleDUMJtj0tP0/btxOEVdlUKCqGbDPlyKCAerJ9D%2B56tSC2INbuxkSGXiMXZ/RvRGhLug0AdGlNZvP%2BkBmXLA1WB41TB8NWb/ueCaZZe5Nodu6axJ6Rq7wgtiBWDl/IjYmxuVWGfndy1c%2BAWHUAeMaKhPUdvPE4nXRh3UAsMyTBBjGFh9kC2Zq%2BvxrE9maP63kYAuVKCFOBmGogwGNzwT6faBBCPNMnmrFOATHLs1ANYdbvoLqvdk961yDfa0Fsf8uzNYXSHLMriGXakUrbD09LlHk%2BGRsV48XqdBirArArEGPZfqggLPMyskC2VhYLYgtisolISx5it3I%2B24GbMeWocH2fUA1DeeNNdsjvCGFXINYVwlRxYKfBGCNGbw1dl3ZfNxmp1j91K%2BMrolAY4nqFRmkKiE2MX1JMC1aDmNVRX/UMRewpuqVOnDaVf/f3GL%2B3M9huRWx74XQQY%2BbGKTdilj5uWkanEnYUL1aKSJ23QpjVRLUDhE2K/zptH7X%2Bxp/DEgtiL/bXOs0fRR3zY3nYmAsRoxUU0YYsiG21jHEfdquGfdOeem1ZFC%2BK3e%2BnU/cvlEXN5G7Y542VsLfAWKUlQ9c3O1YVIrKAdMzqrD7Xne6dDjYGkZeBDhDmmZRkmbBWVcN2grJu3V6N2EAQe1vWZMQfTKEFmwJhd5YbbE3eNAhjw1inCnqnPE1FfJEn5NuT/1nh04e%2Bp1TP5nZ1zgKyz17M80u9XY0Rp0HYnQEle0p1OoRlhiUmPK9VINYJwq7yJa3GrdUmyQhNlOL5fFu1zGILtCC27rlH6MKQlbGOby2RWBsrGHgrsKjw6SkghphanQZjT9eOoR/qOiXpqXSqo8Mi16Uaxt7YvoyYAS%2BILYiNeTNXhEp3OM/sKTi2W78axH6CJGOyymtMO60qZoXIEyDMItDPPgueCWbP/854aZk8ZDOhKtZxr8l89utA7FQYY4jP0Sak087RHSygY09YETCZ1kcXbVU2sLxK3G/93tlr1gHCvoFY5l6Ohtx7s2xZlXymZc%2BCWG8Ii3yHBbFDbubodBcaxLqfW0SWXNa2QgliERsRtD1Ilc%2BYeuPyagr/1lVlBMldIOxOrM94obBaYXi1aQoQY9pbrGD/ec3pWNhZEBt6Q3s0SB6xODJvcRqEWUTlWX3JFShFtDFdJxA7gFjFxhWtZCH%2BRlcn/awmM1o19cCVN6KNvcYsiOXOT4WXWPaaLIgZWk2TbsYrQFC1JzsvEKiNHbmxeEGMUV2oKtGzJ8q6mtf%2B/t99mzy0LuxdIUwFXwidJXLCUvHysBAWmyCt8ktcEDuwIsaIVLEsWG%2BBsAoQy%2Bhe0I7d6rfCzBDB5BQBD0hNgrBMFSx7P0fXKMu/V734LHzhtVeMSVNvB2RBrEnLQg1i6AUwOwpecZ6QYmgFjHmrYQwY7AZiqmm0ThWxK3%2BujnowVDtSGQDewVT5TSCGhid0vrBqKG5B7GUghnTpzi5UHc9RRpjLqkxFtGHMzaJLa3JKfmX2MzoCVmRCEnnvK0CsKtnibRDGhB41ILLWls9bIUzZSmNWG7qCWPeK4bdF2as/ujLDZYEYwhZg0iJ/df69wyHeSWL1W/KpEJZx0kdNUN61GjtEjJ0IYRUvORNA7O7zXgdiTxEJ3d4KsgHemf%2BuQ4CuwsTWo3F7EtsrYIy9YXQDMZaHEPtveI6pIOZdL5BpEop2ZFYvxoC4022hIhPoygIJ4/otiP14uCaJDZFVku4humj9V/Q33IGY0lGfISyesLAjbVJU7umWfz8NxJQZkN3Wu2yX4TQY65JGMEkitCBmaEt1NI5li16ZC2jkjUShGbJCjMf6hD3lZQWxzrmfWXsZ9MtN5O0YMfCxIFYPO4zvpmhtnjKNPtVHLdtuXo2YoYTc6Qa962l38ee5AgJVHmJF/I/ifGb0bqdAGHvKU/0dT6iKLYjxJ0EnPLfKfM5uiTjZCviCWMHUmGL6owuEKaeNWJltkQcrI0yOAq138ADdzpsMYVXP9AlaMeTagBbrV4BY5BlFaMxOiBzyivzR3ods2dGK9QFZcKi/32l0XtWiVAZWqypimeqUVcAc9XdTVMPU/mOV1bBKv6iJYn3VuoHSRaK%2BWwbSJlfF2N/V8vwoXQvYf3crYkAYy2oEqkEMNe5dFXNSCWKoN2xvazdyvhWaR7Y2hLmIVrfUF8Qw047qF05ki7QziHUxjlbpsxWwtiAGgjHEWHbHilhGXN4VxCKtu0otWKY9w/LguxtwUYh0WQtktc7w7/PaGcQs6x0aoNjTlpUgpnxx7%2BJnWfkipfY%2BXBBzVMQymxnaKVrloVU12l0JYNXflfUdVBBmmTaOBvF2aMkoK6tXVeepIPb0ooNq/3WFsLvvjTa1nZ7wgvp8JIghvnv09y2IGUFFBWFsQ0mW2aF1Me4AP9XQmN1I1KASBQ2k5uwUELPeB1Pak94p36t2urIapYAxRIXvVBBDfn5ldJp1fdqsSXAOYbQl%2BUYQ6w5hyu%2BK1sUoQSyzKDEDwqti0TK%2BeZ6/OTHmKOs4r1x7GC1VdZv1rZnNGS1mhRzh6KxJJLgg4m7QgFL19j4VwqILe2cQy3znbqPp2cSJqo0IDWGWdWNq3iTD0wvdmvReT8Z6iPotp%2BRJTvJD29Bv0EREViypALGJ/mFRHxz0d64EsexbtXVUv9MELnPyqUNVzFNNRgHeBBBTbmDo5xkNTWgQm2bm2sHTa/qQwufEE%2BK5eZCRFFEgqQwbZk8ooWwhsmCEsthg%2BhV5JljZQx8d2yPVIBbRkHphbIqpq2eIo9u6hIgsYrQlp4d%2BK2wpJgPZ3W/8nEqk0Tdd9gKizp/sCGLVv0txLRW%2BSR5LCWTlp4supNoEGhGLNjVv8grGOugvmTmQWY/AiXqwbp5bE0HsOLE%2BC8RYGzxKV8I2ckW/%2BXWt9mWrXdGWLGLRfnIWz8DBghjOvsN7TAOwBbF8hNOUCck9FsToobsoR%2BRMFUVdIawS6ncUTz651CP/FmLhtkBeFfz%2B/dnIN94K6PNMV6FalJNh7Eq4z/DX8wAOA8Q8zy/S1HkBaDaIvcJHrLpVlf0cFYRVTUx2nmJR%2BIKp/Iju4FF5vhn6jyqvNCUcTgaxrHifNcGINlVGms9OE%2BfvgSkEHe0j1kE7pAKxbtOSaMj0hrNPMItlRL54sibZ95KlHarKuGQaRS6McapkVTYSnucYoQNbgf67gOx1zvoqMb3aWySqVekAYqxJtchvVVhWsEKGvdfY0i5Dtt4tujT2i0eVaJjxXd4GYtZJ5ipTVZQYf0HsXSD2%2BogjRMVKBWWV4nx064wVYZEFZc%2BkYaZVgU4teLpeKJ0k4%2BVEDWLsEGFUJW11Y1yNpRLE0FY1Vt/FPWbwxmZNAmJ/uoFYxaRRJYghhyoiui2FeWvWzoKlE4z6LFmHQzoazCKruOi17ATNmLVlz8yEZHqDsfIrF8TeA3Oft/ZvWdFEE0EM/XbXGcQsGpCMnpC5GCvuy6hBZrf7vqKi1aEq1gnysv5ZLLhh6c3YgzkLLecerwYxxNvPtLYkGsQUgdMszx%2B0TQkj4Fv5gqB6FpRO1ncQEhHpKw0pmRCmgDHkOtvhYGpsWRPoW236tSDWGcRQG2VEt9NhUhI5gs0GsehAQqegb0UlkjmogTyv1dluV/CS0dRVgljnFmjmnpkCYMjv2yHT9UQQ634OXgViaF1BtJUzKcaoWsvArvypPeQ6gBhT3zYh1N4LMqogdC8YZTM5f//fKipj6nWKCWFsm40p2azdOWBBrLkWLCqYVoIYEiqm6BmYthJdjWRZGwXDjNI7DdbB0PcbeHQYGkBVwlCAyoaxirVqQWwnGjuek8/pAGbRvqC9YphiZRSMTQAxdnZkdMJWBXOeOJUuG9pT9aNDqkKkxaeEsQyIsc5NpaVFhUhf/V2Z08BvgzCFbhsOYlMvlhLEormBXSFMYbXAMHZlmtmizFKZmr7I/cCIWopsekgIi%2BZAXlXDWDE%2BbK2W9TxMh7EK01WWPlUFYZ3F6oqs2AyMVfDQZ3L5skslwPPAZh30u4KYtzIWCSW/igtStwsRMThsQX3H9g4qMsQKIlfgzISMjIg%2BOyUZfVH59m9OqohlkiIiawyyyvaWilVlkabDtfhMv/Cdqj8K/6QOcUZVvmuV4nsvVGRSHpAWE0qPpSygeyDsDkyqqj2ZiUbE38743n2795SB4IoBkoq1A5VOsTDG75ZVXpfPCTeB16KhCjgUU4LdtELotlzm7yO/Y/XEq3WxnzD%2Bb62GITb%2BCOiwQQz9t7MGxBkQ8%2BovWS3xDhY26Eiy9QXjWVhVA/KRIMYKaFW83UR0QorfrIYx9N9VQ9hPD5uf/x0zaLybEWZ2aCLatov%2BHYbPFsu7C9Waubte3YX4UVNYZa5wZo3Zahq/SFPemjxhzDXTn0eKkdnmrZ0gqwrEKtoEWahmtC2n3gtXui1GO/Hn3/XCjact6vnbypxHj5%2BdtTr27VxWT0Si1/fpx2kQpSzSVJzPz2kXrCqeQg1haP%2BnCR480xY0BIhdDYNMA7HodUS07iKtzW8bwaTA7YgHofe6ZQCMue5WdD0yljjetWgynHm/E9N5oBLGfv69z2klyAkghoaTU6ph3UCM%2BUbHcMPvDuVKCIvqvJ42jUkwxmxno6rNrOnHiiEtpj60g9FwhUg/%2BjtQsYas87YgJn4rQ2y%2Bkw6WV9bUahjDRPapKqY2a2VFIFVWk04AsSfhPjJflg1i3SfDEaCkhL1umi3kf8O4zxbEAL3gKqFoR3sJVDsrGu%2Bk1nRVwVlVFJLqPme6llcCzykgdjc9ioBrpCVEd3/Ep3tYBWGI9uREEPPoxlgpB6sRS/aDK4WiEwxXM6J5lW3FlUN6ZyCrzKSsfOFAVZCrIewUELOmDmSe8S4gpoo/WkF/3%2BxH1t6%2BIJaoiGXGt08AMUVVCp3RVi2IrdJuTKiKKexHKkEMVRFDW1SwDVVPggxVy51RpWLGoXnWLkZEEhMQs1rjLIghYO2D6G9OhTB0GfMu3w4t0n/DG9sEEJuw%2BVTdT1EtRocq0lUbRGUEq4axqM1HR9Bgw5hKoK%2Bctvx2vzOGlpSG2Vkbq4gmbe0rwFmCCH%2BkzMPapRqmcvlfWNNuPMh7CGkn0xnEpkKY1YBVFYY%2BpRXvrZJMBjGmq79K%2BmHRsmburW1NCnQ4njDYrCOvAsaUIFZZmau8Z04T42f9vjwTS1fP1nQQm3J827g6gxhr6KgSxNRr5LdKl6f9NhHEUMkrqxETbaieC6gAsUnVsMibakdriQUxDkR7qslvBzHV51xtXMgKm1Lzpa6IqcOm0evlN0Bj6Z8Yazz7PlMPNSyICTILEb3tingh68KxIMa/1%2B5iajpN2UarGYjKDGt6UtVuVIv8v71wqapiVt2O5T6veDHJpmVUdg68wNNRI6aMz1sQGwBjna0rWJ%2BdaU2iztnUe4cFZgjXe1YQsldj2RHElFYTqs9E6sS%2B/T1LJTfy0quuhiFTU7pIONiQkdHpItZvT%2BB3h7zJo0BMtclWGroivJrQLtcVGrEFsbz9ytWGWAliVhhjQpIawr5VlJRVMRSIIZ4rL1hNc9LPxn51NmxVf//qfbwFiLEuNuoHq3U7SsuI6jiQ7BsGYqN/G4ip2o4MmI7aBlwBybd7YLJwvto8FvG5yJZRtEKvjG7zVsGQrcRuGZJVIJk9hxkNLvr8f7In/60g1t03KppXyAaxDhBmvc8qQ34r2i2ZDLYqzeN0EFMOBtyBK%2BKzs89C5TRkFMQmVFumyoNQEOaBsexee0RrEnFTKjZEpH%2BJAsTQJp9RzVwXCPNUddGWJF3DixFhuMjfYK0wLIjhhgE6VMVQGtbK4RVEVXlBLL/OeqMQETAWLVp9FJuZCsaUxpqdXO6zrSdk%2BPOUbLTsPTUdwtAVqSiIZTeuE0GMBWNP5yp7Ln%2BC3mmtfcZE3mQQU5vNMo2%2BkVroCMuMALFuENYxJNajW5sKYijbiklasi4glo13YW6CC2Jz3PsnP0vKicjTIYy51qK00p5s6jvgs/jQtQOxiM%2BJYpoxIyI9aeP23LjscxC9p1SRWV1F%2BmgQqzYoXrH%2BgpgqV9ja1s%2BGb78Nwp7ahlEQU0qEvHB4C2KRDa7LzcA0pERMGD5tiBOqJ9Zx7CoYjba4p2waiKosIuxYeW8%2BVeFOgpYuXmonApiiKxCNBnuLj6cyM1pVGPHIga4qZ59oJUplDBeFMER5sqo11L1lZRUwKmAs8iAjI0kq7Uw8QIUKEK/c9O7WnlPyH7ukCyBNXU8DMtTvmwxhmXVXlRvNum6I7/Tzf/9k9FkVNxZTp6XypFGBWDVIojQSJ/p1KSZ5O7xVMrP9TvERu6siTfptTIPoLmHikw1Xq2FMBWGsvYm5H6UqYj/La0qxNMvIkmVuemJljLFYVrYNlX5dqrgtFDxVtiRPhjDLPT7ldyKMWJXpJVXZj6dBWAbEOui2PENBSFf/SxDrVMJkl5StENZNq8XMpayEsGrdVmc4VYOYpRWrCGD2bFwnCPXvWsgTfqO3Y2H1Z2RpFRkg1kVD3Q3Euk%2BkW3gE%2BRt%2Bfu5nqvmbV8R86uQiciNEA%2B6bI4Qi%2Biz029%2B0QRCPSeIpIOadsjqpPfn0woA0AGZM6nqnsd8MYwguYOY6IyqY0QKTxFm/qpSMqGqdYCER0Wp4oG0hrA5cI4COrPIqWvLWdeYk64orGDuhKqYW09%2BJtxEmxnvMcOhXtpQtbU15xJFiw6yg6MjUhqqNiBDNnl4Bq9TYqUanUd9BUYHwQNhJod9WHezkqhhiHa6QXaghbKHvzzH7BtK38l8gxgxSZgZnd4QwhebIK2xlWFMozjk6PPykoQbP%2BfYKpRHVDJYu7G6By8T7dAKxp/MyHTDVVhOZf6usim0FbhaUIf1VP5Get6KqhX6LP0lv5NlMKyY5n0xwvRYiiPuic1RQpUAVnf3ouW5vBLGf38O7Pk4CMfaG2mEICZkYg4Kwqz19gaxnK/MfIFYRwJltuTHHkaPnodKvK6r3YkMYEoyVbbITYcxzr6C93hBTklefnw28VsPJNy2V9f6e2opVwhh6ohwNYyxfzlPtMyr4RAllny7RM56KWefcx8rNHA1iVf4uKBBjViRVOYroc4kwrYxmxaG0YV4QqxL2ezdNayLFVG2cUp%2BrDPvuAjgbq/QLVnC580tlgNlHtblaFiFUNUjpyjwpdqgaWBk2Ch1c8pXnm92azSzY1uv9VO2JtnYsQNQBwKxroHUtPWEwoTOITciP3HxLTHoL6/OfKv8f5DRWpt3HgrCqeIwJLTGkSWJVi011fazfg31/skAMtVizSvjWf1cJYh7Rrjcb74SKWFVbiQ1i1mewa8TQghhuutVjRfMPELPClifouTIYGC3UV4ngq6pnCiCaOLmKDAFnRFlFIJhRBWMsmJnR/iqNWDYz1/NyNNm2A7lueJ4FVPciaw2TfZbeDGGeyVImkCFSA0ytyYytQWUwMNpVXGVgOVUw3tlfjH1e0IAeiWBhDLEoFlAmsEXbk1mwQbVwPSA2WbCP1El29STz6v0yleA3WV54fycTjOEaMeTknVd4r8hfRD6simzC7iCGmmzt2i7u0q5%2BqgBEKnhqCEPa3iBADO3Qn62Gea/p5JDzK8sOZG5kZzlJFsS8Rsd7/EmrhnkkK0%2Bf%2BfEEYE%2Bo6qAAscqKYkogNcPioosBZAc9SrZF6gWxzhoPz/dGwRILwrKtyekQ9hPI1JWxjl2IddvXVtCQbUnUWgtvTU5v21VBmFqLxgSObi1KZVtVUf3KatoiJqoKGEPEziBhSQViV4L9kyEs26ZEPwNTJCELVvVQF5mgf7p%2BH89b6Cm6qG6C%2BYjujd3OPQXEGBqTidmVFkf9KIihnMazIcxIYEKCF1Jrafk%2BE1uTlrXpJHPnBbAZ5rHfnuOoLCpk6KrWRr29Ktbteyjakx1ADOEY3x3EPFVYL4ixdBeoalgEoJQQ5n0psH6fSSauaCnKVBCryLfcww5jXn2zpw398dy4p00MntxinQhi6gQE9Bh0x2vlnXKOluotlbUosGS0YVGAQoMYyovq7h7tBmOW64oCMssGOcVUe2HsLA8zU9akZyE/0b5hjx4g1qWaNgnCGO3jKGSwQMzyVsnQcalBLPPC0NVjTJVMYtXYTtu3FsZ6gxhSR/vJbJALLO%2BFscnVsOznVU/YWnz70Au8t1SPFrFnqz4IGIu0ZCPtDJSYexqIIYxWK6U1qli1haLzjg9CRLrQ8kebzRnZij1VHxaJ4IoIh9nX6ur7METBV1WYiDAV6fnjNWyNglhEG5fRMmVBbGLI9%2BS1VznhvuDyMhC7K%2B8uiGmnHFEPvGfqowOIKaoInpZkF7%2B5yBs4MuuxC4hFqlmRv/M0xm41bkWItk%2BpiClgTP2S5P3fIkMqCy4LYibN2BsrZmhT0SvwYuWkoaqgHcO/UfDRpRqmBjGvhlSRJaeGsWz%2Bn6WljHqOOoAYyryXbfK9XmJ7tACxyII70UCvqys%2BIug2mxqA1gaqQAvxWYgpma5edGj9iWKTQP5NFIhF/YY8zxz6GaqujFWCGOPvs3wcvdd7oeUFIOY1H3wzdGVAtCLax7voZ1uubNE86jyyIi1YsGUF4ei1qQjRZf5dJoghbDgU078VMFYFYpNijiL3w0LLgliL9swJWjA1iEWMMqMTedFFcTKIqfNAsxpCtAkrsxqW%2BX5POi9EOgAy2Jx9P6tBrMIQeUqXJjtIFK3W7nEIiHWBsakAGJnaY8SoeJ2BLUCX0c5VxRMhN1blJK5X68cGMWQ1KSpQftJKKX7Pt7%2Bhsm1BBZmjIKwbiHXaayLXNfIsLOQcphGzhtROy3SsBDHUmzkrpPuphI6u6jACf7PeWZ2CwD3ngW0QqQSx6PV5EtxbTVcZFTF0ZRwZZI6CsFNArFPOZGTdWtA5HMQmZFEyv3NGO6WOXWDknzEMFzPt10jFTdlmYrdZIlVDZOWHdS8jBgeeQAwBqxUpEndmu2ogQz1DbLjptidF4qyy/2aPw0AMsemzWpQseERUbVA9feQCxFww0SDmHRypAjHlC8WVx98U8a%2BnPeP9PVYQy5wvb4wPqwqm1IxZW2OdQKx7NBkDxBbGDgUxZMtKdVNnPxc5uRjt/bNK/1FjX8/5RE%2BUIv4uA8SqDCO9z%2Bkpobqo6h7jfkG105AbNQLEvEMc1W38btFkmXs6k4%2B70DNErB/VimVbMOrJw4ppHPRDwvj9GaG8GsQyNg1q%2BxB1%2B/2EUXg0hHnaZ1eVxUhWZnSQxaoli3q8dWhDqicmp4BYVJC/VhjDnfW9fjjVkyTqDRMBA8g2UQWEZdvSDICK2HKwzGbRz0W2LfsWEMs45CM/C10J6%2Bwt1gW%2BEM%2B6evCL%2BVwuiB0ecRTZdJUtx%2BjipYgwypahWRAWXfSzE33MShYqIsbjp5aFXtYE2BtArMvnRbWoKghDu%2B1XCvKZL13sPQ09vZzdGxaCFsRGRBEp22JsCPPCCkoI2yF5oGPV1RtdhXyBmLA4sTaRTGWMMbnMEPKzMyhV05Fo65uIBpYRRM56Hje7ckFsBIxZH26FJiwy%2BaIEE5QWr9ptPNKyQ/2GrBYv66XGXvgnghjyc1kvrt1BLKITYyZLdNV7Wp5H9r17wkvZ8SDGtC84EcQqx5TR1bhM%2BCyqIqaOevK6WLMW8qzWK2KnsiCGb1F64L9aM6u2rjgBxNDTnMznkGFqvUcBiEU38sktSlS0jArE0J/dYcqwIvi8GsSy049RE95JC28FiKGuOWNoAyl9YIIYEsYQL1kVU/ZqeUDmPC0I1a9xnyu4QOtgulbDkK75SKEmKh/tjSCmqjIoIlW8E5un6MMqQGySpUnVtGS2RYlq7SHb/FW%2BZor79iTNaJc1iQJiqLaUB8I6eC5FJpkYAPakO2Ev1k/TkxMBjek9p1jEUb9xgolrh6lJhR5RZWJdnTeJMLhlew92ADHVvWr9XgtZxRUxRRuIWWlimMcqN9Q7U8YOk6ITK2ZsA2AViGXE%2BpZEhwUxXiXMKsSvrrAwYQxdFXsjiCnXwgUj7Lolm5qMCIs7tCU9cTHK9gHrnCGE5NVmlEyBPtMCo0Nw8YJYXUUM8aKnOAcsIEOsOxMhLFuBqnopfXurEL2euEAM2T/vCmIe0b0qciMajYKcNsr89s6VsCmaNUXg%2BsSJyZMqYkwQQ51rZWUsUs3NeHRNAzHGvXiap9iE3NxSH7EJIIZwf0fmialy1zxtsK6xVB0hLHr/o6wRKkBMsQBWiJ0RbvcI3ROrIsacorTAmBdMq%2BwqVPFLCs/Iieau3jix6dW9D7NtM8FRPyqmvauueT4HXQ3LbAzKjDfUYloJhp4s0Yw%2BA5FzmV2guhurZtoCT9fU6z2Izi3Mbp6We5kt4I/aTkxuSU6cRmdPB0bWO8ta2BEuPZ//YW5OUyAsa1aryGm0vj16WwDZzeUkQX4VTEYWMstUbgTEOr1JWyuGV/828lnoShbD85CRyvGtisWAMcRk8JPUZEEMl7OLeLaZa29n7Zvn8z9d3iY6PQDshyqSNahu1ymDdqdUwCrbAVHbEWvZvntLIxIvlGlPoqrHqAq3dQAjcw2/WVCoJimtFWdmLFSnQkA3EFPbbpzQhvV85qdDaVcxNvzXYoCAmCjUWECMWZXMwg4qSgkdyjul6oXw9bKeB%2B9bYqeF7a7lyBTyq7WtCC0ZWmt0ZdD6BFcZ89ef/3vkJSySMqGW0nSHrsj9ox68mQZpIRDLhtiiR/aVRqZZb6COYdgRkIyahFa0A5VakUzQ89N3jT7cyAB7ZASXcgpqCoghcidVLx8/NV1XwMQU%2BiMzW1G5n9UdGgVoqCEmuway9ySWpOLby%2BUnusihpg3Zkyqe8ja7PaZcVK06E8ubepcFpLIalgUx1IMe8TXLnCu2gD/yN6ZXw9gbOvolxVPRYkBYdJp72nVDXsvIkMeUtl/3qljks0IgNiVX0qpzqiojsx3gI5OgaNErup0d1cRlH5RvFanqh7z6TTD79zosoOpBI0ZihkdLhj63KvNXj2h7Ijx3ALG7dlonGFPq4xhT5o8gVhH7oHwAuvTyIwusx/cMUcXsZHaa9elCPCjWtiB7gaqa2kSAWLc32aq1qMIzsRrEMi/7aoG9CsBZL%2BuZSULks6uGsEiaTZXtziWIsW/2ygep0qA0uwhn7Sg84lX1RI4qMxP9VpXVziFBrAMQqkAMaXA6eVOvfJHsBGEZI%2BpqGGPKYFAg1tHS5inDtINhbSRN52P9gYxFokNbEjkCrYhJQgh4Gb/9ybQWUYGIDhgwgnSr9BMq/ZdXaBuN8lK1XKqrYaeBWATCLG0uTzWps4k4ctgiM/UeBTHEmskc3Kk2qEWC2F/X6ZPVhVVoJBDZiRWeM6zRacT3zuoRnlzjka1Jr7/ZdBC7g5kqEIuObassRdAVMaWJq2otiA5BZOwqGNXIqTCtmviOviBlJpXZCR6dI5usdkUmEOvULmRF8iBBJlLZQk0DMVID2CLI7H3i1U90MhdExGR0BjHWG3Z0k/G2NzzxUR75gVoTyxqeUAWBnwxhbBjzxqkhniN0pR9xjlC%2BhpFKu8d8%2BVNRqvf6VqEfviiIZT2ArO1BxoPsBT80cGSnJFEBuygQYHlyeQxOvXmXnZylUV5yHm2a154n67eXXbNQWkq05g/lsm%2BNlppiT6HQUKNBrEMlqSuEZXMy0yDW9WZktEwVrUmE1QTKw0yV14jS5HSdelUaKTJGuFVhtpXXgZ11F6nUMjS1jMEFZUD4aTo9pobao0fOPhcVL2rZ9VzxPRnDVJ9sy8gjtsyO5CqmOS06nMxE5l1bwxJVgzKTzbx5RN7Cn8xZURWCKhDL6JayIKZYsLp5hbEGTbJ%2BfdGgak%2BlHh10XA1imcrYyUCGkG9kOgNK3y%2BG5rEaxFw%2BYt4NMtLyemrrRYSwrGlOr5g00u6LnKNs1hwyLgXh2py1FlGHslv%2B/1fTmtaHNwq20d%2BtiBGaZIbMnpTOVFczma%2Bo6LrI1KQXxhbE/NUxxAtyxQQhumvVGcSefscHWYE5sT/vXVyjIJF1/o9OI6kE6WgQq/xt1gUymh%2BpgrHJQb3dQpatGYeZTFvFb4xs5hNalCdNVWYG0Cq1X9mMVZQeskMO7s8144N6yCtv/IyQPiPOj2hHPMCWeQu2PLAKfY7F/6rzVFKm8slqDSGnJ9l5jqy2IuoFC1FJsj7nmVxVpYO%2B15ePpRdDy0%2BmTVpG2%2BJ393oViKnOEft3sEyvP96HG2HOyhTZo0HMq%2BFQxjKxwskVHjXoaiNrICNTsWM8tH99zlNVLFsdy7jmq0AsKx2wgFfGc8wKVaiXEqUP1dU9jA79VoWjTwKx7G/2TjdHfMEqHBgU7Ulm%2Bsgn69tU9YbBMFqNln8Z5wANYt3MAq3t7wyQKc16s2%2BenvNosbLwDhSwnKu9diqqiWlUBQwx6cuIy8nY9ER8qJBwpjS5nuYtlh16Q%2Bo/u0FYlYErJPT7NO8VBfx4WogsTYMqHzILYtmW5xMIsxMHVCCGcKO2TOeh7TGiIPY0MezJRkVtdB6PsUo9UtTvTOWTlxX2o/RFU2DMuqZGqrxKA%2Bqq%2BMLuIGZZDxfEmghAvbqQyoMJYqjQ9EoIy7QDMw8%2BUuAa0ZRFgC5bFUAb/mYMXS2DTshkEOuQQGQKGLmJI0DsNAiLDsMxtZYoLejbIcyynt%2BC2PTJkso3mRMCfRUg5vWMs8LpRBBjBOXeVWuzYn1Gid4bRYb0XMrYPCBah4yqibKFz/QdY07JdgMujzYWof9Fa64qdNLdQczb4ficFJx6KoBNrYhF2x7WSSfU27vSA4gFYxb9YsYPB1miZy3aTONfdBUO2YrMamfZuapM0T57Arpqr8hWO1GTxtUQZpExdAOwyPGZntt1OohVO4gjQSxrjYIAMVZCQ6U5IePtMfJWXAFiUYNphJVDxXR3VCdU6SWI8hWLVIkqhssYeuFMVRCtdWW/0Hr2nBMg7B8VsQUx3kOXncTr2J5ktSXRQPhWEEN4CXlbE9b/nXXuIzFEWS%2B%2BKhCz6gA91hldQSzjmVhhq9Tdkd9bEVN2Fzxr/SkQtiAGeEvKRhtFFl8FNKH/ZneI7NpaZoBYlbEje8QdbWFjefZUA0We9qtn6rhjWxIBYtEc4BMyLxVDDhUgdiqESUBM6apbsYBP14OhQcwzecfKuTwJxCJeX9FAaIUhIvO8ozzg0LmwCH3SExQi8izRkJapiH3zImOlu1zZEL1RM90RxKa3JC3fWwZizAwxJP0jnfgrNm1Eaj2iWmN9iCp1bBUw1kHDF2kvZluYqvOOqjgxvQdZ3mFIEEPcsxljV89/GwlgP8V9n1FQ6ARi01uS1j3zM6V3rWhHdPg9VXowFIh5zD9ZQctewf%2BpMKaw0EBkV3YRRHfXBaGlCop7lpFHeec75h3WODkgfBKEnaoNaw1iXd4CUNU0FKgh24rdNFlIg9eIEWK3tnRXEEP6hKmrYVXVBzXEV26cHUEs4sY/XQemjPuzVNnZhZrJIPbktA8HMesG2a0fnokZiiyMiEUOkW%2BFdF%2BuFNZn/9tqbWOX1iw72PY0GKvU1GZeYLLRbKr2ZBTGfurK3nDPIOP21M9oZF%2BcJsYPZU2ifEvQjtKMUV3kGxNi81G0FVHj%2BxXA4IVy9CKlADFkdEtHEJskfegm28g%2BO1EtFcqGhQ1j3/RjbwGx06yhTrKsSIFYBhhQN0lkYaq%2BsdWVpqwex2qIWVndylwzb1j41FbEk2i5A4ip2oQTgCwrms8CvsLm4EQQ6xQWrnK0r/z%2BJ1hWhEAsu/hVbHooY9WnigpyobLAQjSqJquVYlTDMpDPMPE8EcQ8juxTqmHRamHFxlqZi8g2NbZC/dN9MxnGOoE%2B0rS2IhbKE213cjUsBGKRh72btiJTAWQbRUZT5y1Aln0bQvoNoUTQFui3ZFaeOCllrWiq9GCMScFuIKbQBjJlEgjZhOVeqoCxCHBOALHIPcF6MUDbhpysCwtNTZ4ixo1uxOgJEdTm4W1RIvRYKK8zhDYv8n0Zhpuo34SsBloXXTSEZdscyP/2VHNmFowxvcQ8MMYCtmiWKFJuo67OIXS/zO9jAbHTKmBp%2B4rpE1HZ78nuyaNbG6zF3gp1E0LYFVUdtdGkR7yfXWCQUISUN3SFsaeXscqXJGYUkhXE2JWzrIHtpAGPTGyXR16i1kFPAjFLMsAnO6k4qRKmdNPuMDmnaiWh/0Z0qjVaFauoGqKHPdBWKAgYy7i2T4hYU1XLMhmdHf0Fr4CsooXJrBB1aUtGq9bVFkUTIMziXGCRhXwsbbroQ3yKZ0/FZGUXHyqVmWAW2qJDGSybjsw5YlqgIHx52FWW0z3AMpKDbHWUvX6gbHiuKmVsEPOcqwm2FRXRVmxwnwRh1t/3yZYmrc7ne2g22g4gltV6IfUO3r9RsSmh38gROZSsUHj0yxtCgM2Y/EKvDRZbGoXvn2rjVWvGIsA6tTU5CcQmuOYjXlQ/SN%2BohSxOq8Aj9ke%2B%2BWaHDxAwp9z4q2OGmBXTjrmX3sle1BANomXeJUJoSlUjA2EsEEM9q51bkxVawLdA2NN3TIGYt32wEMazskD4J7ErFWh/Iut3RxuMdtHPMECsw1SfteWm8nZSbEKKQSjLulwlzo981l10ETMo/HQQY7%2B0vxHCkBPnH%2B9m2H0yqcN3ithhINtRSguS6Ibs9etBG45WVw5QWiukZk8JYlfXCvXyor6%2BVjE967shcnARuuBM9VdpY3E3PTmhE6SY3md3AN4CYjBnfWs0zslBqGjtW6UfG3KKLZMgYP27SD%2BXDgDGdKln6P68wOPRPSH87jq9tWdc8ZFrQ9ZxHVFZfxqO%2BfbffJueZIeEs01OOw2GZCw7slYWp1hVRL8jPeJoout49QNzgjkuInT4qTWInOTroJ9BTiciwNgzURqRKEQgrGs10nvNqsLhEYMPDBDztsgU9hVX1dhsKsGkfNvoi1U2xeNtIHb32z9v02R1uclPSilgVnGQdgoImwf1m57CRJUFBt6QeoZlhnUx/QZp1u/WBcQshrGKF8eoAbRVM8Z228%2B04KJRbRMmMBGTv0/P9ORg78z6fmxFrFPkydWN6V0EpkNYdJFHRu9EYLlS%2BxA9j%2BoEguiCzLjOVYu6akPzanUzWYGsQQ3Poc6j9A4aXFUTq9fxzDAG4561PDNvA7G/z8Gng15qsoA/M0KcfSubXgnLgpgqrBY9iaqohjENiC0eWpG34uy56A5iFfFEUa81hLWDt7p09fu7gZjarDiqOcx4zDH3gqzwfUFsj5QthWVK6DQQQ0a8XE3ZMUGssl3JgFzl9UaCUaQt2y3oV%2BFjl/VMU8ciWYd1lFqxSuNihD1UhwSPU3IjZSCWna7ZAzNp6AGy01q90TcopBGjZXNkCv2R1b5skHtG0Ht1nlCgg9CmdAIxNOggOhyV/nmVMIaoijGuu0I%2BYKmiZde2O13m6Rqwp6LCB7FI7%2BGHFIsmorNWTGXlgYSwqGGqauLS6n3G0n4wLF7Q%2BjjrfVS94KqmbytejFQw5smhrBTts88dW1doHexAVbzu1veTIezu930WsPqBmFXQf7LmTl1JQHljVTjuK6J3ovcFcgLWc9%2BcDGF3Lyjo57jiPrdcyw6tSdX5Ygx5WK1G2Ebbb6qG3f3mj8fUbw9NBhhaUNkdxpBlfaTWxmtSWdHG6OwGjtTDWadZuy6%2BqjZ2RJzvHbjo4L2nAjH1kAUbxrK2Tqv3yq8DtyC2mZEaEEMKIydPoyLiY1Ttnuh0VLfQ8i4DHR4hvhc4T4cwq54w67M4IXeQDWLZokS17s/jfJ%2BxvljwAlfE9uC34FDTfRNblN6FXj2VVtlq6pI3yb7Ps95bVmhfCMNMencGMjSIoQ15M1ILVscBfe0XuDAwtiCWbDF2ALHqjTYLcKpw7CmAFY036iIriIAEo4r6xpYkag1BeIQpzoOyKlZh9aP8DgthdTC2IOYU3asds70Qc7o2LBpOy/g8pLkruk0xAcSY5pGngZi1khiBWk8od5eXGpVWTLmmdUtBWRDjrA9HtSYtiw%2BiZK%2BeLMv6/kyxtFBPFyoWTET%2BIUOwq7reUVd9VmTLqSCGAPQOz1H2fLCMXaMwVq0HWxBbEJMu9qzcrOpw8O45mkg9g9oYkv322sFFP5I/qFjcvSat3u/cZbNQt6rZLSqkt9SEahiiKtZhYnJBrJdh63gQQ3i2MK0nJuvYUOLo6jJ%2B9E2ekZ3paVdGNnEU4FtFwtHqn9U/LJLviQwcRhhJIiEbdS94WueRmK/oZyGNl5Ug5skO7QZijOrrQph/DXk0dJ1qijohk7EjiDHMCavGuyN5kJGWGit/LbrxRvWETAC%2BugYo53yloaZlgVVsTllPNdR9Zf33p4DYNxPt6EvOJACrvNffUjm7ArhPZ8DIvokr0%2B6na7MQmXMdQAy1MWUDexV%2BYUwQQ5ntohz0q%2BODIiaNLBhjt9e9xq9VLcpKEIvep17QrmhFvtkNv6pq9ukGC6hFuVOo9ZSA8miINAp4I9OqyMnGqF%2BbAiCi9ycqZDj6PZFRRpXRQZVaGWZ6hLVlXW1cXF0VYxsZI/Ys5LVYcMLLFG5DvyeaqDLbkFPam6xg2AiIsSqe1jZApq3IfAtFtm8QIIZouXqnGCdUxLKi%2B6lDABM99pSiffRLPcqMV33NFrJwetGSihiyeqKEJW85uhpWGW1BNIh926g9Vh6RfEnLeWKmJjDgCFVBUp2HiPZJDQqdIawTiFUHnaurYmitFhLEusRM7YGBsU9FKwxRjVBUxboZZSrMO58W6Wy%2BZCTnLuv23X3IJBsC3ymFoaNpLhMuJlhjoLRmVbFOVSAW8bpDPAvIQsSCWM8pylKNmGXizQoXb5ySjIAYyy%2BKBXoRmwKLyS3jHvH4qbErFx2eE1YqQhcQs7SbuoGYpfqC8r6rGqxQ6MS6OexnrXm899rCFfe5/igrAk/ANSnUeFIgOaMdjI51imiFIj5eDAC2VPSQXmVZcM1EarHfvBUTqMhWWxfD2DtdUhTuIxBWMVjBBLEojHVw18/cswthnGrY1TX5eMeUEaXSJ8G1tcqz1bA/ytpv6MqatxrkAaOrf6N68WBDGEK0z7CTyegNq7MbTwaxqN2CZ9Kvc/i3998rq2LsCvWCUh2I3V33D2Kxjm4KiLaUCsS6T1BOzwf1TElajC3vKlWWKcwKUX4W7LKbggfAUQkEFRs5SxCPmqBiC/dRvldsEGFVxbwAxxDSK/aVDIQttOHzJB9BDN23ZlVa2BCW8Yt6S1VMFYKOrKo96cmUFitVVTHrZscy3UW9OHSFMFXlTH1PWapqzPQTRlXMqzFjTjUqh2aYwyB7/Blea/5PrN%2BlZJp9IFUgdoK7frUH3F11zGtf4bk3rG/hXYTrrMqcsoWk9sBjQliXDUsNYpUggtKLPZ03Boip9q1M3upOVdYGgP%2B/iKOI43qFDxgbxE6dnqzWkGWF6JmKjRfWEOf0rv3A3PA6eA6xALRKnK/290JsoFFdJxIcVJmtluqWBcR%2B/vd//9%2BIiW6l/yXTyiQ7BNDBPLXD93qsiCEF2hXeZG8%2BKs8FIw4o0lpjQAAKxrwtVsSGyRKyswCPEWPlGc9XtXPYwwXoLNqoHYzaK%2B4Kxiy5lT%2Brat/ONUJmw06CiQKYt%2BDRxeB4kk7sCtg%2BikoKm/4XwmqqYneieO/3827KLNsExTlFCnjRPk5eJ3w2iCGA0wIukQW%2BCsQUWbuWZ7WjA/xVmzECYiyttBLE7u7ZbOcpOwwQtdPo2hqNvMTJDV0Xwt5raeEV4lc4uavOJ2JzY4YBPy0c7M22qqLC2ByY2hv0AIr3emTueRWMRc/xXSuz0/qcraR2ATHUS880GEs566urB3v0BTGFEWFXEPNOH1a8YHid160LjKfdigobVwFPFxBDfC7zhaZTDBbqfFsgrksRAdHORl2jqF4KVZnvKtb3PMufqW2xPfpoxRBv54jWHNJXyaJZY08DRs8jc9qJVZHqAGGVIMaanMxknDKn/TqAl/casl5eu0coZSu2DBf/blCWPUefha%2BFMYQovXKAgtEKs%2BSjenzRorYaaAPM7KLFaA92qYZNArHqtmnHgHimFUmldVNXCPN6ZSEmIC3XrhOEWauTn4WWs0Es%2BpAzRL4siEflGloCqL1i%2BazLuMdyw/odswsWoyrWBcQqQUfdLukAZSfYqnjXPNRABes6oUFM/XKRtZxAVOY8L3zHg9jbBf1KEPO25hiLO7LqkpnyVIUhRyp0qMWRsdF1yZ2M/H6EKL3K2wjxcoC2IkLdSwgLlG57UiePPna7kP1cewHTmvvq0aLCQGxzGBdGGQtJ1XmyZlJa2pzsCkD0t7FALCr87hQAHq0IIp6BLq0U1G9ExG5l9J4Ib6xO%2B1GVVx/LfoX9shd5FlgvK3ff51PVAttjQWwCiHmrbmx3%2BIjWRCGyzcBYNLqqAsTYOqlu8IWoUCtMiC0JGdNBjCUDqPbBy9yjGW2apyLGXmtWI7Ymr5uM4PheaAE6cgrO850RsSGITZXVnvJ8pyoIQ3sxTRfns0As2spnZUFW%2BgR6K5Dsew0FYZHWKCMOLfrC978uM%2BTlGVZeBQAAAABJRU5ErkJggg%3D%3D%22%2C%0A%20%20%20%20%20%20%20%20%20%20%20%20%20%20%20%20%5B%5B36.849939905468865%2C%206.421348372653224%5D%2C%20%5B36.75729987187895%2C%206.219817916110255%5D%5D%2C%0A%20%20%20%20%20%20%20%20%20%20%20%20%20%20%20%20%7B%7D%0A%20%20%20%20%20%20%20%20%20%20%20%20%29.addTo%28map_2d3c7ecd5856455cb9afe9bd1497fecb%29%3B%0A%20%20%20%20%20%20%20%20%0A%20%20%20%20%0A%20%20%20%20%20%20%20%20%20%20%20%20var%20layer_control_78799e22d17c4fe2a87343d167015181%20%3D%20%7B%0A%20%20%20%20%20%20%20%20%20%20%20%20%20%20%20%20base_layers%20%3A%20%7B%0A%20%20%20%20%20%20%20%20%20%20%20%20%20%20%20%20%20%20%20%20%22openstreetmap%22%20%3A%20tile_layer_58a3e07a398b4a05b6936038c727d571%2C%0A%20%20%20%20%20%20%20%20%20%20%20%20%20%20%20%20%7D%2C%0A%20%20%20%20%20%20%20%20%20%20%20%20%20%20%20%20overlays%20%3A%20%20%7B%0A%20%20%20%20%20%20%20%20%20%20%20%20%20%20%20%20%20%20%20%20%22sat_image%22%20%3A%20tile_layer_58e75b8242de40588639a2092e0d45ff%2C%0A%20%20%20%20%20%20%20%20%20%20%20%20%20%20%20%20%20%20%20%20%22sklearn%20cluster%22%20%3A%20image_overlay_db6c0dea003d4568b7083eecfc68bd60%2C%0A%20%20%20%20%20%20%20%20%20%20%20%20%20%20%20%20%7D%2C%0A%20%20%20%20%20%20%20%20%20%20%20%20%7D%3B%0A%20%20%20%20%20%20%20%20%20%20%20%20L.control.layers%28%0A%20%20%20%20%20%20%20%20%20%20%20%20%20%20%20%20layer_control_78799e22d17c4fe2a87343d167015181.base_layers%2C%0A%20%20%20%20%20%20%20%20%20%20%20%20%20%20%20%20layer_control_78799e22d17c4fe2a87343d167015181.overlays%2C%0A%20%20%20%20%20%20%20%20%20%20%20%20%20%20%20%20%7B%22autoZIndex%22%3A%20true%2C%20%22collapsed%22%3A%20true%2C%20%22position%22%3A%20%22topright%22%7D%0A%20%20%20%20%20%20%20%20%20%20%20%20%29.addTo%28map_2d3c7ecd5856455cb9afe9bd1497fecb%29%3B%0A%20%20%20%20%20%20%20%20%0A%3C/script%3E onload=\"this.contentDocument.open();this.contentDocument.write(    decodeURIComponent(this.getAttribute('data-html')));this.contentDocument.close();\" allowfullscreen webkitallowfullscreen mozallowfullscreen></iframe></div></div>"
            ],
            "text/plain": [
              "<folium.folium.Map at 0x7f8daad39750>"
            ]
          },
          "metadata": {}
        }
      ]
    }
  ]
}